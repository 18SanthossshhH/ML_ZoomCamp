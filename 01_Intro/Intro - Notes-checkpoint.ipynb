{
 "cells": [
  {
   "cell_type": "markdown",
   "id": "f848b097",
   "metadata": {},
   "source": [
    "# Introduction to Machine Learning :\n"
   ]
  },
  {
   "cell_type": "markdown",
   "id": "99e2955b",
   "metadata": {},
   "source": [
    "# Session 1.1"
   ]
  },
  {
   "cell_type": "markdown",
   "id": "12680ce6",
   "metadata": {},
   "source": [
    "Machine Learning is a technique where Model Learns Patterns from DATA  and by this models can replicate what Experts do.\n",
    "* The information we know from the data is Features\n",
    "* `Target` is what we need to predict\n",
    "* `Model` is something that is trained from both Featured and Target So that it can make predictions about the Target             for which we don't know the value\n",
    "* The model extracts pattern from the data to make predictions.\n",
    "* Models wont predict the exact Target but predicts the Target on Average\n"
   ]
  },
  {
   "cell_type": "markdown",
   "id": "c2f938ca",
   "metadata": {},
   "source": [
    "MODEL TRAINING:                                                     \n",
    "\n"
   ]
  },
  {
   "cell_type": "markdown",
   "id": "b59fe895",
   "metadata": {},
   "source": [
    "### Features + Target ----> ML = MODEL"
   ]
  },
  {
   "cell_type": "markdown",
   "id": "564ff0bb",
   "metadata": {},
   "source": [
    "PREDICTIONS:  "
   ]
  },
  {
   "cell_type": "markdown",
   "id": "d308ab5d",
   "metadata": {},
   "source": [
    "### Features + Model = PREDICTIONS"
   ]
  },
  {
   "cell_type": "markdown",
   "id": "2dc326e9",
   "metadata": {},
   "source": [
    "# Session 1.2  ML vs Rule Based Systems :\n"
   ]
  },
  {
   "cell_type": "markdown",
   "id": "930e3010",
   "metadata": {},
   "source": [
    "In a rule based we write code to set the rules for the software and through data we receive Target, it may encounter difficulty while facing different scenarios and also it’s a difficult to write code for all possible outcomes.IN case of Machine Learning Target and Data are fed to train a Model ,We can use the model to predict the Target for which data we don’t have the Outcome\n"
   ]
  },
  {
   "cell_type": "markdown",
   "id": "f102854b",
   "metadata": {},
   "source": [
    "# Session 1.3\n"
   ]
  },
  {
   "cell_type": "markdown",
   "id": "f2b6ca25",
   "metadata": {},
   "source": [
    "There are two types of Machine Learning Techniques\n",
    "* Supervised Machine Learning \n",
    "* Unsupervised Machine Learning\n"
   ]
  },
  {
   "cell_type": "markdown",
   "id": "1381b842",
   "metadata": {},
   "source": [
    "## Supervised Machine Learning:\n"
   ]
  },
  {
   "cell_type": "markdown",
   "id": "498adc34",
   "metadata": {},
   "source": [
    "Supervised machine Learning is we train Model by feeding Examples, It is defined by its use of data and features (labeled datasets) to train algorithms that to classify data or predict outcomes approximately closer to the target\n",
    "Notation = g(X) = y \n",
    "G = Model , X = features ,y = Target\n",
    "Based on the type of Target Variable we have different types of Supervised Machine Learning:\n",
    "* Regression\n",
    "* Classification\n",
    "* Ranking (eg: recommender systems)\n",
    "\n"
   ]
  },
  {
   "cell_type": "markdown",
   "id": "f88186e3",
   "metadata": {},
   "source": [
    "# \tSession 1.4  CRISP - DM ML Process:\n"
   ]
  },
  {
   "cell_type": "markdown",
   "id": "c0fb9b21",
   "metadata": {},
   "source": [
    "                 Its Methodology for Organizing ML Projects  ,from understanding problem to deployment\n"
   ]
  },
  {
   "attachments": {
    "Crisp-DM.jfif": {
     "image/jpeg": "[encoded data removed]"
    }
   },
   "cell_type": "markdown",
   "id": "ff8103d9",
   "metadata": {},
   "source": [
    "![Crisp-DM.jfif](attachment:Crisp-DM.jfif)"
   ]
  },
  {
   "cell_type": "markdown",
   "id": "8eb6fe48",
   "metadata": {},
   "source": [
    "Business Understanding:\n",
    "* Analyze what is the problem\n",
    "* Check whether the solution needs Machine Learning or Rule Based Systems is enough\n",
    "* Define the Goal ,the goal must be Measurable (eg:reduce spam by 50%)\n"
   ]
  },
  {
   "cell_type": "markdown",
   "id": "33941b0b",
   "metadata": {},
   "source": [
    "Data Understanding:\n",
    "* Analyze the data whether it is enough or more is needed\n",
    "* Is it reliable?, Is it Large enough? , Did we track it correctly?\n"
   ]
  },
  {
   "cell_type": "markdown",
   "id": "9fefa80b",
   "metadata": {},
   "source": [
    "Data Preparation:\n",
    "* Clean the data\n",
    "* Build the Pipelines\n",
    "* Convert into Tabular Form\n"
   ]
  },
  {
   "cell_type": "markdown",
   "id": "58c7cff6",
   "metadata": {},
   "source": [
    "Modeling:\n",
    "  Training a Model\n",
    "   * Try different Models\n",
    "   * Select the Best One\n"
   ]
  },
  {
   "cell_type": "markdown",
   "id": "56f1a9c5",
   "metadata": {},
   "source": [
    "Evaluation:\n",
    "* Measure how well Model is Performing\n",
    "* Is Model good enough, have we reached the goal set in Business Understanding\n",
    "* Do we need to improve the metrics, how much have we attained the goal\n",
    "* We can go back and adjust the goal or stop working on the project after a retrospection\n"
   ]
  },
  {
   "cell_type": "markdown",
   "id": "58e7baa9",
   "metadata": {},
   "source": [
    "Evaluation + Deployment:\n",
    "* Often happens together:\n",
    "* Roll the model to all users\n",
    "* Proper Monitoring\n",
    "* Ensuring the quality and Maintainability\n"
   ]
  },
  {
   "cell_type": "markdown",
   "id": "b856255e",
   "metadata": {},
   "source": [
    "Iterate:\n",
    "ML Projects require Many Iterations\n",
    "* Start simple\n",
    "* Learn form Feedback\n",
    "* Improve\n"
   ]
  },
  {
   "cell_type": "markdown",
   "id": "c9fb5472",
   "metadata": {},
   "source": [
    "# Session 1.5  Model Selection Process:\n"
   ]
  },
  {
   "cell_type": "markdown",
   "id": "9a99025e",
   "metadata": {},
   "source": [
    "To find the best model we need to evaluate it .\n",
    "This is done by splitting the dataset into a training dataset and a validation dataset. This split is usually done as a 80/20 split for training/validation. The validation dataset is \"hidden\" from the model and we only use the training dataset for training,By comparing accuracy scores between our models, we can decide which model is better for our problem\n",
    "\n",
    "We can extract a feature matrix X and a target y from the training dataset and train a model g. We can then extract another feature matrix Xv and target yv from the validation dataset, and then obtain predictions:\n",
    "\n",
    "g(Xv) = ŷv\n",
    "\n",
    "Finally, we compare our prediction ŷv with out target yv and check how different they are, thus obtaining an accuracy score\n",
    "\n",
    "Multiple Comparisons Problem:\n",
    "When we train data with different models any one Model may get lucky based on the training data and gives the best accuracy score\n",
    "\n",
    "Validation and Test:\n",
    "To avoid Multiple Comparison Problem we split the dataset into 3 Parts:\n",
    "○ Train 60% dataset\n",
    "○ Test 20% dataset\n",
    "○ Validate 20% dataset\n",
    "\n",
    "Model Selection:\n",
    "Split the data\n",
    "Train the models with Train dataset \n",
    "Validate with the Validation dataset \n",
    "Select the model with best accuracy score \n",
    "Test the model with Test data\n",
    "Check whether the score matches with validation data\n"
   ]
  },
  {
   "cell_type": "markdown",
   "id": "e6c2efb1",
   "metadata": {},
   "source": [
    "# Session 1.6"
   ]
  },
  {
   "cell_type": "markdown",
   "id": "ee72bb99",
   "metadata": {},
   "source": [
    "Setting up the Environment"
   ]
  },
  {
   "cell_type": "markdown",
   "id": "d4f2f1c9",
   "metadata": {},
   "source": [
    "You need:\n",
    "\n",
    "* Python 3.9 (note that videos use 3.8)\n",
    "* NumPy, Pandas and Scikit-Learn (latest available versions)\n",
    "* Matplotlib and Seaborn\n",
    "* Jupyter notebooks"
   ]
  },
  {
   "cell_type": "code",
   "execution_count": 4,
   "id": "de6ffec6",
   "metadata": {},
   "outputs": [],
   "source": [
    " import numpy as np"
   ]
  },
  {
   "cell_type": "code",
   "execution_count": 5,
   "id": "0397237e",
   "metadata": {},
   "outputs": [],
   "source": [
    "import pandas as pd"
   ]
  },
  {
   "cell_type": "markdown",
   "id": "213f2b14",
   "metadata": {},
   "source": [
    "# Session 1.7 INTRODUCTION TO NUMPY"
   ]
  },
  {
   "cell_type": "markdown",
   "id": "db9bd33b",
   "metadata": {},
   "source": [
    "NumPy is the fundamental package for scientific computing in Python. It is a Python library that provides a multidimensional array object, various derived objects (such as masked arrays and matrices), and an assortment of routines for fast operations on arrays, including mathematical, logical, shape manipulation, sorting, selecting, I/O, discrete Fourier transforms, basic linear algebra, basic statistical operations, random simulation and much more.To learn more about numpy check out the numpy documentation -https://numpy.org/doc/stable/"
   ]
  },
  {
   "cell_type": "markdown",
   "id": "a43d5a17",
   "metadata": {},
   "source": [
    "# Session 1.8 Linear Algebra Refresher"
   ]
  },
  {
   "cell_type": "markdown",
   "id": "26dbcda2",
   "metadata": {},
   "source": [
    "## Vector Operations"
   ]
  },
  {
   "cell_type": "code",
   "execution_count": 6,
   "id": "175c6a45",
   "metadata": {},
   "outputs": [],
   "source": [
    "u = np.array([2,4,5,6])"
   ]
  },
  {
   "cell_type": "code",
   "execution_count": 7,
   "id": "c6e23470",
   "metadata": {},
   "outputs": [
    {
     "data": {
      "text/plain": [
       "array([ 4,  8, 10, 12])"
      ]
     },
     "execution_count": 7,
     "metadata": {},
     "output_type": "execute_result"
    }
   ],
   "source": [
    "#scalar Multiplication\n",
    "2 * u"
   ]
  },
  {
   "cell_type": "code",
   "execution_count": 8,
   "id": "9fd71dec",
   "metadata": {},
   "outputs": [],
   "source": [
    "v = np.array([1,0,0,2])"
   ]
  },
  {
   "cell_type": "code",
   "execution_count": 9,
   "id": "31fe91b9",
   "metadata": {
    "scrolled": true
   },
   "outputs": [
    {
     "data": {
      "text/plain": [
       "array([3, 4, 5, 8])"
      ]
     },
     "execution_count": 9,
     "metadata": {},
     "output_type": "execute_result"
    }
   ],
   "source": [
    "#Addition\n",
    "u + v"
   ]
  },
  {
   "cell_type": "code",
   "execution_count": 10,
   "id": "44ebc18e",
   "metadata": {},
   "outputs": [
    {
     "data": {
      "text/plain": [
       "array([1, 4, 5, 4])"
      ]
     },
     "execution_count": 10,
     "metadata": {},
     "output_type": "execute_result"
    }
   ],
   "source": [
    "#Subtraction\n",
    "u - v"
   ]
  },
  {
   "cell_type": "markdown",
   "id": "45c95f00",
   "metadata": {},
   "source": [
    "## Multiplication"
   ]
  },
  {
   "cell_type": "markdown",
   "id": "5a01adb7",
   "metadata": {},
   "source": [
    "### Vector - Vector Multiplication (Dot product)"
   ]
  },
  {
   "cell_type": "code",
   "execution_count": 21,
   "id": "05baaf49",
   "metadata": {},
   "outputs": [
    {
     "data": {
      "text/plain": [
       "array([ 2,  0,  0, 12])"
      ]
     },
     "execution_count": 21,
     "metadata": {},
     "output_type": "execute_result"
    }
   ],
   "source": [
    "u * v"
   ]
  },
  {
   "cell_type": "markdown",
   "id": "73ca4e62",
   "metadata": {},
   "source": [
    "Here all elements of `u` are multiplied with respective elements of `v` and the sum of results is `Dot Product` , In above example of u * v it is  `2+ 0 + 0 + 12 = 14`"
   ]
  },
  {
   "cell_type": "code",
   "execution_count": 17,
   "id": "20b4cecc",
   "metadata": {},
   "outputs": [],
   "source": [
    " def vector_vector_multiplication(u, v):\n",
    "        assert u.shape[0] == v.shape[0]\n",
    "        \n",
    "        n = u.shape[0]\n",
    "        \n",
    "        result = 0.0   #we created a result variable and product of elements of u and v are added here\n",
    "        \n",
    "        for i in range(n):\n",
    "            result = result + u[i] * v[i] \n",
    "        \n",
    "        return result"
   ]
  },
  {
   "cell_type": "code",
   "execution_count": 18,
   "id": "e867fafe",
   "metadata": {},
   "outputs": [
    {
     "data": {
      "text/plain": [
       "14.0"
      ]
     },
     "execution_count": 18,
     "metadata": {},
     "output_type": "execute_result"
    }
   ],
   "source": [
    "vector_vector_multiplication(u, v) "
   ]
  },
  {
   "cell_type": "code",
   "execution_count": 19,
   "id": "317be48a",
   "metadata": {},
   "outputs": [
    {
     "data": {
      "text/plain": [
       "14"
      ]
     },
     "execution_count": 19,
     "metadata": {},
     "output_type": "execute_result"
    }
   ],
   "source": [
    "u.dot(v)  # dot function also returns the same result"
   ]
  },
  {
   "cell_type": "markdown",
   "id": "36222181",
   "metadata": {},
   "source": [
    "### Matrix - Vector Multiplication"
   ]
  },
  {
   "cell_type": "code",
   "execution_count": 20,
   "id": "33e12c8e",
   "metadata": {},
   "outputs": [],
   "source": [
    "U = np.array([\n",
    "    [2,4,5,6],\n",
    "    [1,2,1,2],\n",
    "    [3,1,2,1],\n",
    "])\n"
   ]
  },
  {
   "cell_type": "code",
   "execution_count": 36,
   "id": "4f2fbe78",
   "metadata": {},
   "outputs": [],
   "source": [
    "def matrix_vector_multiplication(U, V):\n",
    "    assert U.shape[1] == V.shape[0]\n",
    "    \n",
    "    num_rows = U.shape[0]\n",
    "    \n",
    "    result = np.zeros(num_rows)\n",
    "    \n",
    "    for i in range(num_rows):\n",
    "        result[i] = vector_vector_multiplication(U[i], v)\n",
    "        \n",
    "    return result\n",
    "    "
   ]
  },
  {
   "cell_type": "code",
   "execution_count": 37,
   "id": "0067fce6",
   "metadata": {},
   "outputs": [
    {
     "data": {
      "text/plain": [
       "array([14.,  5.,  5.])"
      ]
     },
     "execution_count": 37,
     "metadata": {},
     "output_type": "execute_result"
    }
   ],
   "source": [
    "matrix_vector_multiplication(U, v)"
   ]
  },
  {
   "cell_type": "code",
   "execution_count": 38,
   "id": "960aa721",
   "metadata": {},
   "outputs": [
    {
     "data": {
      "text/plain": [
       "array([14,  5,  5])"
      ]
     },
     "execution_count": 38,
     "metadata": {},
     "output_type": "execute_result"
    }
   ],
   "source": [
    "U.dot(v) # dot function also returns the same result"
   ]
  },
  {
   "cell_type": "markdown",
   "id": "a5d570ed",
   "metadata": {},
   "source": [
    "### Matrix - Matrix Multiplication"
   ]
  },
  {
   "cell_type": "code",
   "execution_count": 66,
   "id": "b6ac738e",
   "metadata": {},
   "outputs": [],
   "source": [
    "V = np.array([\n",
    "    [1,1,2],\n",
    "    [0,0.5,1],\n",
    "    [0,2,1],\n",
    "    [2,1,0],\n",
    "])"
   ]
  },
  {
   "cell_type": "code",
   "execution_count": 67,
   "id": "d8e9c4d8",
   "metadata": {},
   "outputs": [],
   "source": [
    "def matrix_matrix_multiplication(U, V):\n",
    "    assert U.shape[1] == V.shape[0]\n",
    "    \n",
    "    num_rows = U.shape[0]\n",
    "    num_cols = V.shape[1]\n",
    "    \n",
    "    result = np.zeros((num_rows, num_cols))\n",
    "    \n",
    "    for i in range(num_cols):\n",
    "        vi = V[:, i]\n",
    "        Uvi = matrix_vector_multiplication(U, vi)\n",
    "        result[:, i] = Uvi\n",
    "    \n",
    "    return result"
   ]
  },
  {
   "cell_type": "code",
   "execution_count": 69,
   "id": "12c22680",
   "metadata": {},
   "outputs": [
    {
     "data": {
      "text/plain": [
       "array([[14. , 20. , 13. ],\n",
       "       [ 5. ,  6. ,  5. ],\n",
       "       [ 5. ,  8.5,  9. ]])"
      ]
     },
     "execution_count": 69,
     "metadata": {},
     "output_type": "execute_result"
    }
   ],
   "source": [
    "U.dot(V) # dot function also returns the same result"
   ]
  },
  {
   "cell_type": "markdown",
   "id": "4bca3d3e",
   "metadata": {},
   "source": [
    "## Identity Matrix:"
   ]
  },
  {
   "cell_type": "code",
   "execution_count": 73,
   "id": "556b3cdc",
   "metadata": {},
   "outputs": [],
   "source": [
    "I = np.eye(3)"
   ]
  },
  {
   "cell_type": "code",
   "execution_count": 74,
   "id": "22900fa2",
   "metadata": {},
   "outputs": [
    {
     "data": {
      "text/plain": [
       "array([[1. , 1. , 2. ],\n",
       "       [0. , 0.5, 1. ],\n",
       "       [0. , 2. , 1. ],\n",
       "       [2. , 1. , 0. ]])"
      ]
     },
     "execution_count": 74,
     "metadata": {},
     "output_type": "execute_result"
    }
   ],
   "source": [
    "V.dot(I)"
   ]
  },
  {
   "cell_type": "markdown",
   "id": "974ac7bb",
   "metadata": {},
   "source": [
    "### Inverse"
   ]
  },
  {
   "cell_type": "code",
   "execution_count": 76,
   "id": "63a863df",
   "metadata": {},
   "outputs": [
    {
     "data": {
      "text/plain": [
       "array([[1. , 1. , 2. ],\n",
       "       [0. , 0.5, 1. ],\n",
       "       [0. , 2. , 1. ]])"
      ]
     },
     "execution_count": 76,
     "metadata": {},
     "output_type": "execute_result"
    }
   ],
   "source": [
    "#Only square matrix have inverse\n",
    "\n",
    "V_square = V[[0,1,2]]\n",
    "V_square"
   ]
  },
  {
   "cell_type": "code",
   "execution_count": 79,
   "id": "1cfcc41d",
   "metadata": {},
   "outputs": [
    {
     "data": {
      "text/plain": [
       "array([[ 1.        , -2.        ,  0.        ],\n",
       "       [ 0.        , -0.66666667,  0.66666667],\n",
       "       [ 0.        ,  1.33333333, -0.33333333]])"
      ]
     },
     "execution_count": 79,
     "metadata": {},
     "output_type": "execute_result"
    }
   ],
   "source": [
    "V_square_inverse = np.linalg.inv(V_square)\n",
    "V_square_inverse"
   ]
  },
  {
   "cell_type": "code",
   "execution_count": 80,
   "id": "925a17ac",
   "metadata": {},
   "outputs": [
    {
     "data": {
      "text/plain": [
       "array([[1., 0., 0.],\n",
       "       [0., 1., 0.],\n",
       "       [0., 0., 1.]])"
      ]
     },
     "execution_count": 80,
     "metadata": {},
     "output_type": "execute_result"
    }
   ],
   "source": [
    "V_square_inverse.dot(V_square)"
   ]
  },
  {
   "cell_type": "markdown",
   "id": "4e2ba8b6",
   "metadata": {},
   "source": [
    "# Session 1.7 INTRODUCTION TO PANDAS"
   ]
  },
  {
   "cell_type": "markdown",
   "id": "17604b60",
   "metadata": {},
   "source": [
    "pandas is an open source, BSD-licensed library providing high-performance, easy-to-use data structures and data analysis tools for the Python programming language ,To learn more about numpy check out the numpy documentation -https://pandas.pydata.org/docs/"
   ]
  },
  {
   "cell_type": "code",
   "execution_count": null,
   "id": "844f0c2a",
   "metadata": {},
   "outputs": [],
   "source": []
  },
  {
   "cell_type": "code",
   "execution_count": null,
   "id": "03300483",
   "metadata": {},
   "outputs": [],
   "source": []
  }
 ],
 "metadata": {
  "kernelspec": {
   "display_name": "Python 3 (ipykernel)",
   "language": "python",
   "name": "python3"
  },
  "language_info": {
   "codemirror_mode": {
    "name": "ipython",
    "version": 3
   },
   "file_extension": ".py",
   "mimetype": "text/x-python",
   "name": "python",
   "nbconvert_exporter": "python",
   "pygments_lexer": "ipython3",
   "version": "3.9.12"
  }
 },
 "nbformat": 4,
 "nbformat_minor": 5
}
