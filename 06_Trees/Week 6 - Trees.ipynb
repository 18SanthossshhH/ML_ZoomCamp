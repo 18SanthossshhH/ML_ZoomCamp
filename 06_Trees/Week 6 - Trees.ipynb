{
 "cells": [
  {
   "cell_type": "markdown",
   "id": "fdcd9b26",
   "metadata": {},
   "source": [
    "# Credit Scoring"
   ]
  },
  {
   "cell_type": "code",
   "execution_count": 3,
   "id": "149059a0",
   "metadata": {},
   "outputs": [],
   "source": [
    "import numpy as np\n",
    "import pandas as pd\n",
    "\n",
    "import seaborn as sns\n",
    "from matplotlib import pyplot as plt\n",
    "%matplotlib inline"
   ]
  },
  {
   "cell_type": "markdown",
   "id": "cf5f6ee2",
   "metadata": {},
   "source": [
    "# EDA"
   ]
  },
  {
   "cell_type": "code",
   "execution_count": 4,
   "id": "646f13b7",
   "metadata": {},
   "outputs": [],
   "source": [
    "df = pd.read_csv(\"Creditscoring.csv\")"
   ]
  },
  {
   "cell_type": "code",
   "execution_count": 5,
   "id": "0ae2385e",
   "metadata": {},
   "outputs": [],
   "source": [
    "df.columns = df.columns.str.lower()"
   ]
  },
  {
   "cell_type": "code",
   "execution_count": 7,
   "id": "a52f14b1",
   "metadata": {
    "scrolled": true
   },
   "outputs": [],
   "source": [
    "status_values = {\n",
    "    1 : \"ok\",\n",
    "    2 : \"default\",\n",
    "    3 : \"unk\"\n",
    "}\n",
    "\n",
    "df.status = df.status.map(status_values)\n",
    "\n",
    "\n",
    "home_values = {\n",
    "    1 : \"rent\",\n",
    "    2 : \"owner\",\n",
    "    3 : \"private\",\n",
    "    4 : \"ignore\",\n",
    "    5 : \"parents\",\n",
    "    6 : \"other\",\n",
    "    0 : \"unk\"\n",
    "}\n",
    "\n",
    "df.home = df.home.map(home_values)\n",
    "\n",
    "marital_values = {\n",
    "    1 : \"single\",\n",
    "    2 : \"married\",\n",
    "    3 : \"widow\",\n",
    "    4 : \"seperated\",\n",
    "    5 : \"divorced\",\n",
    "    6 : \"unk\"\n",
    "}\n",
    "\n",
    "df.marital = df.marital.map(marital_values)\n",
    "\n",
    "records_values = {\n",
    "    1 : \"no\",\n",
    "    2 : \"yes\",\n",
    "    0 : \"unk\"\n",
    "}\n",
    "\n",
    "df.records = df.records.map(records_values)\n",
    "\n",
    "job_values = {\n",
    "    1 : \"fixed\",\n",
    "    2 : \"partime\",\n",
    "    3 : \"freelance\",\n",
    "    4 : \"others\",\n",
    "    0 : \"unk\"\n",
    "}\n",
    "\n",
    "df.job = df.job.map(job_values)\n",
    "\n",
    "\n",
    "#do not touch this 😅😅😅"
   ]
  },
  {
   "cell_type": "code",
   "execution_count": 9,
   "id": "1804ac6b",
   "metadata": {},
   "outputs": [
    {
     "data": {
      "text/html": [
       "<div>\n",
       "<style scoped>\n",
       "    .dataframe tbody tr th:only-of-type {\n",
       "        vertical-align: middle;\n",
       "    }\n",
       "\n",
       "    .dataframe tbody tr th {\n",
       "        vertical-align: top;\n",
       "    }\n",
       "\n",
       "    .dataframe thead th {\n",
       "        text-align: right;\n",
       "    }\n",
       "</style>\n",
       "<table border=\"1\" class=\"dataframe\">\n",
       "  <thead>\n",
       "    <tr style=\"text-align: right;\">\n",
       "      <th></th>\n",
       "      <th>status</th>\n",
       "      <th>seniority</th>\n",
       "      <th>home</th>\n",
       "      <th>time</th>\n",
       "      <th>age</th>\n",
       "      <th>marital</th>\n",
       "      <th>records</th>\n",
       "      <th>job</th>\n",
       "      <th>expenses</th>\n",
       "      <th>income</th>\n",
       "      <th>assets</th>\n",
       "      <th>debt</th>\n",
       "      <th>amount</th>\n",
       "      <th>price</th>\n",
       "    </tr>\n",
       "  </thead>\n",
       "  <tbody>\n",
       "    <tr>\n",
       "      <th>0</th>\n",
       "      <td>ok</td>\n",
       "      <td>9</td>\n",
       "      <td>rent</td>\n",
       "      <td>60</td>\n",
       "      <td>30</td>\n",
       "      <td>married</td>\n",
       "      <td>no</td>\n",
       "      <td>freelance</td>\n",
       "      <td>73</td>\n",
       "      <td>129</td>\n",
       "      <td>0</td>\n",
       "      <td>0</td>\n",
       "      <td>800</td>\n",
       "      <td>846</td>\n",
       "    </tr>\n",
       "    <tr>\n",
       "      <th>1</th>\n",
       "      <td>ok</td>\n",
       "      <td>17</td>\n",
       "      <td>rent</td>\n",
       "      <td>60</td>\n",
       "      <td>58</td>\n",
       "      <td>widow</td>\n",
       "      <td>no</td>\n",
       "      <td>fixed</td>\n",
       "      <td>48</td>\n",
       "      <td>131</td>\n",
       "      <td>0</td>\n",
       "      <td>0</td>\n",
       "      <td>1000</td>\n",
       "      <td>1658</td>\n",
       "    </tr>\n",
       "    <tr>\n",
       "      <th>2</th>\n",
       "      <td>default</td>\n",
       "      <td>10</td>\n",
       "      <td>owner</td>\n",
       "      <td>36</td>\n",
       "      <td>46</td>\n",
       "      <td>married</td>\n",
       "      <td>yes</td>\n",
       "      <td>freelance</td>\n",
       "      <td>90</td>\n",
       "      <td>200</td>\n",
       "      <td>3000</td>\n",
       "      <td>0</td>\n",
       "      <td>2000</td>\n",
       "      <td>2985</td>\n",
       "    </tr>\n",
       "    <tr>\n",
       "      <th>3</th>\n",
       "      <td>ok</td>\n",
       "      <td>0</td>\n",
       "      <td>rent</td>\n",
       "      <td>60</td>\n",
       "      <td>24</td>\n",
       "      <td>single</td>\n",
       "      <td>no</td>\n",
       "      <td>fixed</td>\n",
       "      <td>63</td>\n",
       "      <td>182</td>\n",
       "      <td>2500</td>\n",
       "      <td>0</td>\n",
       "      <td>900</td>\n",
       "      <td>1325</td>\n",
       "    </tr>\n",
       "    <tr>\n",
       "      <th>4</th>\n",
       "      <td>ok</td>\n",
       "      <td>0</td>\n",
       "      <td>rent</td>\n",
       "      <td>36</td>\n",
       "      <td>26</td>\n",
       "      <td>single</td>\n",
       "      <td>no</td>\n",
       "      <td>fixed</td>\n",
       "      <td>46</td>\n",
       "      <td>107</td>\n",
       "      <td>0</td>\n",
       "      <td>0</td>\n",
       "      <td>310</td>\n",
       "      <td>910</td>\n",
       "    </tr>\n",
       "  </tbody>\n",
       "</table>\n",
       "</div>"
      ],
      "text/plain": [
       "    status  seniority   home  time  age  marital records        job  expenses  \\\n",
       "0       ok          9   rent    60   30  married      no  freelance        73   \n",
       "1       ok         17   rent    60   58    widow      no      fixed        48   \n",
       "2  default         10  owner    36   46  married     yes  freelance        90   \n",
       "3       ok          0   rent    60   24   single      no      fixed        63   \n",
       "4       ok          0   rent    36   26   single      no      fixed        46   \n",
       "\n",
       "   income  assets  debt  amount  price  \n",
       "0     129       0     0     800    846  \n",
       "1     131       0     0    1000   1658  \n",
       "2     200    3000     0    2000   2985  \n",
       "3     182    2500     0     900   1325  \n",
       "4     107       0     0     310    910  "
      ]
     },
     "execution_count": 9,
     "metadata": {},
     "output_type": "execute_result"
    }
   ],
   "source": [
    "df.head()"
   ]
  },
  {
   "cell_type": "code",
   "execution_count": 12,
   "id": "7ec87210",
   "metadata": {},
   "outputs": [],
   "source": [
    "for c in ['income', 'assets', 'debt']:\n",
    "    df[c] = df[c].replace(to_replace = 99999999, value = np.nan)"
   ]
  },
  {
   "cell_type": "code",
   "execution_count": 13,
   "id": "281ff3c4",
   "metadata": {},
   "outputs": [
    {
     "data": {
      "text/html": [
       "<div>\n",
       "<style scoped>\n",
       "    .dataframe tbody tr th:only-of-type {\n",
       "        vertical-align: middle;\n",
       "    }\n",
       "\n",
       "    .dataframe tbody tr th {\n",
       "        vertical-align: top;\n",
       "    }\n",
       "\n",
       "    .dataframe thead th {\n",
       "        text-align: right;\n",
       "    }\n",
       "</style>\n",
       "<table border=\"1\" class=\"dataframe\">\n",
       "  <thead>\n",
       "    <tr style=\"text-align: right;\">\n",
       "      <th></th>\n",
       "      <th>seniority</th>\n",
       "      <th>time</th>\n",
       "      <th>age</th>\n",
       "      <th>expenses</th>\n",
       "      <th>income</th>\n",
       "      <th>assets</th>\n",
       "      <th>debt</th>\n",
       "      <th>amount</th>\n",
       "      <th>price</th>\n",
       "    </tr>\n",
       "  </thead>\n",
       "  <tbody>\n",
       "    <tr>\n",
       "      <th>count</th>\n",
       "      <td>4455.0</td>\n",
       "      <td>4455.0</td>\n",
       "      <td>4455.0</td>\n",
       "      <td>4455.0</td>\n",
       "      <td>4421.0</td>\n",
       "      <td>4408.0</td>\n",
       "      <td>4437.0</td>\n",
       "      <td>4455.0</td>\n",
       "      <td>4455.0</td>\n",
       "    </tr>\n",
       "    <tr>\n",
       "      <th>mean</th>\n",
       "      <td>8.0</td>\n",
       "      <td>46.0</td>\n",
       "      <td>37.0</td>\n",
       "      <td>56.0</td>\n",
       "      <td>131.0</td>\n",
       "      <td>5403.0</td>\n",
       "      <td>343.0</td>\n",
       "      <td>1039.0</td>\n",
       "      <td>1463.0</td>\n",
       "    </tr>\n",
       "    <tr>\n",
       "      <th>std</th>\n",
       "      <td>8.0</td>\n",
       "      <td>15.0</td>\n",
       "      <td>11.0</td>\n",
       "      <td>20.0</td>\n",
       "      <td>86.0</td>\n",
       "      <td>11573.0</td>\n",
       "      <td>1246.0</td>\n",
       "      <td>475.0</td>\n",
       "      <td>628.0</td>\n",
       "    </tr>\n",
       "    <tr>\n",
       "      <th>min</th>\n",
       "      <td>0.0</td>\n",
       "      <td>6.0</td>\n",
       "      <td>18.0</td>\n",
       "      <td>35.0</td>\n",
       "      <td>0.0</td>\n",
       "      <td>0.0</td>\n",
       "      <td>0.0</td>\n",
       "      <td>100.0</td>\n",
       "      <td>105.0</td>\n",
       "    </tr>\n",
       "    <tr>\n",
       "      <th>25%</th>\n",
       "      <td>2.0</td>\n",
       "      <td>36.0</td>\n",
       "      <td>28.0</td>\n",
       "      <td>35.0</td>\n",
       "      <td>80.0</td>\n",
       "      <td>0.0</td>\n",
       "      <td>0.0</td>\n",
       "      <td>700.0</td>\n",
       "      <td>1118.0</td>\n",
       "    </tr>\n",
       "    <tr>\n",
       "      <th>50%</th>\n",
       "      <td>5.0</td>\n",
       "      <td>48.0</td>\n",
       "      <td>36.0</td>\n",
       "      <td>51.0</td>\n",
       "      <td>120.0</td>\n",
       "      <td>3000.0</td>\n",
       "      <td>0.0</td>\n",
       "      <td>1000.0</td>\n",
       "      <td>1400.0</td>\n",
       "    </tr>\n",
       "    <tr>\n",
       "      <th>75%</th>\n",
       "      <td>12.0</td>\n",
       "      <td>60.0</td>\n",
       "      <td>45.0</td>\n",
       "      <td>72.0</td>\n",
       "      <td>165.0</td>\n",
       "      <td>6000.0</td>\n",
       "      <td>0.0</td>\n",
       "      <td>1300.0</td>\n",
       "      <td>1692.0</td>\n",
       "    </tr>\n",
       "    <tr>\n",
       "      <th>max</th>\n",
       "      <td>48.0</td>\n",
       "      <td>72.0</td>\n",
       "      <td>68.0</td>\n",
       "      <td>180.0</td>\n",
       "      <td>959.0</td>\n",
       "      <td>300000.0</td>\n",
       "      <td>30000.0</td>\n",
       "      <td>5000.0</td>\n",
       "      <td>11140.0</td>\n",
       "    </tr>\n",
       "  </tbody>\n",
       "</table>\n",
       "</div>"
      ],
      "text/plain": [
       "       seniority    time     age  expenses  income    assets     debt  amount  \\\n",
       "count     4455.0  4455.0  4455.0    4455.0  4421.0    4408.0   4437.0  4455.0   \n",
       "mean         8.0    46.0    37.0      56.0   131.0    5403.0    343.0  1039.0   \n",
       "std          8.0    15.0    11.0      20.0    86.0   11573.0   1246.0   475.0   \n",
       "min          0.0     6.0    18.0      35.0     0.0       0.0      0.0   100.0   \n",
       "25%          2.0    36.0    28.0      35.0    80.0       0.0      0.0   700.0   \n",
       "50%          5.0    48.0    36.0      51.0   120.0    3000.0      0.0  1000.0   \n",
       "75%         12.0    60.0    45.0      72.0   165.0    6000.0      0.0  1300.0   \n",
       "max         48.0    72.0    68.0     180.0   959.0  300000.0  30000.0  5000.0   \n",
       "\n",
       "         price  \n",
       "count   4455.0  \n",
       "mean    1463.0  \n",
       "std      628.0  \n",
       "min      105.0  \n",
       "25%     1118.0  \n",
       "50%     1400.0  \n",
       "75%     1692.0  \n",
       "max    11140.0  "
      ]
     },
     "execution_count": 13,
     "metadata": {},
     "output_type": "execute_result"
    }
   ],
   "source": [
    "df.describe().round()"
   ]
  },
  {
   "cell_type": "code",
   "execution_count": 15,
   "id": "160b43dd",
   "metadata": {},
   "outputs": [],
   "source": [
    "df = df[df.status != 'unk'].reset_index(drop = True)"
   ]
  },
  {
   "cell_type": "code",
   "execution_count": 16,
   "id": "a5b12511",
   "metadata": {},
   "outputs": [],
   "source": [
    "from sklearn.model_selection import train_test_split\n",
    "\n",
    "df_full_train, df_test = train_test_split(df, test_size=0.2, random_state=11)\n",
    "df_train, df_val = train_test_split(df_full_train, test_size=0.25, random_state=11)"
   ]
  },
  {
   "cell_type": "code",
   "execution_count": 18,
   "id": "25df1175",
   "metadata": {},
   "outputs": [],
   "source": [
    "df_train = df_train.reset_index(drop = True)\n",
    "df_val = df_val.reset_index(drop = True)\n",
    "df_test = df_test.reset_index(drop = True)"
   ]
  },
  {
   "cell_type": "code",
   "execution_count": 20,
   "id": "95c8173b",
   "metadata": {},
   "outputs": [],
   "source": [
    "y_train = (df_train.status == 'default').astype('int').values\n",
    "y_val = (df_val.status == 'default').astype('int').values\n",
    "y_test = (df_test.status == 'default').astype('int').values"
   ]
  },
  {
   "cell_type": "code",
   "execution_count": 21,
   "id": "7e03e6f1",
   "metadata": {},
   "outputs": [],
   "source": [
    "del df_train['status']\n",
    "del df_val['status']\n",
    "del df_test['status']"
   ]
  },
  {
   "cell_type": "markdown",
   "id": "428eef35",
   "metadata": {},
   "source": [
    "# Decision Trees"
   ]
  },
  {
   "cell_type": "code",
   "execution_count": 38,
   "id": "b61d22a4",
   "metadata": {},
   "outputs": [],
   "source": [
    "from sklearn.tree import DecisionTreeClassifier\n",
    "from sklearn.feature_extraction import DictVectorizer\n",
    "from sklearn.metrics import roc_auc_score"
   ]
  },
  {
   "cell_type": "code",
   "execution_count": 29,
   "id": "fd9cfb80",
   "metadata": {},
   "outputs": [],
   "source": [
    "train_dicts = df_train.fillna(0).to_dict(orient = 'records')"
   ]
  },
  {
   "cell_type": "code",
   "execution_count": 30,
   "id": "108427ba",
   "metadata": {},
   "outputs": [],
   "source": [
    "dv = DictVectorizer(sparse=False)\n",
    "X_train = dv.fit_transform(train_dicts)"
   ]
  },
  {
   "cell_type": "code",
   "execution_count": 31,
   "id": "5370f4bb",
   "metadata": {},
   "outputs": [
    {
     "data": {
      "text/plain": [
       "DecisionTreeClassifier()"
      ]
     },
     "execution_count": 31,
     "metadata": {},
     "output_type": "execute_result"
    }
   ],
   "source": [
    "dt = DecisionTreeClassifier()\n",
    "dt.fit(X_train,y_train)"
   ]
  },
  {
   "cell_type": "code",
   "execution_count": 33,
   "id": "d41cf27d",
   "metadata": {},
   "outputs": [],
   "source": [
    "val_dicts = df_val.fillna(0).to_dict(orient = 'records')\n",
    "X_val = dv.fit_transform(val_dicts)"
   ]
  },
  {
   "cell_type": "code",
   "execution_count": 37,
   "id": "08b3ce2b",
   "metadata": {},
   "outputs": [],
   "source": [
    "y_pred = dt.predict_proba(X_val)[:, 1]"
   ]
  },
  {
   "cell_type": "code",
   "execution_count": 39,
   "id": "b94a7d7e",
   "metadata": {},
   "outputs": [
    {
     "data": {
      "text/plain": [
       "0.6633209310374665"
      ]
     },
     "execution_count": 39,
     "metadata": {},
     "output_type": "execute_result"
    }
   ],
   "source": [
    "roc_auc_score(y_val, y_pred)"
   ]
  },
  {
   "cell_type": "code",
   "execution_count": 40,
   "id": "8abca3db",
   "metadata": {},
   "outputs": [
    {
     "data": {
      "text/plain": [
       "1.0"
      ]
     },
     "execution_count": 40,
     "metadata": {},
     "output_type": "execute_result"
    }
   ],
   "source": [
    "y_pred = dt.predict_proba(X_train)[:, 1]\n",
    "roc_auc_score(y_train, y_pred)"
   ]
  },
  {
   "cell_type": "code",
   "execution_count": 71,
   "id": "94841344",
   "metadata": {},
   "outputs": [
    {
     "data": {
      "text/plain": [
       "DecisionTreeClassifier(max_depth=2)"
      ]
     },
     "execution_count": 71,
     "metadata": {},
     "output_type": "execute_result"
    }
   ],
   "source": [
    "dt = DecisionTreeClassifier(max_depth=2)\n",
    "dt.fit(X_train,y_train)"
   ]
  },
  {
   "cell_type": "code",
   "execution_count": 72,
   "id": "fbc4c5a0",
   "metadata": {},
   "outputs": [
    {
     "name": "stdout",
     "output_type": "stream",
     "text": [
      "train : 0.7017132266649385\n",
      "val : 0.6876073869887143\n"
     ]
    }
   ],
   "source": [
    "y_pred = dt.predict_proba(X_train)[:, 1]\n",
    "auc = roc_auc_score(y_train, y_pred)\n",
    "print(f\"train : {auc}\")\n",
    "\n",
    "y_pred = dt.predict_proba(X_val)[:, 1]\n",
    "auc = roc_auc_score(y_val, y_pred)\n",
    "print(f\"val : {auc}\")"
   ]
  },
  {
   "cell_type": "code",
   "execution_count": 73,
   "id": "1132fdb8",
   "metadata": {},
   "outputs": [],
   "source": [
    "from sklearn.tree import export_text"
   ]
  },
  {
   "cell_type": "code",
   "execution_count": 74,
   "id": "f6480cf9",
   "metadata": {
    "scrolled": true
   },
   "outputs": [
    {
     "name": "stdout",
     "output_type": "stream",
     "text": [
      "|--- records=no <= 0.50\n",
      "|   |--- seniority <= 6.50\n",
      "|   |   |--- class: 1\n",
      "|   |--- seniority >  6.50\n",
      "|   |   |--- class: 0\n",
      "|--- records=no >  0.50\n",
      "|   |--- job=partime <= 0.50\n",
      "|   |   |--- class: 0\n",
      "|   |--- job=partime >  0.50\n",
      "|   |   |--- class: 1\n",
      "\n"
     ]
    },
    {
     "name": "stderr",
     "output_type": "stream",
     "text": [
      "C:\\Santhosh\\SoftWares\\Anaconda\\lib\\site-packages\\sklearn\\utils\\deprecation.py:87: FutureWarning: Function get_feature_names is deprecated; get_feature_names is deprecated in 1.0 and will be removed in 1.2. Please use get_feature_names_out instead.\n",
      "  warnings.warn(msg, category=FutureWarning)\n"
     ]
    }
   ],
   "source": [
    "print(export_text(dt, feature_names=dv.get_feature_names()))"
   ]
  },
  {
   "cell_type": "markdown",
   "id": "ae682a83",
   "metadata": {},
   "source": [
    "# Decision Trees Parameter Tuning"
   ]
  },
  {
   "cell_type": "code",
   "execution_count": 78,
   "id": "a80a3bef",
   "metadata": {},
   "outputs": [
    {
     "name": "stdout",
     "output_type": "stream",
     "text": [
      "   1 -> 0.613\n",
      "   2 -> 0.688\n",
      "   3 -> 0.763\n",
      "   4 -> 0.779\n",
      "   5 -> 0.784\n",
      "   6 -> 0.772\n",
      "  10 -> 0.726\n",
      "  15 -> 0.667\n",
      "  20 -> 0.666\n",
      "None -> 0.674\n"
     ]
    }
   ],
   "source": [
    "for d in [1,2,3,4,5,6,10,15,20,None]:\n",
    "    dt = DecisionTreeClassifier(max_depth=d)\n",
    "    dt.fit(X_train,y_train)\n",
    "    \n",
    "    y_pred = dt.predict_proba(X_val)[:, 1]\n",
    "    auc = roc_auc_score(y_val, y_pred)\n",
    "    \n",
    "    print('%4s -> %.3f' % (d, auc))"
   ]
  },
  {
   "cell_type": "code",
   "execution_count": 109,
   "id": "4b781574",
   "metadata": {},
   "outputs": [],
   "source": [
    "scores = []\n",
    "\n",
    "for d in [4,5,6,7,8,10,15,20]:\n",
    "    for s in [1,2,3,4,5,6,10,15,20,100,200,500]:\n",
    "        dt = DecisionTreeClassifier(max_depth=d, min_samples_leaf= s)\n",
    "        dt.fit(X_train,y_train)\n",
    "\n",
    "        y_pred = dt.predict_proba(X_val)[:, 1]\n",
    "        auc = roc_auc_score(y_val, y_pred)\n",
    "\n",
    "        scores.append((d,s,auc))"
   ]
  },
  {
   "cell_type": "code",
   "execution_count": 110,
   "id": "30e1d407",
   "metadata": {},
   "outputs": [],
   "source": [
    "columns = ['max_depth','min_sample_leaf','auc']\n",
    "df_scores = pd.DataFrame(scores,columns=columns)\n"
   ]
  },
  {
   "cell_type": "code",
   "execution_count": 111,
   "id": "2afa4815",
   "metadata": {},
   "outputs": [
    {
     "data": {
      "text/html": [
       "<div>\n",
       "<style scoped>\n",
       "    .dataframe tbody tr th:only-of-type {\n",
       "        vertical-align: middle;\n",
       "    }\n",
       "\n",
       "    .dataframe tbody tr th {\n",
       "        vertical-align: top;\n",
       "    }\n",
       "\n",
       "    .dataframe thead th {\n",
       "        text-align: right;\n",
       "    }\n",
       "</style>\n",
       "<table border=\"1\" class=\"dataframe\">\n",
       "  <thead>\n",
       "    <tr style=\"text-align: right;\">\n",
       "      <th></th>\n",
       "      <th>max_depth</th>\n",
       "      <th>min_sample_leaf</th>\n",
       "      <th>auc</th>\n",
       "    </tr>\n",
       "  </thead>\n",
       "  <tbody>\n",
       "    <tr>\n",
       "      <th>80</th>\n",
       "      <td>15</td>\n",
       "      <td>20</td>\n",
       "      <td>0.802210</td>\n",
       "    </tr>\n",
       "    <tr>\n",
       "      <th>68</th>\n",
       "      <td>10</td>\n",
       "      <td>20</td>\n",
       "      <td>0.801784</td>\n",
       "    </tr>\n",
       "    <tr>\n",
       "      <th>92</th>\n",
       "      <td>20</td>\n",
       "      <td>20</td>\n",
       "      <td>0.801280</td>\n",
       "    </tr>\n",
       "    <tr>\n",
       "      <th>44</th>\n",
       "      <td>7</td>\n",
       "      <td>20</td>\n",
       "      <td>0.799772</td>\n",
       "    </tr>\n",
       "    <tr>\n",
       "      <th>56</th>\n",
       "      <td>8</td>\n",
       "      <td>20</td>\n",
       "      <td>0.799120</td>\n",
       "    </tr>\n",
       "  </tbody>\n",
       "</table>\n",
       "</div>"
      ],
      "text/plain": [
       "    max_depth  min_sample_leaf       auc\n",
       "80         15               20  0.802210\n",
       "68         10               20  0.801784\n",
       "92         20               20  0.801280\n",
       "44          7               20  0.799772\n",
       "56          8               20  0.799120"
      ]
     },
     "execution_count": 111,
     "metadata": {},
     "output_type": "execute_result"
    }
   ],
   "source": [
    "df_scores.sort_values(by = 'auc',ascending=False).head()"
   ]
  },
  {
   "cell_type": "code",
   "execution_count": 112,
   "id": "a6fc5c33",
   "metadata": {},
   "outputs": [
    {
     "data": {
      "text/html": [
       "<div>\n",
       "<style scoped>\n",
       "    .dataframe tbody tr th:only-of-type {\n",
       "        vertical-align: middle;\n",
       "    }\n",
       "\n",
       "    .dataframe tbody tr th {\n",
       "        vertical-align: top;\n",
       "    }\n",
       "\n",
       "    .dataframe thead tr th {\n",
       "        text-align: left;\n",
       "    }\n",
       "\n",
       "    .dataframe thead tr:last-of-type th {\n",
       "        text-align: right;\n",
       "    }\n",
       "</style>\n",
       "<table border=\"1\" class=\"dataframe\">\n",
       "  <thead>\n",
       "    <tr>\n",
       "      <th></th>\n",
       "      <th colspan=\"8\" halign=\"left\">auc</th>\n",
       "    </tr>\n",
       "    <tr>\n",
       "      <th>max_depth</th>\n",
       "      <th>4</th>\n",
       "      <th>5</th>\n",
       "      <th>6</th>\n",
       "      <th>7</th>\n",
       "      <th>8</th>\n",
       "      <th>10</th>\n",
       "      <th>15</th>\n",
       "      <th>20</th>\n",
       "    </tr>\n",
       "    <tr>\n",
       "      <th>min_sample_leaf</th>\n",
       "      <th></th>\n",
       "      <th></th>\n",
       "      <th></th>\n",
       "      <th></th>\n",
       "      <th></th>\n",
       "      <th></th>\n",
       "      <th></th>\n",
       "      <th></th>\n",
       "    </tr>\n",
       "  </thead>\n",
       "  <tbody>\n",
       "    <tr>\n",
       "      <th>1</th>\n",
       "      <td>0.779339</td>\n",
       "      <td>0.783489</td>\n",
       "      <td>0.768563</td>\n",
       "      <td>0.760349</td>\n",
       "      <td>0.751119</td>\n",
       "      <td>0.709354</td>\n",
       "      <td>0.660988</td>\n",
       "      <td>0.660543</td>\n",
       "    </tr>\n",
       "    <tr>\n",
       "      <th>2</th>\n",
       "      <td>0.779339</td>\n",
       "      <td>0.781845</td>\n",
       "      <td>0.775430</td>\n",
       "      <td>0.764738</td>\n",
       "      <td>0.757787</td>\n",
       "      <td>0.707135</td>\n",
       "      <td>0.686554</td>\n",
       "      <td>0.689505</td>\n",
       "    </tr>\n",
       "    <tr>\n",
       "      <th>3</th>\n",
       "      <td>0.779339</td>\n",
       "      <td>0.785059</td>\n",
       "      <td>0.776663</td>\n",
       "      <td>0.778060</td>\n",
       "      <td>0.771403</td>\n",
       "      <td>0.722252</td>\n",
       "      <td>0.729462</td>\n",
       "      <td>0.726140</td>\n",
       "    </tr>\n",
       "    <tr>\n",
       "      <th>4</th>\n",
       "      <td>0.779339</td>\n",
       "      <td>0.787309</td>\n",
       "      <td>0.782071</td>\n",
       "      <td>0.783563</td>\n",
       "      <td>0.777062</td>\n",
       "      <td>0.744413</td>\n",
       "      <td>0.747670</td>\n",
       "      <td>0.743408</td>\n",
       "    </tr>\n",
       "    <tr>\n",
       "      <th>5</th>\n",
       "      <td>0.778715</td>\n",
       "      <td>0.785520</td>\n",
       "      <td>0.787398</td>\n",
       "      <td>0.779871</td>\n",
       "      <td>0.774577</td>\n",
       "      <td>0.743980</td>\n",
       "      <td>0.749997</td>\n",
       "      <td>0.743347</td>\n",
       "    </tr>\n",
       "    <tr>\n",
       "      <th>6</th>\n",
       "      <td>0.779151</td>\n",
       "      <td>0.779667</td>\n",
       "      <td>0.784914</td>\n",
       "      <td>0.778131</td>\n",
       "      <td>0.773950</td>\n",
       "      <td>0.745108</td>\n",
       "      <td>0.748075</td>\n",
       "      <td>0.758140</td>\n",
       "    </tr>\n",
       "    <tr>\n",
       "      <th>10</th>\n",
       "      <td>0.773767</td>\n",
       "      <td>0.783579</td>\n",
       "      <td>0.791243</td>\n",
       "      <td>0.794135</td>\n",
       "      <td>0.793647</td>\n",
       "      <td>0.769280</td>\n",
       "      <td>0.768569</td>\n",
       "      <td>0.768365</td>\n",
       "    </tr>\n",
       "    <tr>\n",
       "      <th>15</th>\n",
       "      <td>0.770702</td>\n",
       "      <td>0.780201</td>\n",
       "      <td>0.795124</td>\n",
       "      <td>0.794951</td>\n",
       "      <td>0.795242</td>\n",
       "      <td>0.793264</td>\n",
       "      <td>0.784973</td>\n",
       "      <td>0.784460</td>\n",
       "    </tr>\n",
       "    <tr>\n",
       "      <th>20</th>\n",
       "      <td>0.783517</td>\n",
       "      <td>0.785229</td>\n",
       "      <td>0.799043</td>\n",
       "      <td>0.799772</td>\n",
       "      <td>0.799120</td>\n",
       "      <td>0.801784</td>\n",
       "      <td>0.802210</td>\n",
       "      <td>0.801280</td>\n",
       "    </tr>\n",
       "    <tr>\n",
       "      <th>100</th>\n",
       "      <td>0.766987</td>\n",
       "      <td>0.786425</td>\n",
       "      <td>0.793276</td>\n",
       "      <td>0.794837</td>\n",
       "      <td>0.794234</td>\n",
       "      <td>0.794234</td>\n",
       "      <td>0.793817</td>\n",
       "      <td>0.793817</td>\n",
       "    </tr>\n",
       "    <tr>\n",
       "      <th>200</th>\n",
       "      <td>0.764929</td>\n",
       "      <td>0.777955</td>\n",
       "      <td>0.788792</td>\n",
       "      <td>0.788591</td>\n",
       "      <td>0.788591</td>\n",
       "      <td>0.788591</td>\n",
       "      <td>0.788591</td>\n",
       "      <td>0.788591</td>\n",
       "    </tr>\n",
       "    <tr>\n",
       "      <th>500</th>\n",
       "      <td>0.671368</td>\n",
       "      <td>0.671368</td>\n",
       "      <td>0.671368</td>\n",
       "      <td>0.671368</td>\n",
       "      <td>0.671368</td>\n",
       "      <td>0.671368</td>\n",
       "      <td>0.671368</td>\n",
       "      <td>0.671368</td>\n",
       "    </tr>\n",
       "  </tbody>\n",
       "</table>\n",
       "</div>"
      ],
      "text/plain": [
       "                      auc                                                    \\\n",
       "max_depth              4         5         6         7         8         10   \n",
       "min_sample_leaf                                                               \n",
       "1                0.779339  0.783489  0.768563  0.760349  0.751119  0.709354   \n",
       "2                0.779339  0.781845  0.775430  0.764738  0.757787  0.707135   \n",
       "3                0.779339  0.785059  0.776663  0.778060  0.771403  0.722252   \n",
       "4                0.779339  0.787309  0.782071  0.783563  0.777062  0.744413   \n",
       "5                0.778715  0.785520  0.787398  0.779871  0.774577  0.743980   \n",
       "6                0.779151  0.779667  0.784914  0.778131  0.773950  0.745108   \n",
       "10               0.773767  0.783579  0.791243  0.794135  0.793647  0.769280   \n",
       "15               0.770702  0.780201  0.795124  0.794951  0.795242  0.793264   \n",
       "20               0.783517  0.785229  0.799043  0.799772  0.799120  0.801784   \n",
       "100              0.766987  0.786425  0.793276  0.794837  0.794234  0.794234   \n",
       "200              0.764929  0.777955  0.788792  0.788591  0.788591  0.788591   \n",
       "500              0.671368  0.671368  0.671368  0.671368  0.671368  0.671368   \n",
       "\n",
       "                                     \n",
       "max_depth              15        20  \n",
       "min_sample_leaf                      \n",
       "1                0.660988  0.660543  \n",
       "2                0.686554  0.689505  \n",
       "3                0.729462  0.726140  \n",
       "4                0.747670  0.743408  \n",
       "5                0.749997  0.743347  \n",
       "6                0.748075  0.758140  \n",
       "10               0.768569  0.768365  \n",
       "15               0.784973  0.784460  \n",
       "20               0.802210  0.801280  \n",
       "100              0.793817  0.793817  \n",
       "200              0.788591  0.788591  \n",
       "500              0.671368  0.671368  "
      ]
     },
     "execution_count": 112,
     "metadata": {},
     "output_type": "execute_result"
    }
   ],
   "source": [
    "df_scores_pivot = df_scores.pivot(index = 'min_sample_leaf',columns = ['max_depth'],values = ['auc'])\n",
    "df_scores_pivot"
   ]
  },
  {
   "cell_type": "code",
   "execution_count": 113,
   "id": "7e70b57b",
   "metadata": {},
   "outputs": [
    {
     "data": {
      "text/plain": [
       "<AxesSubplot:xlabel='None-max_depth', ylabel='min_sample_leaf'>"
      ]
     },
     "execution_count": 113,
     "metadata": {},
     "output_type": "execute_result"
    },
    {
     "data": {
      "image/png": "[encoded data removed]",
      "text/plain": [
       "<Figure size 432x288 with 2 Axes>"
      ]
     },
     "metadata": {
      "needs_background": "light"
     },
     "output_type": "display_data"
    }
   ],
   "source": [
    "sns.heatmap(df_scores_pivot, annot=True,fmt = '.3f')"
   ]
  },
  {
   "cell_type": "code",
   "execution_count": 114,
   "id": "303753f3",
   "metadata": {},
   "outputs": [
    {
     "data": {
      "text/plain": [
       "DecisionTreeClassifier(max_depth=6, min_samples_leaf=20)"
      ]
     },
     "execution_count": 114,
     "metadata": {},
     "output_type": "execute_result"
    }
   ],
   "source": [
    "dt = DecisionTreeClassifier(max_depth=6,min_samples_leaf=20)\n",
    "dt.fit(X_train,y_train)"
   ]
  },
  {
   "cell_type": "markdown",
   "id": "94192baa",
   "metadata": {},
   "source": [
    "# Ensembles and Random Forest"
   ]
  },
  {
   "cell_type": "code",
   "execution_count": 115,
   "id": "9f24284b",
   "metadata": {},
   "outputs": [],
   "source": [
    "from sklearn.ensemble import RandomForestClassifier"
   ]
  },
  {
   "cell_type": "code",
   "execution_count": 122,
   "id": "34cca4af",
   "metadata": {},
   "outputs": [
    {
     "data": {
      "text/plain": [
       "RandomForestClassifier(n_estimators=10, random_state=1)"
      ]
     },
     "execution_count": 122,
     "metadata": {},
     "output_type": "execute_result"
    }
   ],
   "source": [
    "rf = RandomForestClassifier(n_estimators=10,random_state=1)\n",
    "rf.fit(X_train,y_train)"
   ]
  },
  {
   "cell_type": "code",
   "execution_count": 123,
   "id": "043811de",
   "metadata": {},
   "outputs": [],
   "source": [
    "y_pred = rf.predict_proba(X_val)[:, 1]"
   ]
  },
  {
   "cell_type": "code",
   "execution_count": 124,
   "id": "c4ce646d",
   "metadata": {},
   "outputs": [
    {
     "data": {
      "text/plain": [
       "0.7874819219026192"
      ]
     },
     "execution_count": 124,
     "metadata": {},
     "output_type": "execute_result"
    }
   ],
   "source": [
    "roc_auc_score(y_val,y_pred)"
   ]
  },
  {
   "cell_type": "code",
   "execution_count": 125,
   "id": "eb62a464",
   "metadata": {},
   "outputs": [],
   "source": [
    "scores = []\n",
    "\n",
    "for n in range(10, 201, 10):\n",
    "    rf = RandomForestClassifier(n_estimators=n,random_state=1)\n",
    "    rf.fit(X_train,y_train)\n",
    "    \n",
    "    y_pred = rf.predict_proba(X_val)[:, 1]\n",
    "    auc = roc_auc_score(y_val,y_pred)\n",
    "    \n",
    "    scores.append((n,auc))"
   ]
  },
  {
   "cell_type": "code",
   "execution_count": 128,
   "id": "942f5f50",
   "metadata": {},
   "outputs": [
    {
     "data": {
      "text/plain": [
       "[<matplotlib.lines.Line2D at 0x274564f9130>]"
      ]
     },
     "execution_count": 128,
     "metadata": {},
     "output_type": "execute_result"
    },
    {
     "data": {
      "image/png": "[encoded data removed]",
      "text/plain": [
       "<Figure size 432x288 with 1 Axes>"
      ]
     },
     "metadata": {
      "needs_background": "light"
     },
     "output_type": "display_data"
    }
   ],
   "source": [
    "plt.plot(df_scores.n_estimators,df_scores.auc)"
   ]
  },
  {
   "cell_type": "code",
   "execution_count": 129,
   "id": "a7d41553",
   "metadata": {},
   "outputs": [],
   "source": [
    "scores = []\n",
    "\n",
    "for d in [5,10,15]:\n",
    "    for n in range(10, 201, 10):\n",
    "        rf = RandomForestClassifier(n_estimators=n,\n",
    "                                    max_depth=d,\n",
    "                                    random_state=1)\n",
    "        rf.fit(X_train,y_train)\n",
    "\n",
    "        y_pred = rf.predict_proba(X_val)[:, 1]\n",
    "        auc = roc_auc_score(y_val,y_pred)\n",
    "\n",
    "        scores.append((d,n,auc))"
   ]
  },
  {
   "cell_type": "code",
   "execution_count": 132,
   "id": "c28b9565",
   "metadata": {},
   "outputs": [
    {
     "data": {
      "text/html": [
       "<div>\n",
       "<style scoped>\n",
       "    .dataframe tbody tr th:only-of-type {\n",
       "        vertical-align: middle;\n",
       "    }\n",
       "\n",
       "    .dataframe tbody tr th {\n",
       "        vertical-align: top;\n",
       "    }\n",
       "\n",
       "    .dataframe thead th {\n",
       "        text-align: right;\n",
       "    }\n",
       "</style>\n",
       "<table border=\"1\" class=\"dataframe\">\n",
       "  <thead>\n",
       "    <tr style=\"text-align: right;\">\n",
       "      <th></th>\n",
       "      <th>max_depth</th>\n",
       "      <th>n_estimators</th>\n",
       "      <th>auc</th>\n",
       "    </tr>\n",
       "  </thead>\n",
       "  <tbody>\n",
       "    <tr>\n",
       "      <th>0</th>\n",
       "      <td>5</td>\n",
       "      <td>10</td>\n",
       "      <td>0.821413</td>\n",
       "    </tr>\n",
       "    <tr>\n",
       "      <th>1</th>\n",
       "      <td>5</td>\n",
       "      <td>20</td>\n",
       "      <td>0.827767</td>\n",
       "    </tr>\n",
       "    <tr>\n",
       "      <th>2</th>\n",
       "      <td>5</td>\n",
       "      <td>30</td>\n",
       "      <td>0.828592</td>\n",
       "    </tr>\n",
       "    <tr>\n",
       "      <th>3</th>\n",
       "      <td>5</td>\n",
       "      <td>40</td>\n",
       "      <td>0.826429</td>\n",
       "    </tr>\n",
       "    <tr>\n",
       "      <th>4</th>\n",
       "      <td>5</td>\n",
       "      <td>50</td>\n",
       "      <td>0.827671</td>\n",
       "    </tr>\n",
       "  </tbody>\n",
       "</table>\n",
       "</div>"
      ],
      "text/plain": [
       "   max_depth  n_estimators       auc\n",
       "0          5            10  0.821413\n",
       "1          5            20  0.827767\n",
       "2          5            30  0.828592\n",
       "3          5            40  0.826429\n",
       "4          5            50  0.827671"
      ]
     },
     "execution_count": 132,
     "metadata": {},
     "output_type": "execute_result"
    }
   ],
   "source": [
    "columns = ['max_depth','n_estimators','auc']\n",
    "df_scores = pd.DataFrame(scores,columns = columns)\n",
    "df_scores.head()"
   ]
  },
  {
   "cell_type": "code",
   "execution_count": 133,
   "id": "168212cc",
   "metadata": {},
   "outputs": [
    {
     "data": {
      "image/png": "[encoded data removed]",
      "text/plain": [
       "<Figure size 432x288 with 1 Axes>"
      ]
     },
     "metadata": {
      "needs_background": "light"
     },
     "output_type": "display_data"
    }
   ],
   "source": [
    "for d in [5,10,15]:\n",
    "    df_subset = df_scores[df_scores.max_depth == d]\n",
    "    \n",
    "    plt.plot(df_subset.n_estimators,df_subset.auc,label = 'max_depth = %s' % d)\n",
    "    plt.legend()"
   ]
  },
  {
   "cell_type": "code",
   "execution_count": 134,
   "id": "27e05d05",
   "metadata": {},
   "outputs": [],
   "source": [
    "max_depth = 10"
   ]
  },
  {
   "cell_type": "code",
   "execution_count": 136,
   "id": "6ae7a170",
   "metadata": {},
   "outputs": [],
   "source": [
    "scores = []\n",
    "\n",
    "for s in [1,3,5,10,50]:\n",
    "    for n in range(10, 201, 10):\n",
    "        rf = RandomForestClassifier(n_estimators=n,\n",
    "                                    max_depth = max_depth,\n",
    "                                    min_samples_leaf= s,\n",
    "                                    random_state = 1)\n",
    "        rf.fit(X_train,y_train)\n",
    "\n",
    "        y_pred = rf.predict_proba(X_val)[:, 1]\n",
    "        auc = roc_auc_score(y_val,y_pred)\n",
    "\n",
    "        scores.append((s,n,auc))"
   ]
  },
  {
   "cell_type": "code",
   "execution_count": 137,
   "id": "d907a9d0",
   "metadata": {},
   "outputs": [
    {
     "data": {
      "text/html": [
       "<div>\n",
       "<style scoped>\n",
       "    .dataframe tbody tr th:only-of-type {\n",
       "        vertical-align: middle;\n",
       "    }\n",
       "\n",
       "    .dataframe tbody tr th {\n",
       "        vertical-align: top;\n",
       "    }\n",
       "\n",
       "    .dataframe thead th {\n",
       "        text-align: right;\n",
       "    }\n",
       "</style>\n",
       "<table border=\"1\" class=\"dataframe\">\n",
       "  <thead>\n",
       "    <tr style=\"text-align: right;\">\n",
       "      <th></th>\n",
       "      <th>min_sample_leaf</th>\n",
       "      <th>n_estimators</th>\n",
       "      <th>auc</th>\n",
       "    </tr>\n",
       "  </thead>\n",
       "  <tbody>\n",
       "    <tr>\n",
       "      <th>0</th>\n",
       "      <td>1</td>\n",
       "      <td>10</td>\n",
       "      <td>0.808406</td>\n",
       "    </tr>\n",
       "    <tr>\n",
       "      <th>1</th>\n",
       "      <td>1</td>\n",
       "      <td>20</td>\n",
       "      <td>0.829126</td>\n",
       "    </tr>\n",
       "    <tr>\n",
       "      <th>2</th>\n",
       "      <td>1</td>\n",
       "      <td>30</td>\n",
       "      <td>0.831864</td>\n",
       "    </tr>\n",
       "    <tr>\n",
       "      <th>3</th>\n",
       "      <td>1</td>\n",
       "      <td>40</td>\n",
       "      <td>0.834534</td>\n",
       "    </tr>\n",
       "    <tr>\n",
       "      <th>4</th>\n",
       "      <td>1</td>\n",
       "      <td>50</td>\n",
       "      <td>0.834831</td>\n",
       "    </tr>\n",
       "  </tbody>\n",
       "</table>\n",
       "</div>"
      ],
      "text/plain": [
       "   min_sample_leaf  n_estimators       auc\n",
       "0                1            10  0.808406\n",
       "1                1            20  0.829126\n",
       "2                1            30  0.831864\n",
       "3                1            40  0.834534\n",
       "4                1            50  0.834831"
      ]
     },
     "execution_count": 137,
     "metadata": {},
     "output_type": "execute_result"
    }
   ],
   "source": [
    "columns = ['min_sample_leaf','n_estimators','auc']\n",
    "df_scores = pd.DataFrame(scores,columns = columns)\n",
    "df_scores.head()"
   ]
  },
  {
   "cell_type": "code",
   "execution_count": 138,
   "id": "e54019ac",
   "metadata": {},
   "outputs": [
    {
     "data": {
      "image/png": "[encoded data removed]",
      "text/plain": [
       "<Figure size 432x288 with 1 Axes>"
      ]
     },
     "metadata": {
      "needs_background": "light"
     },
     "output_type": "display_data"
    }
   ],
   "source": [
    "for s in [1,3,5,10,50]:\n",
    "    df_subset = df_scores[df_scores.min_sample_leaf == s]\n",
    "    \n",
    "    plt.plot(df_subset.n_estimators,df_subset.auc,label = 'min_sample_leaf = %s' % s)\n",
    "    plt.legend()"
   ]
  },
  {
   "cell_type": "code",
   "execution_count": 140,
   "id": "ed3856c6",
   "metadata": {},
   "outputs": [],
   "source": [
    "min_samples_leaf = 3"
   ]
  },
  {
   "cell_type": "code",
   "execution_count": 142,
   "id": "49baa8fc",
   "metadata": {},
   "outputs": [
    {
     "data": {
      "text/plain": [
       "RandomForestClassifier(max_depth=10, min_samples_leaf=3, n_jobs=-1,\n",
       "                       random_state=1)"
      ]
     },
     "execution_count": 142,
     "metadata": {},
     "output_type": "execute_result"
    }
   ],
   "source": [
    "rf = RandomForestClassifier(n_estimators=100,\n",
    "                                    max_depth = max_depth,\n",
    "                                    min_samples_leaf= min_samples_leaf,\n",
    "                                    random_state = 1,\n",
    "                                    n_jobs= -1)\n",
    "rf.fit(X_train,y_train)"
   ]
  },
  {
   "cell_type": "markdown",
   "id": "05247635",
   "metadata": {},
   "source": [
    "# XGboost"
   ]
  },
  {
   "cell_type": "code",
   "execution_count": 144,
   "id": "0222ea63",
   "metadata": {
    "scrolled": true
   },
   "outputs": [
    {
     "name": "stdout",
     "output_type": "stream",
     "text": [
      "Requirement already satisfied: xgboost in c:\\santhosh\\softwares\\anaconda\\lib\\site-packages (1.7.1)\n",
      "Requirement already satisfied: numpy in c:\\santhosh\\softwares\\anaconda\\lib\\site-packages (from xgboost) (1.21.5)\n",
      "Requirement already satisfied: scipy in c:\\santhosh\\softwares\\anaconda\\lib\\site-packages (from xgboost) (1.7.3)\n"
     ]
    }
   ],
   "source": [
    "!pip install xgboost"
   ]
  },
  {
   "cell_type": "code",
   "execution_count": 145,
   "id": "83431601",
   "metadata": {},
   "outputs": [],
   "source": [
    "import xgboost as xgb"
   ]
  },
  {
   "cell_type": "code",
   "execution_count": 147,
   "id": "a3c35b62",
   "metadata": {},
   "outputs": [
    {
     "name": "stderr",
     "output_type": "stream",
     "text": [
      "C:\\Santhosh\\SoftWares\\Anaconda\\lib\\site-packages\\sklearn\\utils\\deprecation.py:87: FutureWarning: Function get_feature_names is deprecated; get_feature_names is deprecated in 1.0 and will be removed in 1.2. Please use get_feature_names_out instead.\n",
      "  warnings.warn(msg, category=FutureWarning)\n"
     ]
    }
   ],
   "source": [
    "features = dv.get_feature_names()\n",
    "dtrain = xgb.DMatrix(X_train, label = y_train, feature_names= features)\n",
    "dval = xgb.DMatrix(X_val, label = y_val, feature_names= features)"
   ]
  },
  {
   "cell_type": "code",
   "execution_count": 154,
   "id": "f8cbb2bb",
   "metadata": {},
   "outputs": [],
   "source": [
    "xgb_params = {\n",
    "    'eta' : 0.3,\n",
    "    'max_depth' : 6,\n",
    "    'min_child_weight' : 1,\n",
    "    'objective' : 'binary:logistic',\n",
    "    'nthread' : 8,\n",
    "    'seed' : 1,\n",
    "    'verbosity' : 1,\n",
    "}\n",
    "\n",
    "model = xgb.train(xgb_params, dtrain, num_boost_round= 10)"
   ]
  },
  {
   "cell_type": "code",
   "execution_count": 155,
   "id": "ed687e81",
   "metadata": {},
   "outputs": [
    {
     "data": {
      "text/plain": [
       "0.8224329101719429"
      ]
     },
     "execution_count": 155,
     "metadata": {},
     "output_type": "execute_result"
    }
   ],
   "source": [
    "y_pred = model.predict(dval)\n",
    "roc_auc_score(y_val , y_pred)"
   ]
  },
  {
   "cell_type": "code",
   "execution_count": 156,
   "id": "6f68df5c",
   "metadata": {},
   "outputs": [],
   "source": [
    "watchlist = [(dtrain, 'train'),(dval, 'val')]"
   ]
  },
  {
   "cell_type": "code",
   "execution_count": 168,
   "id": "634d98c7",
   "metadata": {
    "scrolled": true
   },
   "outputs": [],
   "source": [
    "%%capture output\n",
    "\n",
    "xgb_params = {\n",
    "    'eta' : 0.3,\n",
    "    'max_depth' : 6,\n",
    "    'min_child_weight' : 1,\n",
    "    'objective' : 'binary:logistic',\n",
    "    'eval_metric':'auc',\n",
    "    'nthread' : 8,\n",
    "    'seed' : 1,\n",
    "    'verbosity' : 1,\n",
    "}\n",
    "\n",
    "model = xgb.train(xgb_params, dtrain,evals=watchlist,verbose_eval=5, num_boost_round= 200)"
   ]
  },
  {
   "cell_type": "code",
   "execution_count": 177,
   "id": "d21c8fe7",
   "metadata": {},
   "outputs": [
    {
     "name": "stdout",
     "output_type": "stream",
     "text": [
      "[0]\ttrain-auc:0.84697\tval-auc:0.78566\n",
      "[5]\ttrain-auc:0.92374\tval-auc:0.81273\n",
      "[10]\ttrain-auc:0.95016\tval-auc:0.82366\n",
      "[15]\ttrain-auc:0.96575\tval-auc:0.82803\n",
      "[20]\ttrain-auc:0.97463\tval-auc:0.82474\n",
      "[25]\ttrain-auc:0.98257\tval-auc:0.82326\n",
      "[30]\ttrain-auc:0.98565\tval-auc:0.82253\n",
      "[35]\ttrain-auc:0.98934\tval-auc:0.82214\n",
      "[40]\ttrain-auc:0.99299\tval-auc:0.82257\n",
      "[45]\ttrain-auc:0.99525\tval-auc:0.82192\n",
      "[50]\ttrain-auc:0.99690\tval-auc:0.82158\n",
      "[55]\ttrain-auc:0.99823\tval-auc:0.82162\n",
      "[60]\ttrain-auc:0.99881\tval-auc:0.82012\n",
      "[65]\ttrain-auc:0.99905\tval-auc:0.81994\n",
      "[70]\ttrain-auc:0.99941\tval-auc:0.81969\n",
      "[75]\ttrain-auc:0.99958\tval-auc:0.81840\n",
      "[80]\ttrain-auc:0.99977\tval-auc:0.81609\n",
      "[85]\ttrain-auc:0.99989\tval-auc:0.81678\n",
      "[90]\ttrain-auc:0.99995\tval-auc:0.81545\n",
      "[95]\ttrain-auc:0.99999\tval-auc:0.81522\n",
      "[100]\ttrain-auc:1.00000\tval-auc:0.81719\n",
      "[105]\ttrain-auc:1.00000\tval-auc:0.81665\n",
      "[110]\ttrain-auc:1.00000\tval-auc:0.81746\n",
      "[115]\ttrain-auc:1.00000\tval-auc:0.81797\n",
      "[120]\ttrain-auc:1.00000\tval-auc:0.81769\n",
      "[125]\ttrain-auc:1.00000\tval-auc:0.81577\n",
      "[130]\ttrain-auc:1.00000\tval-auc:0.81707\n",
      "[135]\ttrain-auc:1.00000\tval-auc:0.81670\n",
      "[140]\ttrain-auc:1.00000\tval-auc:0.81549\n",
      "[145]\ttrain-auc:1.00000\tval-auc:0.81590\n",
      "[150]\ttrain-auc:1.00000\tval-auc:0.81756\n",
      "[155]\ttrain-auc:1.00000\tval-auc:0.81788\n",
      "[160]\ttrain-auc:1.00000\tval-auc:0.81766\n",
      "[165]\ttrain-auc:1.00000\tval-auc:0.81644\n",
      "[170]\ttrain-auc:1.00000\tval-auc:0.81550\n",
      "[175]\ttrain-auc:1.00000\tval-auc:0.81593\n",
      "[180]\ttrain-auc:1.00000\tval-auc:0.81609\n",
      "[185]\ttrain-auc:1.00000\tval-auc:0.81523\n",
      "[190]\ttrain-auc:1.00000\tval-auc:0.81470\n",
      "[195]\ttrain-auc:1.00000\tval-auc:0.81474\n",
      "[199]\ttrain-auc:1.00000\tval-auc:0.81408\n",
      "\n"
     ]
    }
   ],
   "source": [
    "s = output.stdout\n",
    "print(s)"
   ]
  },
  {
   "cell_type": "code",
   "execution_count": 182,
   "id": "f6734c11",
   "metadata": {},
   "outputs": [],
   "source": [
    "def parse_xgb_output(output):\n",
    "    results = []\n",
    "    \n",
    "    for line in output.stdout.strip().split('\\n'):\n",
    "        it_line, train_line, val_line = line.split('\\t')\n",
    "        \n",
    "        it = int(it_line.strip('[]'))\n",
    "        train = float(train_line.split(':')[1])\n",
    "        val = float(val_line.split(':')[1])\n",
    "        \n",
    "        results.append((it, train, val))\n",
    "        \n",
    "    columns = ['num_iter', 'train_auc', 'val_auc']\n",
    "    df_results = pd.DataFrame(results, columns = columns)\n",
    "    return df_results"
   ]
  },
  {
   "cell_type": "code",
   "execution_count": 185,
   "id": "8a1a1f29",
   "metadata": {},
   "outputs": [],
   "source": [
    "df_score = parse_xgb_output(output)"
   ]
  },
  {
   "cell_type": "code",
   "execution_count": 189,
   "id": "171f5c42",
   "metadata": {
    "scrolled": false
   },
   "outputs": [
    {
     "data": {
      "text/plain": [
       "<matplotlib.legend.Legend at 0x2745afb1fd0>"
      ]
     },
     "execution_count": 189,
     "metadata": {},
     "output_type": "execute_result"
    },
    {
     "data": {
      "image/png": "[encoded data removed]",
      "text/plain": [
       "<Figure size 432x288 with 1 Axes>"
      ]
     },
     "metadata": {
      "needs_background": "light"
     },
     "output_type": "display_data"
    }
   ],
   "source": [
    "plt.plot(df_score.num_iter,df_score.train_auc,label = 'train')\n",
    "plt.plot(df_score.num_iter,df_score.val_auc,label = 'val')\n",
    "plt.legend()"
   ]
  },
  {
   "cell_type": "code",
   "execution_count": 187,
   "id": "330ff8ac",
   "metadata": {},
   "outputs": [
    {
     "data": {
      "text/plain": [
       "<matplotlib.legend.Legend at 0x27454236be0>"
      ]
     },
     "execution_count": 187,
     "metadata": {},
     "output_type": "execute_result"
    },
    {
     "data": {
      "image/png": "[encoded data removed]",
      "text/plain": [
       "<Figure size 432x288 with 1 Axes>"
      ]
     },
     "metadata": {
      "needs_background": "light"
     },
     "output_type": "display_data"
    }
   ],
   "source": [
    "plt.plot(df_score.num_iter,df_score.val_auc,label = 'val')\n",
    "plt.legend()"
   ]
  },
  {
   "cell_type": "markdown",
   "id": "6fb80a9d",
   "metadata": {},
   "source": [
    "# XGBoost Parameter Tuning :"
   ]
  },
  {
   "cell_type": "code",
   "execution_count": 210,
   "id": "f9b39180",
   "metadata": {},
   "outputs": [],
   "source": [
    "scores = {}"
   ]
  },
  {
   "cell_type": "code",
   "execution_count": 226,
   "id": "d935486f",
   "metadata": {},
   "outputs": [],
   "source": [
    "%%capture output\n",
    "\n",
    "xgb_params = {\n",
    "    'eta' : 0.01,\n",
    "    'max_depth' : 6,\n",
    "    'min_child_weight' : 1,\n",
    "    \n",
    "    'objective' : 'binary:logistic',\n",
    "    'eval_metric':'auc',\n",
    "    \n",
    "    'nthread' : 8,\n",
    "    'seed' : 1,\n",
    "    'verbosity' : 1,\n",
    "}\n",
    "\n",
    "model = xgb.train(xgb_params, dtrain,\n",
    "                  evals=watchlist,verbose_eval=5,\n",
    "                  num_boost_round= 200)"
   ]
  },
  {
   "cell_type": "code",
   "execution_count": 227,
   "id": "e5164318",
   "metadata": {},
   "outputs": [
    {
     "data": {
      "text/plain": [
       "'eta=0.01'"
      ]
     },
     "execution_count": 227,
     "metadata": {},
     "output_type": "execute_result"
    }
   ],
   "source": [
    "key = 'eta=%s' % (xgb_params['eta'])\n",
    "scores[key] = parse_xgb_output(output)\n",
    "key"
   ]
  },
  {
   "cell_type": "code",
   "execution_count": 229,
   "id": "de394c46",
   "metadata": {},
   "outputs": [
    {
     "data": {
      "text/plain": [
       "<matplotlib.legend.Legend at 0x2745ab827c0>"
      ]
     },
     "execution_count": 229,
     "metadata": {},
     "output_type": "execute_result"
    },
    {
     "data": {
      "image/png": "[encoded data removed]",
      "text/plain": [
       "<Figure size 432x288 with 1 Axes>"
      ]
     },
     "metadata": {
      "needs_background": "light"
     },
     "output_type": "display_data"
    }
   ],
   "source": [
    "for key, df_score in scores.items():\n",
    "    plt.plot(df_score.num_iter, df_score.val_auc, label = key)\n",
    "plt.legend()"
   ]
  },
  {
   "cell_type": "code",
   "execution_count": 230,
   "id": "d8308a67",
   "metadata": {},
   "outputs": [],
   "source": [
    "scores = {}"
   ]
  },
  {
   "cell_type": "code",
   "execution_count": 237,
   "id": "e39bc07b",
   "metadata": {},
   "outputs": [],
   "source": [
    "%%capture output\n",
    "\n",
    "xgb_params = {\n",
    "    'eta' : 0.01,\n",
    "    'max_depth' : 10,\n",
    "    'min_child_weight' : 1,\n",
    "    \n",
    "    'objective' : 'binary:logistic',\n",
    "    'eval_metric':'auc',\n",
    "    \n",
    "    'nthread' : 8,\n",
    "    'seed' : 1,\n",
    "    'verbosity' : 1,\n",
    "}\n",
    "\n",
    "model = xgb.train(xgb_params, dtrain,\n",
    "                  evals=watchlist,verbose_eval=5,\n",
    "                  num_boost_round= 200)"
   ]
  },
  {
   "cell_type": "code",
   "execution_count": 238,
   "id": "764053a7",
   "metadata": {},
   "outputs": [
    {
     "data": {
      "text/plain": [
       "'max_depth=10'"
      ]
     },
     "execution_count": 238,
     "metadata": {},
     "output_type": "execute_result"
    }
   ],
   "source": [
    "key = 'max_depth=%s' % (xgb_params['max_depth'])\n",
    "scores[key] = parse_xgb_output(output)\n",
    "key"
   ]
  },
  {
   "cell_type": "code",
   "execution_count": 240,
   "id": "1230cf53",
   "metadata": {},
   "outputs": [
    {
     "data": {
      "text/plain": [
       "<matplotlib.legend.Legend at 0x2745ab3fb50>"
      ]
     },
     "execution_count": 240,
     "metadata": {},
     "output_type": "execute_result"
    },
    {
     "data": {
      "image/png": "[encoded data removed]",
      "text/plain": [
       "<Figure size 432x288 with 1 Axes>"
      ]
     },
     "metadata": {
      "needs_background": "light"
     },
     "output_type": "display_data"
    }
   ],
   "source": [
    "for max_depth, df_score in scores.items():\n",
    "    plt.plot(df_score.num_iter, df_score.val_auc, label = max_depth)\n",
    "\n",
    "plt.ylim(0.8, 0.84)    \n",
    "plt.legend()"
   ]
  },
  {
   "cell_type": "code",
   "execution_count": 244,
   "id": "2a91eec8",
   "metadata": {},
   "outputs": [],
   "source": [
    "del scores['max_depth=10']\n",
    "del scores['max_depth=4']\n",
    "del scores['max_depth=6']\n",
    "del scores['max_depth=3']"
   ]
  },
  {
   "cell_type": "code",
   "execution_count": 247,
   "id": "e1704109",
   "metadata": {},
   "outputs": [],
   "source": [
    "%%capture output\n",
    "\n",
    "xgb_params = {\n",
    "    'eta' : 0.01,\n",
    "    'max_depth' : 3,\n",
    "    'min_child_weight' : 30,\n",
    "    \n",
    "    'objective' : 'binary:logistic',\n",
    "    'eval_metric':'auc',\n",
    "    \n",
    "    'nthread' : 8,\n",
    "    'seed' : 1,\n",
    "    'verbosity' : 1,\n",
    "}\n",
    "\n",
    "model = xgb.train(xgb_params, dtrain,\n",
    "                  evals=watchlist,verbose_eval=5,\n",
    "                  num_boost_round= 200)"
   ]
  },
  {
   "cell_type": "code",
   "execution_count": 248,
   "id": "1cee9b16",
   "metadata": {},
   "outputs": [
    {
     "data": {
      "text/plain": [
       "'min_child_weight=30'"
      ]
     },
     "execution_count": 248,
     "metadata": {},
     "output_type": "execute_result"
    }
   ],
   "source": [
    "key = 'min_child_weight=%s' % (xgb_params['min_child_weight'])\n",
    "scores[key] = parse_xgb_output(output)\n",
    "key"
   ]
  },
  {
   "cell_type": "code",
   "execution_count": 252,
   "id": "e9c72d62",
   "metadata": {},
   "outputs": [
    {
     "data": {
      "text/plain": [
       "<matplotlib.legend.Legend at 0x2745ababbb0>"
      ]
     },
     "execution_count": 252,
     "metadata": {},
     "output_type": "execute_result"
    },
    {
     "data": {
      "image/png": "[encoded data removed]",
      "text/plain": [
       "<Figure size 432x288 with 1 Axes>"
      ]
     },
     "metadata": {
      "needs_background": "light"
     },
     "output_type": "display_data"
    }
   ],
   "source": [
    "for min_child_weight, df_score in scores.items():\n",
    "    plt.plot(df_score.num_iter, df_score.val_auc, label = min_child_weight)\n",
    " \n",
    "plt.legend()"
   ]
  },
  {
   "cell_type": "code",
   "execution_count": 253,
   "id": "e3d6cccb",
   "metadata": {},
   "outputs": [
    {
     "name": "stdout",
     "output_type": "stream",
     "text": [
      "[0]\ttrain-auc:0.75874\tval-auc:0.75396\n",
      "[5]\ttrain-auc:0.75946\tval-auc:0.75468\n",
      "[10]\ttrain-auc:0.77527\tval-auc:0.76774\n",
      "[15]\ttrain-auc:0.77527\tval-auc:0.76774\n",
      "[20]\ttrain-auc:0.79266\tval-auc:0.78043\n",
      "[25]\ttrain-auc:0.79650\tval-auc:0.78389\n",
      "[30]\ttrain-auc:0.79714\tval-auc:0.78393\n",
      "[35]\ttrain-auc:0.79811\tval-auc:0.78418\n",
      "[40]\ttrain-auc:0.79827\tval-auc:0.78410\n",
      "[45]\ttrain-auc:0.80189\tval-auc:0.78359\n",
      "[50]\ttrain-auc:0.81011\tval-auc:0.78903\n",
      "[55]\ttrain-auc:0.81110\tval-auc:0.79071\n",
      "[60]\ttrain-auc:0.81453\tval-auc:0.79435\n",
      "[65]\ttrain-auc:0.81642\tval-auc:0.79508\n",
      "[70]\ttrain-auc:0.81804\tval-auc:0.79612\n",
      "[75]\ttrain-auc:0.81919\tval-auc:0.79698\n",
      "[80]\ttrain-auc:0.82219\tval-auc:0.80065\n",
      "[85]\ttrain-auc:0.82386\tval-auc:0.80181\n",
      "[90]\ttrain-auc:0.82530\tval-auc:0.80341\n",
      "[95]\ttrain-auc:0.82648\tval-auc:0.80465\n",
      "[100]\ttrain-auc:0.82786\tval-auc:0.80586\n",
      "[105]\ttrain-auc:0.82913\tval-auc:0.80703\n",
      "[110]\ttrain-auc:0.83057\tval-auc:0.80910\n",
      "[115]\ttrain-auc:0.83255\tval-auc:0.81051\n",
      "[120]\ttrain-auc:0.83347\tval-auc:0.81149\n",
      "[125]\ttrain-auc:0.83488\tval-auc:0.81271\n",
      "[130]\ttrain-auc:0.83610\tval-auc:0.81419\n",
      "[135]\ttrain-auc:0.83753\tval-auc:0.81490\n",
      "[140]\ttrain-auc:0.83906\tval-auc:0.81572\n",
      "[145]\ttrain-auc:0.84027\tval-auc:0.81647\n",
      "[150]\ttrain-auc:0.84184\tval-auc:0.81703\n",
      "[155]\ttrain-auc:0.84299\tval-auc:0.81793\n",
      "[160]\ttrain-auc:0.84407\tval-auc:0.81819\n",
      "[165]\ttrain-auc:0.84520\tval-auc:0.81886\n",
      "[170]\ttrain-auc:0.84599\tval-auc:0.81897\n",
      "[174]\ttrain-auc:0.84690\tval-auc:0.81935\n"
     ]
    }
   ],
   "source": [
    "xgb_params = {\n",
    "    'eta' : 0.01,\n",
    "    'max_depth' : 3,\n",
    "    'min_child_weight' : 30,\n",
    "    \n",
    "    'objective' : 'binary:logistic',\n",
    "    'eval_metric':'auc',\n",
    "    \n",
    "    'nthread' : 8,\n",
    "    'seed' : 1,\n",
    "    'verbosity' : 1,\n",
    "}\n",
    "\n",
    "model = xgb.train(xgb_params, dtrain,\n",
    "                  evals=watchlist,verbose_eval=5,\n",
    "                  num_boost_round= 175)"
   ]
  },
  {
   "cell_type": "markdown",
   "id": "a8c168de",
   "metadata": {},
   "source": [
    "# Selecting the Best Model :"
   ]
  },
  {
   "cell_type": "code",
   "execution_count": 263,
   "id": "d01b356f",
   "metadata": {},
   "outputs": [
    {
     "data": {
      "text/plain": [
       "DecisionTreeClassifier(max_depth=6, min_samples_leaf=20)"
      ]
     },
     "execution_count": 263,
     "metadata": {},
     "output_type": "execute_result"
    }
   ],
   "source": [
    "dt = DecisionTreeClassifier(max_depth=6,min_samples_leaf=20)\n",
    "dt.fit(X_train,y_train)"
   ]
  },
  {
   "cell_type": "code",
   "execution_count": 270,
   "id": "3998d4a2",
   "metadata": {},
   "outputs": [
    {
     "data": {
      "text/plain": [
       "0.801786795881284"
      ]
     },
     "execution_count": 270,
     "metadata": {},
     "output_type": "execute_result"
    }
   ],
   "source": [
    "y_pred = dt.predict_proba(X_val)[:, 1]\n",
    "roc_auc_score(y_val, y_pred)\n",
    "\n",
    "#performance of decision tree"
   ]
  },
  {
   "cell_type": "code",
   "execution_count": 268,
   "id": "9565e34d",
   "metadata": {},
   "outputs": [
    {
     "data": {
      "text/plain": [
       "RandomForestClassifier(max_depth=10, min_samples_leaf=3, n_estimators=200,\n",
       "                       n_jobs=-1, random_state=1)"
      ]
     },
     "execution_count": 268,
     "metadata": {},
     "output_type": "execute_result"
    }
   ],
   "source": [
    "rf = RandomForestClassifier(n_estimators=200,\n",
    "                                    max_depth = 10,\n",
    "                                    min_samples_leaf= 3,\n",
    "                                    random_state = 1,\n",
    "                                    n_jobs= -1)\n",
    "rf.fit(X_train,y_train)"
   ]
  },
  {
   "cell_type": "code",
   "execution_count": 271,
   "id": "53fd2564",
   "metadata": {},
   "outputs": [
    {
     "data": {
      "text/plain": [
       "0.8400351055019221"
      ]
     },
     "execution_count": 271,
     "metadata": {},
     "output_type": "execute_result"
    }
   ],
   "source": [
    "y_pred = rf.predict_proba(X_val)[:, 1]\n",
    "roc_auc_score(y_val, y_pred)\n",
    "\n",
    "#performance of Random Forest"
   ]
  },
  {
   "cell_type": "code",
   "execution_count": 265,
   "id": "24a627a6",
   "metadata": {},
   "outputs": [
    {
     "name": "stdout",
     "output_type": "stream",
     "text": [
      "[0]\ttrain-auc:0.75874\tval-auc:0.75396\n",
      "[5]\ttrain-auc:0.75946\tval-auc:0.75468\n",
      "[10]\ttrain-auc:0.77527\tval-auc:0.76774\n",
      "[15]\ttrain-auc:0.77527\tval-auc:0.76774\n",
      "[20]\ttrain-auc:0.79266\tval-auc:0.78043\n",
      "[25]\ttrain-auc:0.79650\tval-auc:0.78389\n",
      "[30]\ttrain-auc:0.79714\tval-auc:0.78393\n",
      "[35]\ttrain-auc:0.79811\tval-auc:0.78418\n",
      "[40]\ttrain-auc:0.79827\tval-auc:0.78410\n",
      "[45]\ttrain-auc:0.80189\tval-auc:0.78359\n",
      "[50]\ttrain-auc:0.81011\tval-auc:0.78903\n",
      "[55]\ttrain-auc:0.81110\tval-auc:0.79071\n",
      "[60]\ttrain-auc:0.81453\tval-auc:0.79435\n",
      "[65]\ttrain-auc:0.81642\tval-auc:0.79508\n",
      "[70]\ttrain-auc:0.81804\tval-auc:0.79612\n",
      "[75]\ttrain-auc:0.81919\tval-auc:0.79698\n",
      "[80]\ttrain-auc:0.82219\tval-auc:0.80065\n",
      "[85]\ttrain-auc:0.82386\tval-auc:0.80181\n",
      "[90]\ttrain-auc:0.82530\tval-auc:0.80341\n",
      "[95]\ttrain-auc:0.82648\tval-auc:0.80465\n",
      "[100]\ttrain-auc:0.82786\tval-auc:0.80586\n",
      "[105]\ttrain-auc:0.82913\tval-auc:0.80703\n",
      "[110]\ttrain-auc:0.83057\tval-auc:0.80910\n",
      "[115]\ttrain-auc:0.83255\tval-auc:0.81051\n",
      "[120]\ttrain-auc:0.83347\tval-auc:0.81149\n",
      "[125]\ttrain-auc:0.83488\tval-auc:0.81271\n",
      "[130]\ttrain-auc:0.83610\tval-auc:0.81419\n",
      "[135]\ttrain-auc:0.83753\tval-auc:0.81490\n",
      "[140]\ttrain-auc:0.83906\tval-auc:0.81572\n",
      "[145]\ttrain-auc:0.84027\tval-auc:0.81647\n",
      "[150]\ttrain-auc:0.84184\tval-auc:0.81703\n",
      "[155]\ttrain-auc:0.84299\tval-auc:0.81793\n",
      "[160]\ttrain-auc:0.84407\tval-auc:0.81819\n",
      "[165]\ttrain-auc:0.84520\tval-auc:0.81886\n",
      "[170]\ttrain-auc:0.84599\tval-auc:0.81897\n",
      "[174]\ttrain-auc:0.84690\tval-auc:0.81935\n"
     ]
    }
   ],
   "source": [
    "xgb_params = {\n",
    "    'eta' : 0.01,\n",
    "    'max_depth' : 3,\n",
    "    'min_child_weight' : 1,\n",
    "    \n",
    "    'objective' : 'binary:logistic',\n",
    "    'eval_metric':'auc',\n",
    "    \n",
    "    'nthread' : 8,\n",
    "    'seed' : 1,\n",
    "    'verbosity' : 1,\n",
    "}\n",
    "\n",
    "model = xgb.train(xgb_params, dtrain,\n",
    "                  evals=watchlist,verbose_eval=5,\n",
    "                  num_boost_round= 175)"
   ]
  },
  {
   "cell_type": "code",
   "execution_count": 274,
   "id": "b43d0800",
   "metadata": {},
   "outputs": [
    {
     "data": {
      "text/plain": [
       "0.8193549982076418"
      ]
     },
     "execution_count": 274,
     "metadata": {},
     "output_type": "execute_result"
    }
   ],
   "source": [
    "y_pred = model.predict(dval)\n",
    "roc_auc_score(y_val, y_pred)\n",
    "\n",
    "#performance of Random Forest"
   ]
  },
  {
   "cell_type": "code",
   "execution_count": 275,
   "id": "63535437",
   "metadata": {},
   "outputs": [],
   "source": [
    "df_full_train = df_full_train.reset_index(drop = True)\n",
    "y_full_train = (df_full_train.status == 'default').astype(int).values"
   ]
  },
  {
   "cell_type": "code",
   "execution_count": 277,
   "id": "343a96b8",
   "metadata": {},
   "outputs": [],
   "source": [
    "del df_full_train['status']"
   ]
  },
  {
   "cell_type": "code",
   "execution_count": 279,
   "id": "b256b3e1",
   "metadata": {},
   "outputs": [],
   "source": [
    "dicts_full_train = df_full_train.to_dict(orient='records')\n",
    "\n",
    "dv = DictVectorizer(sparse=False)\n",
    "X_full_train = dv.fit_transform(dicts_full_train)\n",
    "\n",
    "dicts_test = df_test.to_dict(orient='records')\n",
    "X_test = dv.fit_transform(dicts_test)"
   ]
  },
  {
   "cell_type": "code",
   "execution_count": 293,
   "id": "4c5e8f24",
   "metadata": {},
   "outputs": [],
   "source": [
    "dfulltrain = xgb.DMatrix(X_full_train,\n",
    "                         label=y_full_train,\n",
    "                         )\n",
    "\n",
    "dtest = xgb.DMatrix(X_test, feature_names=dv.get_feature_names())"
   ]
  },
  {
   "cell_type": "code",
   "execution_count": 294,
   "id": "d3f4a78d",
   "metadata": {},
   "outputs": [],
   "source": [
    "xgb_params = {\n",
    "    'eta' : 0.01,\n",
    "    'max_depth' : 3,\n",
    "    'min_child_weight' : 1,\n",
    "    \n",
    "    'objective' : 'binary:logistic',\n",
    "    'eval_metric':'auc',\n",
    "    \n",
    "    'nthread' : 8,\n",
    "    'seed' : 1,\n",
    "    'verbosity' : 1,\n",
    "}\n",
    "\n",
    "model = xgb.train(xgb_params, dfulltrain,num_boost_round=175)"
   ]
  },
  {
   "cell_type": "code",
   "execution_count": 295,
   "id": "b71b2faf",
   "metadata": {},
   "outputs": [],
   "source": [
    "y_pred = model.predict(dtest)"
   ]
  },
  {
   "cell_type": "code",
   "execution_count": 296,
   "id": "cab92f74",
   "metadata": {},
   "outputs": [
    {
     "data": {
      "text/plain": [
       "0.7677297122843926"
      ]
     },
     "execution_count": 296,
     "metadata": {},
     "output_type": "execute_result"
    }
   ],
   "source": [
    "roc_auc_score(y_test,y_pred)"
   ]
  }
 ],
 "metadata": {
  "kernelspec": {
   "display_name": "Python 3 (ipykernel)",
   "language": "python",
   "name": "python3"
  },
  "language_info": {
   "codemirror_mode": {
    "name": "ipython",
    "version": 3
   },
   "file_extension": ".py",
   "mimetype": "text/x-python",
   "name": "python",
   "nbconvert_exporter": "python",
   "pygments_lexer": "ipython3",
   "version": "3.9.12"
  }
 },
 "nbformat": 4,
 "nbformat_minor": 5
}
