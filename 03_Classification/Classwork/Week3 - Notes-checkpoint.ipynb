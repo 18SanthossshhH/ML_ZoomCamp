{
 "cells": [
  {
   "cell_type": "markdown",
   "id": "43b09fff",
   "metadata": {},
   "source": [
    "# Churn Prediction Project"
   ]
  },
  {
   "cell_type": "markdown",
   "id": "8a4e2e64",
   "metadata": {},
   "source": [
    "Binary Classification :\n",
    "* g(xi) ≈ y\n",
    "* y_i ∈ {0,1}    \n",
    "    \n",
    "    Here\n",
    "    * `i` represents the customer  \n",
    "    * `1` is positive example `y` (like churn,spam)\n",
    "    * `0` is Negative example `y` (like no churn,no spam)\n",
    "    * `Info` about customers is `x`"
   ]
  },
  {
   "cell_type": "markdown",
   "id": "403d9608",
   "metadata": {},
   "source": [
    "# Data Preparation"
   ]
  },
  {
   "cell_type": "markdown",
   "id": "adc6ef0a",
   "metadata": {},
   "source": [
    "* We looked at the transpose of this data as there are lot(21) of columns\n",
    "* converted churn column to numerical value "
   ]
  },
  {
   "cell_type": "markdown",
   "id": "85cfed60",
   "metadata": {},
   "source": [
    "## Setting up the validation Framework"
   ]
  },
  {
   "cell_type": "markdown",
   "id": "93c454bb",
   "metadata": {},
   "source": [
    "we use Sci-kit learn to perform train/validation/split"
   ]
  },
  {
   "cell_type": "markdown",
   "id": "76a64eba",
   "metadata": {},
   "source": [
    "## EDA"
   ]
  },
  {
   "cell_type": "markdown",
   "id": "6937111e",
   "metadata": {},
   "source": [
    "EDA is done with df_full_train dataframe "
   ]
  },
  {
   "cell_type": "markdown",
   "id": "bba86b81",
   "metadata": {},
   "source": [
    "## Feature importance"
   ]
  },
  {
   "cell_type": "markdown",
   "id": "dcba0644",
   "metadata": {},
   "source": [
    "* `global` = the total population of the feature\n",
    "* `group` = a filtered subset of the feature's population"
   ]
  },
  {
   "cell_type": "markdown",
   "id": "41a36cb9",
   "metadata": {},
   "source": [
    "Difference:\n",
    "`global - group`\n",
    "* difference < 0 = more likely to churn.\n",
    "* difference > 0 = less likely to churn.\n"
   ]
  },
  {
   "cell_type": "markdown",
   "id": "d446880e",
   "metadata": {},
   "source": [
    "Risk ratio:\n",
    "`group / global`\n",
    "* risk > 1 = more likely to churn.\n",
    "* risk < 1 = less likely to churn."
   ]
  },
  {
   "cell_type": "markdown",
   "id": "71d1c07e",
   "metadata": {},
   "source": [
    "## Feature Importance : Mutual Information"
   ]
  },
  {
   "cell_type": "markdown",
   "id": "30bd51c6",
   "metadata": {},
   "source": [
    "* Mutual Information (MI) of two variables is a measure of Mutual dependence between the two variables"
   ]
  },
  {
   "cell_type": "markdown",
   "id": "f8ff1678",
   "metadata": {},
   "source": [
    "* In Scikit-learn the mutual info score takes 2 variables as input and provides the Mutual Information of the provided variables"
   ]
  },
  {
   "cell_type": "markdown",
   "id": "9aeefc27",
   "metadata": {},
   "source": [
    "* The score ranges from 0 to 1 and higher the range , more closer the Mutual Information  "
   ]
  },
  {
   "cell_type": "markdown",
   "id": "15d7a00b",
   "metadata": {},
   "source": [
    "## Feature Importance : Correlation"
   ]
  },
  {
   "cell_type": "markdown",
   "id": "5e6d0893",
   "metadata": {},
   "source": [
    "The `correlation coefficient` measures the linear correlation between 2 sets of data -> ratio between the covariance of 2 variables and the product of their standard deviations 𝝈. In other words, it's a normalized covariance.\n"
   ]
  },
  {
   "cell_type": "markdown",
   "id": "4e6ded73",
   "metadata": {},
   "source": [
    "* r (also sometimes 𝝆) = correlation coefficient.\n",
    "* The value of r is always in the interval [-1 ,1].\n",
    "* If r is negative, when one of the variables grows, the other one decreases.\n",
    "* If r is possitive, when one of the variables grows, the other one does as well.\n",
    "* Zero correlation means the variable doesnt affect the result\n",
    "* Values between 0.0 and 0.2 the correlation is very low and growth/decrease is very softly reflected on the other variable.\n",
    "* Values between 0.2 and 0.5 show moderate correlation.\n",
    "* Values between 0.5 and 1.0 show strong correlation."
   ]
  },
  {
   "cell_type": "markdown",
   "id": "f50a2d34",
   "metadata": {},
   "source": [
    "we use `df.corrwith` method to find the correlation between 2 variables "
   ]
  },
  {
   "cell_type": "markdown",
   "id": "e298c8ac",
   "metadata": {},
   "source": [
    "## One Hot Encoding"
   ]
  },
  {
   "cell_type": "markdown",
   "id": "25c36b38",
   "metadata": {},
   "source": [
    "* use scikit learn to encode categorical features"
   ]
  },
  {
   "cell_type": "markdown",
   "id": "7b582ab7",
   "metadata": {},
   "source": [
    "* we use DictVectorizer from sklearn"
   ]
  },
  {
   "cell_type": "markdown",
   "id": "245abe4b",
   "metadata": {},
   "source": [
    "## Logistic Regression :"
   ]
  },
  {
   "cell_type": "markdown",
   "id": "ce7dc6b8",
   "metadata": {},
   "source": [
    "g(xi) = yi \n",
    "* here, the model returns a target value of `0` and `1` \n",
    "* Probability of `X i` belongs to Positive class\n",
    "* It is similar to linear regression - g(x_i) = ( w_o + w^T · x_i )\n",
    "* Logistic Regression - g(x_i) = sigmoid( w_o + w^T · x_i )\n",
    "* sigmoid ranges from ` 0 to 1 `"
   ]
  },
  {
   "cell_type": "markdown",
   "id": "04a82ac7",
   "metadata": {},
   "source": [
    "sigmoid is represented as \n",
    "` 1 / (1 + np.exp(-z))`"
   ]
  },
  {
   "cell_type": "markdown",
   "id": "02214e41",
   "metadata": {},
   "source": [
    "## Training Logistic Regression with Scikit-Learn"
   ]
  },
  {
   "cell_type": "markdown",
   "id": "05a34274",
   "metadata": {},
   "source": [
    "* Train a model with scikit learn\n",
    "* Apply it to the validation dataset\n",
    "* Calculate the accuracy"
   ]
  },
  {
   "cell_type": "markdown",
   "id": "7678b654",
   "metadata": {},
   "source": [
    "### Accuracy"
   ]
  },
  {
   "cell_type": "markdown",
   "id": "b1a836d5",
   "metadata": {},
   "source": [
    "Accuracy = (y_val == churn_decision).mean()"
   ]
  },
  {
   "cell_type": "markdown",
   "id": "23ae97f6",
   "metadata": {},
   "source": [
    "here,\n",
    "\n",
    "* `churn_decision` is the Prediction\n",
    "* `y_val` is the actual target "
   ]
  },
  {
   "cell_type": "markdown",
   "id": "66a232a4",
   "metadata": {},
   "source": [
    "## Model Interpretation"
   ]
  },
  {
   "cell_type": "markdown",
   "id": "a5f8bf66",
   "metadata": {},
   "source": [
    "* Look at co-efficients\n",
    "* Train the smaller model with fewer features"
   ]
  },
  {
   "cell_type": "markdown",
   "id": "2e988ff7",
   "metadata": {},
   "source": [
    "## Using the Model"
   ]
  },
  {
   "cell_type": "markdown",
   "id": "0cbd2d7b",
   "metadata": {},
   "source": [
    "* Train the model in Full train dataframe with the features\n",
    "* Predict the customers who are gonna churn to send promotional emails \n"
   ]
  }
 ],
 "metadata": {
  "kernelspec": {
   "display_name": "Python 3 (ipykernel)",
   "language": "python",
   "name": "python3"
  },
  "language_info": {
   "codemirror_mode": {
    "name": "ipython",
    "version": 3
   },
   "file_extension": ".py",
   "mimetype": "text/x-python",
   "name": "python",
   "nbconvert_exporter": "python",
   "pygments_lexer": "ipython3",
   "version": "3.9.12"
  }
 },
 "nbformat": 4,
 "nbformat_minor": 5
}
