{
 "cells": [
  {
   "cell_type": "markdown",
   "id": "1dcdc534",
   "metadata": {},
   "source": [
    "# Session #3 Homework"
   ]
  },
  {
   "cell_type": "code",
   "execution_count": 1,
   "id": "42b1a649",
   "metadata": {},
   "outputs": [],
   "source": [
    "import numpy as np\n",
    "import pandas as pd\n",
    "import matplotlib.pyplot as plt\n",
    "import matplotlib \n",
    "import seaborn as sns\n",
    "import warnings\n",
    "\n",
    "%matplotlib inline"
   ]
  },
  {
   "cell_type": "markdown",
   "id": "10152597",
   "metadata": {},
   "source": [
    "## Getting the data:"
   ]
  },
  {
   "cell_type": "markdown",
   "id": "ac41dd0d",
   "metadata": {},
   "source": [
    "For this homework, we'll use the House price dataset. Download it from here.\n",
    "\n",
    "You can do it with wget: wget https://raw.githubusercontent.com/alexeygrigorev/datasets/master/housing.csv"
   ]
  },
  {
   "cell_type": "code",
   "execution_count": 2,
   "id": "a863ae0a",
   "metadata": {},
   "outputs": [
    {
     "data": {
      "text/html": [
       "<div>\n",
       "<style scoped>\n",
       "    .dataframe tbody tr th:only-of-type {\n",
       "        vertical-align: middle;\n",
       "    }\n",
       "\n",
       "    .dataframe tbody tr th {\n",
       "        vertical-align: top;\n",
       "    }\n",
       "\n",
       "    .dataframe thead th {\n",
       "        text-align: right;\n",
       "    }\n",
       "</style>\n",
       "<table border=\"1\" class=\"dataframe\">\n",
       "  <thead>\n",
       "    <tr style=\"text-align: right;\">\n",
       "      <th></th>\n",
       "      <th>longitude</th>\n",
       "      <th>latitude</th>\n",
       "      <th>housing_median_age</th>\n",
       "      <th>total_rooms</th>\n",
       "      <th>total_bedrooms</th>\n",
       "      <th>population</th>\n",
       "      <th>households</th>\n",
       "      <th>median_income</th>\n",
       "      <th>median_house_value</th>\n",
       "      <th>ocean_proximity</th>\n",
       "    </tr>\n",
       "  </thead>\n",
       "  <tbody>\n",
       "    <tr>\n",
       "      <th>0</th>\n",
       "      <td>-122.23</td>\n",
       "      <td>37.88</td>\n",
       "      <td>41.0</td>\n",
       "      <td>880.0</td>\n",
       "      <td>129.0</td>\n",
       "      <td>322.0</td>\n",
       "      <td>126.0</td>\n",
       "      <td>8.3252</td>\n",
       "      <td>452600.0</td>\n",
       "      <td>NEAR BAY</td>\n",
       "    </tr>\n",
       "    <tr>\n",
       "      <th>1</th>\n",
       "      <td>-122.22</td>\n",
       "      <td>37.86</td>\n",
       "      <td>21.0</td>\n",
       "      <td>7099.0</td>\n",
       "      <td>1106.0</td>\n",
       "      <td>2401.0</td>\n",
       "      <td>1138.0</td>\n",
       "      <td>8.3014</td>\n",
       "      <td>358500.0</td>\n",
       "      <td>NEAR BAY</td>\n",
       "    </tr>\n",
       "    <tr>\n",
       "      <th>2</th>\n",
       "      <td>-122.24</td>\n",
       "      <td>37.85</td>\n",
       "      <td>52.0</td>\n",
       "      <td>1467.0</td>\n",
       "      <td>190.0</td>\n",
       "      <td>496.0</td>\n",
       "      <td>177.0</td>\n",
       "      <td>7.2574</td>\n",
       "      <td>352100.0</td>\n",
       "      <td>NEAR BAY</td>\n",
       "    </tr>\n",
       "    <tr>\n",
       "      <th>3</th>\n",
       "      <td>-122.25</td>\n",
       "      <td>37.85</td>\n",
       "      <td>52.0</td>\n",
       "      <td>1274.0</td>\n",
       "      <td>235.0</td>\n",
       "      <td>558.0</td>\n",
       "      <td>219.0</td>\n",
       "      <td>5.6431</td>\n",
       "      <td>341300.0</td>\n",
       "      <td>NEAR BAY</td>\n",
       "    </tr>\n",
       "    <tr>\n",
       "      <th>4</th>\n",
       "      <td>-122.25</td>\n",
       "      <td>37.85</td>\n",
       "      <td>52.0</td>\n",
       "      <td>1627.0</td>\n",
       "      <td>280.0</td>\n",
       "      <td>565.0</td>\n",
       "      <td>259.0</td>\n",
       "      <td>3.8462</td>\n",
       "      <td>342200.0</td>\n",
       "      <td>NEAR BAY</td>\n",
       "    </tr>\n",
       "  </tbody>\n",
       "</table>\n",
       "</div>"
      ],
      "text/plain": [
       "   longitude  latitude  housing_median_age  total_rooms  total_bedrooms  \\\n",
       "0    -122.23     37.88                41.0        880.0           129.0   \n",
       "1    -122.22     37.86                21.0       7099.0          1106.0   \n",
       "2    -122.24     37.85                52.0       1467.0           190.0   \n",
       "3    -122.25     37.85                52.0       1274.0           235.0   \n",
       "4    -122.25     37.85                52.0       1627.0           280.0   \n",
       "\n",
       "   population  households  median_income  median_house_value ocean_proximity  \n",
       "0       322.0       126.0         8.3252            452600.0        NEAR BAY  \n",
       "1      2401.0      1138.0         8.3014            358500.0        NEAR BAY  \n",
       "2       496.0       177.0         7.2574            352100.0        NEAR BAY  \n",
       "3       558.0       219.0         5.6431            341300.0        NEAR BAY  \n",
       "4       565.0       259.0         3.8462            342200.0        NEAR BAY  "
      ]
     },
     "execution_count": 2,
     "metadata": {},
     "output_type": "execute_result"
    }
   ],
   "source": [
    "df = pd.read_csv('housing_data.csv')\n",
    "df.head()"
   ]
  },
  {
   "cell_type": "code",
   "execution_count": 3,
   "id": "b74c3cab",
   "metadata": {},
   "outputs": [
    {
     "data": {
      "text/html": [
       "<div>\n",
       "<style scoped>\n",
       "    .dataframe tbody tr th:only-of-type {\n",
       "        vertical-align: middle;\n",
       "    }\n",
       "\n",
       "    .dataframe tbody tr th {\n",
       "        vertical-align: top;\n",
       "    }\n",
       "\n",
       "    .dataframe thead th {\n",
       "        text-align: right;\n",
       "    }\n",
       "</style>\n",
       "<table border=\"1\" class=\"dataframe\">\n",
       "  <thead>\n",
       "    <tr style=\"text-align: right;\">\n",
       "      <th></th>\n",
       "      <th>0</th>\n",
       "      <th>1</th>\n",
       "      <th>2</th>\n",
       "      <th>3</th>\n",
       "      <th>4</th>\n",
       "    </tr>\n",
       "  </thead>\n",
       "  <tbody>\n",
       "    <tr>\n",
       "      <th>longitude</th>\n",
       "      <td>-122.23</td>\n",
       "      <td>-122.22</td>\n",
       "      <td>-122.24</td>\n",
       "      <td>-122.25</td>\n",
       "      <td>-122.25</td>\n",
       "    </tr>\n",
       "    <tr>\n",
       "      <th>latitude</th>\n",
       "      <td>37.88</td>\n",
       "      <td>37.86</td>\n",
       "      <td>37.85</td>\n",
       "      <td>37.85</td>\n",
       "      <td>37.85</td>\n",
       "    </tr>\n",
       "    <tr>\n",
       "      <th>housing_median_age</th>\n",
       "      <td>41.0</td>\n",
       "      <td>21.0</td>\n",
       "      <td>52.0</td>\n",
       "      <td>52.0</td>\n",
       "      <td>52.0</td>\n",
       "    </tr>\n",
       "    <tr>\n",
       "      <th>total_rooms</th>\n",
       "      <td>880.0</td>\n",
       "      <td>7099.0</td>\n",
       "      <td>1467.0</td>\n",
       "      <td>1274.0</td>\n",
       "      <td>1627.0</td>\n",
       "    </tr>\n",
       "    <tr>\n",
       "      <th>total_bedrooms</th>\n",
       "      <td>129.0</td>\n",
       "      <td>1106.0</td>\n",
       "      <td>190.0</td>\n",
       "      <td>235.0</td>\n",
       "      <td>280.0</td>\n",
       "    </tr>\n",
       "    <tr>\n",
       "      <th>population</th>\n",
       "      <td>322.0</td>\n",
       "      <td>2401.0</td>\n",
       "      <td>496.0</td>\n",
       "      <td>558.0</td>\n",
       "      <td>565.0</td>\n",
       "    </tr>\n",
       "    <tr>\n",
       "      <th>households</th>\n",
       "      <td>126.0</td>\n",
       "      <td>1138.0</td>\n",
       "      <td>177.0</td>\n",
       "      <td>219.0</td>\n",
       "      <td>259.0</td>\n",
       "    </tr>\n",
       "    <tr>\n",
       "      <th>median_income</th>\n",
       "      <td>8.3252</td>\n",
       "      <td>8.3014</td>\n",
       "      <td>7.2574</td>\n",
       "      <td>5.6431</td>\n",
       "      <td>3.8462</td>\n",
       "    </tr>\n",
       "    <tr>\n",
       "      <th>median_house_value</th>\n",
       "      <td>452600.0</td>\n",
       "      <td>358500.0</td>\n",
       "      <td>352100.0</td>\n",
       "      <td>341300.0</td>\n",
       "      <td>342200.0</td>\n",
       "    </tr>\n",
       "    <tr>\n",
       "      <th>ocean_proximity</th>\n",
       "      <td>NEAR BAY</td>\n",
       "      <td>NEAR BAY</td>\n",
       "      <td>NEAR BAY</td>\n",
       "      <td>NEAR BAY</td>\n",
       "      <td>NEAR BAY</td>\n",
       "    </tr>\n",
       "  </tbody>\n",
       "</table>\n",
       "</div>"
      ],
      "text/plain": [
       "                           0         1         2         3         4\n",
       "longitude            -122.23   -122.22   -122.24   -122.25   -122.25\n",
       "latitude               37.88     37.86     37.85     37.85     37.85\n",
       "housing_median_age      41.0      21.0      52.0      52.0      52.0\n",
       "total_rooms            880.0    7099.0    1467.0    1274.0    1627.0\n",
       "total_bedrooms         129.0    1106.0     190.0     235.0     280.0\n",
       "population             322.0    2401.0     496.0     558.0     565.0\n",
       "households             126.0    1138.0     177.0     219.0     259.0\n",
       "median_income         8.3252    8.3014    7.2574    5.6431    3.8462\n",
       "median_house_value  452600.0  358500.0  352100.0  341300.0  342200.0\n",
       "ocean_proximity     NEAR BAY  NEAR BAY  NEAR BAY  NEAR BAY  NEAR BAY"
      ]
     },
     "execution_count": 3,
     "metadata": {},
     "output_type": "execute_result"
    }
   ],
   "source": [
    "df.head().T"
   ]
  },
  {
   "cell_type": "markdown",
   "id": "f0603eeb",
   "metadata": {},
   "source": [
    "## Data Preparation"
   ]
  },
  {
   "cell_type": "code",
   "execution_count": 4,
   "id": "8872b2d3",
   "metadata": {
    "scrolled": true
   },
   "outputs": [
    {
     "data": {
      "text/plain": [
       "longitude               0\n",
       "latitude                0\n",
       "housing_median_age      0\n",
       "total_rooms             0\n",
       "total_bedrooms        207\n",
       "population              0\n",
       "households              0\n",
       "median_income           0\n",
       "median_house_value      0\n",
       "ocean_proximity         0\n",
       "dtype: int64"
      ]
     },
     "execution_count": 4,
     "metadata": {},
     "output_type": "execute_result"
    }
   ],
   "source": [
    "df.isnull().sum()   #Select only the features from above "
   ]
  },
  {
   "cell_type": "code",
   "execution_count": 5,
   "id": "dd1f1397",
   "metadata": {},
   "outputs": [],
   "source": [
    "df['total_bedrooms'] = df['total_bedrooms'].fillna(0)   # fill in the missing values with 0\n",
    "\n",
    "df['rooms_per_household'] = df['total_rooms'] / df['households'] #Create a new column rooms_per_household by dividing the column total_rooms by the column households from dataframe\n",
    "df['rooms_per_household'] = df['rooms_per_household'].round(3) \n",
    "\n",
    "df['bedrooms_per_room'] = df['total_bedrooms'] / df['total_rooms'] #Create a new column bedrooms_per_room by dividing the column total_rooms by the column households from dataframe\n",
    "df['bedrooms_per_room'] = df['bedrooms_per_room'].round(3) \n",
    "\n",
    "df['population_per_household'] = df['population'] / df['households'] #Create a new column rooms_per_household by dividing the column total_rooms by the column households from dataframe\n",
    "df['population_per_household'] = df['population_per_household'].round(3) "
   ]
  },
  {
   "cell_type": "code",
   "execution_count": 6,
   "id": "397d384f",
   "metadata": {},
   "outputs": [
    {
     "data": {
      "text/html": [
       "<div>\n",
       "<style scoped>\n",
       "    .dataframe tbody tr th:only-of-type {\n",
       "        vertical-align: middle;\n",
       "    }\n",
       "\n",
       "    .dataframe tbody tr th {\n",
       "        vertical-align: top;\n",
       "    }\n",
       "\n",
       "    .dataframe thead th {\n",
       "        text-align: right;\n",
       "    }\n",
       "</style>\n",
       "<table border=\"1\" class=\"dataframe\">\n",
       "  <thead>\n",
       "    <tr style=\"text-align: right;\">\n",
       "      <th></th>\n",
       "      <th>longitude</th>\n",
       "      <th>latitude</th>\n",
       "      <th>housing_median_age</th>\n",
       "      <th>total_rooms</th>\n",
       "      <th>total_bedrooms</th>\n",
       "      <th>population</th>\n",
       "      <th>households</th>\n",
       "      <th>median_income</th>\n",
       "      <th>median_house_value</th>\n",
       "      <th>ocean_proximity</th>\n",
       "      <th>rooms_per_household</th>\n",
       "      <th>bedrooms_per_room</th>\n",
       "      <th>population_per_household</th>\n",
       "    </tr>\n",
       "  </thead>\n",
       "  <tbody>\n",
       "    <tr>\n",
       "      <th>0</th>\n",
       "      <td>-122.23</td>\n",
       "      <td>37.88</td>\n",
       "      <td>41.0</td>\n",
       "      <td>880.0</td>\n",
       "      <td>129.0</td>\n",
       "      <td>322.0</td>\n",
       "      <td>126.0</td>\n",
       "      <td>8.3252</td>\n",
       "      <td>452600.0</td>\n",
       "      <td>NEAR BAY</td>\n",
       "      <td>6.984</td>\n",
       "      <td>0.147</td>\n",
       "      <td>2.556</td>\n",
       "    </tr>\n",
       "    <tr>\n",
       "      <th>1</th>\n",
       "      <td>-122.22</td>\n",
       "      <td>37.86</td>\n",
       "      <td>21.0</td>\n",
       "      <td>7099.0</td>\n",
       "      <td>1106.0</td>\n",
       "      <td>2401.0</td>\n",
       "      <td>1138.0</td>\n",
       "      <td>8.3014</td>\n",
       "      <td>358500.0</td>\n",
       "      <td>NEAR BAY</td>\n",
       "      <td>6.238</td>\n",
       "      <td>0.156</td>\n",
       "      <td>2.110</td>\n",
       "    </tr>\n",
       "    <tr>\n",
       "      <th>2</th>\n",
       "      <td>-122.24</td>\n",
       "      <td>37.85</td>\n",
       "      <td>52.0</td>\n",
       "      <td>1467.0</td>\n",
       "      <td>190.0</td>\n",
       "      <td>496.0</td>\n",
       "      <td>177.0</td>\n",
       "      <td>7.2574</td>\n",
       "      <td>352100.0</td>\n",
       "      <td>NEAR BAY</td>\n",
       "      <td>8.288</td>\n",
       "      <td>0.130</td>\n",
       "      <td>2.802</td>\n",
       "    </tr>\n",
       "    <tr>\n",
       "      <th>3</th>\n",
       "      <td>-122.25</td>\n",
       "      <td>37.85</td>\n",
       "      <td>52.0</td>\n",
       "      <td>1274.0</td>\n",
       "      <td>235.0</td>\n",
       "      <td>558.0</td>\n",
       "      <td>219.0</td>\n",
       "      <td>5.6431</td>\n",
       "      <td>341300.0</td>\n",
       "      <td>NEAR BAY</td>\n",
       "      <td>5.817</td>\n",
       "      <td>0.184</td>\n",
       "      <td>2.548</td>\n",
       "    </tr>\n",
       "    <tr>\n",
       "      <th>4</th>\n",
       "      <td>-122.25</td>\n",
       "      <td>37.85</td>\n",
       "      <td>52.0</td>\n",
       "      <td>1627.0</td>\n",
       "      <td>280.0</td>\n",
       "      <td>565.0</td>\n",
       "      <td>259.0</td>\n",
       "      <td>3.8462</td>\n",
       "      <td>342200.0</td>\n",
       "      <td>NEAR BAY</td>\n",
       "      <td>6.282</td>\n",
       "      <td>0.172</td>\n",
       "      <td>2.181</td>\n",
       "    </tr>\n",
       "    <tr>\n",
       "      <th>...</th>\n",
       "      <td>...</td>\n",
       "      <td>...</td>\n",
       "      <td>...</td>\n",
       "      <td>...</td>\n",
       "      <td>...</td>\n",
       "      <td>...</td>\n",
       "      <td>...</td>\n",
       "      <td>...</td>\n",
       "      <td>...</td>\n",
       "      <td>...</td>\n",
       "      <td>...</td>\n",
       "      <td>...</td>\n",
       "      <td>...</td>\n",
       "    </tr>\n",
       "    <tr>\n",
       "      <th>20635</th>\n",
       "      <td>-121.09</td>\n",
       "      <td>39.48</td>\n",
       "      <td>25.0</td>\n",
       "      <td>1665.0</td>\n",
       "      <td>374.0</td>\n",
       "      <td>845.0</td>\n",
       "      <td>330.0</td>\n",
       "      <td>1.5603</td>\n",
       "      <td>78100.0</td>\n",
       "      <td>INLAND</td>\n",
       "      <td>5.045</td>\n",
       "      <td>0.225</td>\n",
       "      <td>2.561</td>\n",
       "    </tr>\n",
       "    <tr>\n",
       "      <th>20636</th>\n",
       "      <td>-121.21</td>\n",
       "      <td>39.49</td>\n",
       "      <td>18.0</td>\n",
       "      <td>697.0</td>\n",
       "      <td>150.0</td>\n",
       "      <td>356.0</td>\n",
       "      <td>114.0</td>\n",
       "      <td>2.5568</td>\n",
       "      <td>77100.0</td>\n",
       "      <td>INLAND</td>\n",
       "      <td>6.114</td>\n",
       "      <td>0.215</td>\n",
       "      <td>3.123</td>\n",
       "    </tr>\n",
       "    <tr>\n",
       "      <th>20637</th>\n",
       "      <td>-121.22</td>\n",
       "      <td>39.43</td>\n",
       "      <td>17.0</td>\n",
       "      <td>2254.0</td>\n",
       "      <td>485.0</td>\n",
       "      <td>1007.0</td>\n",
       "      <td>433.0</td>\n",
       "      <td>1.7000</td>\n",
       "      <td>92300.0</td>\n",
       "      <td>INLAND</td>\n",
       "      <td>5.206</td>\n",
       "      <td>0.215</td>\n",
       "      <td>2.326</td>\n",
       "    </tr>\n",
       "    <tr>\n",
       "      <th>20638</th>\n",
       "      <td>-121.32</td>\n",
       "      <td>39.43</td>\n",
       "      <td>18.0</td>\n",
       "      <td>1860.0</td>\n",
       "      <td>409.0</td>\n",
       "      <td>741.0</td>\n",
       "      <td>349.0</td>\n",
       "      <td>1.8672</td>\n",
       "      <td>84700.0</td>\n",
       "      <td>INLAND</td>\n",
       "      <td>5.330</td>\n",
       "      <td>0.220</td>\n",
       "      <td>2.123</td>\n",
       "    </tr>\n",
       "    <tr>\n",
       "      <th>20639</th>\n",
       "      <td>-121.24</td>\n",
       "      <td>39.37</td>\n",
       "      <td>16.0</td>\n",
       "      <td>2785.0</td>\n",
       "      <td>616.0</td>\n",
       "      <td>1387.0</td>\n",
       "      <td>530.0</td>\n",
       "      <td>2.3886</td>\n",
       "      <td>89400.0</td>\n",
       "      <td>INLAND</td>\n",
       "      <td>5.255</td>\n",
       "      <td>0.221</td>\n",
       "      <td>2.617</td>\n",
       "    </tr>\n",
       "  </tbody>\n",
       "</table>\n",
       "<p>20640 rows × 13 columns</p>\n",
       "</div>"
      ],
      "text/plain": [
       "       longitude  latitude  housing_median_age  total_rooms  total_bedrooms  \\\n",
       "0        -122.23     37.88                41.0        880.0           129.0   \n",
       "1        -122.22     37.86                21.0       7099.0          1106.0   \n",
       "2        -122.24     37.85                52.0       1467.0           190.0   \n",
       "3        -122.25     37.85                52.0       1274.0           235.0   \n",
       "4        -122.25     37.85                52.0       1627.0           280.0   \n",
       "...          ...       ...                 ...          ...             ...   \n",
       "20635    -121.09     39.48                25.0       1665.0           374.0   \n",
       "20636    -121.21     39.49                18.0        697.0           150.0   \n",
       "20637    -121.22     39.43                17.0       2254.0           485.0   \n",
       "20638    -121.32     39.43                18.0       1860.0           409.0   \n",
       "20639    -121.24     39.37                16.0       2785.0           616.0   \n",
       "\n",
       "       population  households  median_income  median_house_value  \\\n",
       "0           322.0       126.0         8.3252            452600.0   \n",
       "1          2401.0      1138.0         8.3014            358500.0   \n",
       "2           496.0       177.0         7.2574            352100.0   \n",
       "3           558.0       219.0         5.6431            341300.0   \n",
       "4           565.0       259.0         3.8462            342200.0   \n",
       "...           ...         ...            ...                 ...   \n",
       "20635       845.0       330.0         1.5603             78100.0   \n",
       "20636       356.0       114.0         2.5568             77100.0   \n",
       "20637      1007.0       433.0         1.7000             92300.0   \n",
       "20638       741.0       349.0         1.8672             84700.0   \n",
       "20639      1387.0       530.0         2.3886             89400.0   \n",
       "\n",
       "      ocean_proximity  rooms_per_household  bedrooms_per_room  \\\n",
       "0            NEAR BAY                6.984              0.147   \n",
       "1            NEAR BAY                6.238              0.156   \n",
       "2            NEAR BAY                8.288              0.130   \n",
       "3            NEAR BAY                5.817              0.184   \n",
       "4            NEAR BAY                6.282              0.172   \n",
       "...               ...                  ...                ...   \n",
       "20635          INLAND                5.045              0.225   \n",
       "20636          INLAND                6.114              0.215   \n",
       "20637          INLAND                5.206              0.215   \n",
       "20638          INLAND                5.330              0.220   \n",
       "20639          INLAND                5.255              0.221   \n",
       "\n",
       "       population_per_household  \n",
       "0                         2.556  \n",
       "1                         2.110  \n",
       "2                         2.802  \n",
       "3                         2.548  \n",
       "4                         2.181  \n",
       "...                         ...  \n",
       "20635                     2.561  \n",
       "20636                     3.123  \n",
       "20637                     2.326  \n",
       "20638                     2.123  \n",
       "20639                     2.617  \n",
       "\n",
       "[20640 rows x 13 columns]"
      ]
     },
     "execution_count": 6,
     "metadata": {},
     "output_type": "execute_result"
    }
   ],
   "source": [
    "df"
   ]
  },
  {
   "cell_type": "markdown",
   "id": "cb806b61",
   "metadata": {},
   "source": [
    "### Question 1"
   ]
  },
  {
   "cell_type": "markdown",
   "id": "cd1eddd3",
   "metadata": {},
   "source": [
    "What is the most frequent observation (mode) for the column ocean_proximity?\n",
    "\n"
   ]
  },
  {
   "cell_type": "markdown",
   "id": "5a4438c0",
   "metadata": {},
   "source": [
    "Options:\n",
    "\n",
    "* NEAR BAY\n",
    "* <1H OCEAN\n",
    "* INLAND\n",
    "* NEAR OCEAN"
   ]
  },
  {
   "cell_type": "code",
   "execution_count": 7,
   "id": "2d8747ea",
   "metadata": {
    "scrolled": true
   },
   "outputs": [
    {
     "data": {
      "text/plain": [
       "<1H OCEAN     9136\n",
       "INLAND        6551\n",
       "NEAR OCEAN    2658\n",
       "NEAR BAY      2290\n",
       "ISLAND           5\n",
       "Name: ocean_proximity, dtype: int64"
      ]
     },
     "execution_count": 7,
     "metadata": {},
     "output_type": "execute_result"
    }
   ],
   "source": [
    "df[\"ocean_proximity\"].value_counts().head()"
   ]
  },
  {
   "cell_type": "markdown",
   "id": "32ac7187",
   "metadata": {},
   "source": [
    "Answer : Most frequent observation (mode) for the column ocean_proximity is `<1H OCEAN` with 9136 columns"
   ]
  },
  {
   "cell_type": "markdown",
   "id": "32dfe658",
   "metadata": {},
   "source": [
    "### Make median_house_value binary"
   ]
  },
  {
   "cell_type": "markdown",
   "id": "abbd71f3",
   "metadata": {},
   "source": [
    "* We need to turn the median_house_value variable from numeric into binary.\n",
    "* Let's create a variable above_average which is 1 if the median_house_value is above its mean value and 0 otherwise."
   ]
  },
  {
   "cell_type": "code",
   "execution_count": 8,
   "id": "a683b8f1",
   "metadata": {},
   "outputs": [],
   "source": [
    "df['mean'] = df['median_house_value'].mean()\n",
    "df['mean'] = round(df['mean'], 2)\n",
    "\n",
    "df['above_average'] = df['median_house_value'] > df['mean']  \n",
    "df['above_average'] = df['above_average'].astype(int)"
   ]
  },
  {
   "cell_type": "code",
   "execution_count": 9,
   "id": "f2cc547f",
   "metadata": {},
   "outputs": [
    {
     "data": {
      "text/html": [
       "<div>\n",
       "<style scoped>\n",
       "    .dataframe tbody tr th:only-of-type {\n",
       "        vertical-align: middle;\n",
       "    }\n",
       "\n",
       "    .dataframe tbody tr th {\n",
       "        vertical-align: top;\n",
       "    }\n",
       "\n",
       "    .dataframe thead th {\n",
       "        text-align: right;\n",
       "    }\n",
       "</style>\n",
       "<table border=\"1\" class=\"dataframe\">\n",
       "  <thead>\n",
       "    <tr style=\"text-align: right;\">\n",
       "      <th></th>\n",
       "      <th>longitude</th>\n",
       "      <th>latitude</th>\n",
       "      <th>housing_median_age</th>\n",
       "      <th>total_rooms</th>\n",
       "      <th>total_bedrooms</th>\n",
       "      <th>population</th>\n",
       "      <th>households</th>\n",
       "      <th>median_income</th>\n",
       "      <th>median_house_value</th>\n",
       "      <th>ocean_proximity</th>\n",
       "      <th>rooms_per_household</th>\n",
       "      <th>bedrooms_per_room</th>\n",
       "      <th>population_per_household</th>\n",
       "      <th>mean</th>\n",
       "      <th>above_average</th>\n",
       "    </tr>\n",
       "  </thead>\n",
       "  <tbody>\n",
       "    <tr>\n",
       "      <th>0</th>\n",
       "      <td>-122.23</td>\n",
       "      <td>37.88</td>\n",
       "      <td>41.0</td>\n",
       "      <td>880.0</td>\n",
       "      <td>129.0</td>\n",
       "      <td>322.0</td>\n",
       "      <td>126.0</td>\n",
       "      <td>8.3252</td>\n",
       "      <td>452600.0</td>\n",
       "      <td>NEAR BAY</td>\n",
       "      <td>6.984</td>\n",
       "      <td>0.147</td>\n",
       "      <td>2.556</td>\n",
       "      <td>206855.82</td>\n",
       "      <td>1</td>\n",
       "    </tr>\n",
       "    <tr>\n",
       "      <th>1</th>\n",
       "      <td>-122.22</td>\n",
       "      <td>37.86</td>\n",
       "      <td>21.0</td>\n",
       "      <td>7099.0</td>\n",
       "      <td>1106.0</td>\n",
       "      <td>2401.0</td>\n",
       "      <td>1138.0</td>\n",
       "      <td>8.3014</td>\n",
       "      <td>358500.0</td>\n",
       "      <td>NEAR BAY</td>\n",
       "      <td>6.238</td>\n",
       "      <td>0.156</td>\n",
       "      <td>2.110</td>\n",
       "      <td>206855.82</td>\n",
       "      <td>1</td>\n",
       "    </tr>\n",
       "    <tr>\n",
       "      <th>2</th>\n",
       "      <td>-122.24</td>\n",
       "      <td>37.85</td>\n",
       "      <td>52.0</td>\n",
       "      <td>1467.0</td>\n",
       "      <td>190.0</td>\n",
       "      <td>496.0</td>\n",
       "      <td>177.0</td>\n",
       "      <td>7.2574</td>\n",
       "      <td>352100.0</td>\n",
       "      <td>NEAR BAY</td>\n",
       "      <td>8.288</td>\n",
       "      <td>0.130</td>\n",
       "      <td>2.802</td>\n",
       "      <td>206855.82</td>\n",
       "      <td>1</td>\n",
       "    </tr>\n",
       "    <tr>\n",
       "      <th>3</th>\n",
       "      <td>-122.25</td>\n",
       "      <td>37.85</td>\n",
       "      <td>52.0</td>\n",
       "      <td>1274.0</td>\n",
       "      <td>235.0</td>\n",
       "      <td>558.0</td>\n",
       "      <td>219.0</td>\n",
       "      <td>5.6431</td>\n",
       "      <td>341300.0</td>\n",
       "      <td>NEAR BAY</td>\n",
       "      <td>5.817</td>\n",
       "      <td>0.184</td>\n",
       "      <td>2.548</td>\n",
       "      <td>206855.82</td>\n",
       "      <td>1</td>\n",
       "    </tr>\n",
       "    <tr>\n",
       "      <th>4</th>\n",
       "      <td>-122.25</td>\n",
       "      <td>37.85</td>\n",
       "      <td>52.0</td>\n",
       "      <td>1627.0</td>\n",
       "      <td>280.0</td>\n",
       "      <td>565.0</td>\n",
       "      <td>259.0</td>\n",
       "      <td>3.8462</td>\n",
       "      <td>342200.0</td>\n",
       "      <td>NEAR BAY</td>\n",
       "      <td>6.282</td>\n",
       "      <td>0.172</td>\n",
       "      <td>2.181</td>\n",
       "      <td>206855.82</td>\n",
       "      <td>1</td>\n",
       "    </tr>\n",
       "    <tr>\n",
       "      <th>...</th>\n",
       "      <td>...</td>\n",
       "      <td>...</td>\n",
       "      <td>...</td>\n",
       "      <td>...</td>\n",
       "      <td>...</td>\n",
       "      <td>...</td>\n",
       "      <td>...</td>\n",
       "      <td>...</td>\n",
       "      <td>...</td>\n",
       "      <td>...</td>\n",
       "      <td>...</td>\n",
       "      <td>...</td>\n",
       "      <td>...</td>\n",
       "      <td>...</td>\n",
       "      <td>...</td>\n",
       "    </tr>\n",
       "    <tr>\n",
       "      <th>20635</th>\n",
       "      <td>-121.09</td>\n",
       "      <td>39.48</td>\n",
       "      <td>25.0</td>\n",
       "      <td>1665.0</td>\n",
       "      <td>374.0</td>\n",
       "      <td>845.0</td>\n",
       "      <td>330.0</td>\n",
       "      <td>1.5603</td>\n",
       "      <td>78100.0</td>\n",
       "      <td>INLAND</td>\n",
       "      <td>5.045</td>\n",
       "      <td>0.225</td>\n",
       "      <td>2.561</td>\n",
       "      <td>206855.82</td>\n",
       "      <td>0</td>\n",
       "    </tr>\n",
       "    <tr>\n",
       "      <th>20636</th>\n",
       "      <td>-121.21</td>\n",
       "      <td>39.49</td>\n",
       "      <td>18.0</td>\n",
       "      <td>697.0</td>\n",
       "      <td>150.0</td>\n",
       "      <td>356.0</td>\n",
       "      <td>114.0</td>\n",
       "      <td>2.5568</td>\n",
       "      <td>77100.0</td>\n",
       "      <td>INLAND</td>\n",
       "      <td>6.114</td>\n",
       "      <td>0.215</td>\n",
       "      <td>3.123</td>\n",
       "      <td>206855.82</td>\n",
       "      <td>0</td>\n",
       "    </tr>\n",
       "    <tr>\n",
       "      <th>20637</th>\n",
       "      <td>-121.22</td>\n",
       "      <td>39.43</td>\n",
       "      <td>17.0</td>\n",
       "      <td>2254.0</td>\n",
       "      <td>485.0</td>\n",
       "      <td>1007.0</td>\n",
       "      <td>433.0</td>\n",
       "      <td>1.7000</td>\n",
       "      <td>92300.0</td>\n",
       "      <td>INLAND</td>\n",
       "      <td>5.206</td>\n",
       "      <td>0.215</td>\n",
       "      <td>2.326</td>\n",
       "      <td>206855.82</td>\n",
       "      <td>0</td>\n",
       "    </tr>\n",
       "    <tr>\n",
       "      <th>20638</th>\n",
       "      <td>-121.32</td>\n",
       "      <td>39.43</td>\n",
       "      <td>18.0</td>\n",
       "      <td>1860.0</td>\n",
       "      <td>409.0</td>\n",
       "      <td>741.0</td>\n",
       "      <td>349.0</td>\n",
       "      <td>1.8672</td>\n",
       "      <td>84700.0</td>\n",
       "      <td>INLAND</td>\n",
       "      <td>5.330</td>\n",
       "      <td>0.220</td>\n",
       "      <td>2.123</td>\n",
       "      <td>206855.82</td>\n",
       "      <td>0</td>\n",
       "    </tr>\n",
       "    <tr>\n",
       "      <th>20639</th>\n",
       "      <td>-121.24</td>\n",
       "      <td>39.37</td>\n",
       "      <td>16.0</td>\n",
       "      <td>2785.0</td>\n",
       "      <td>616.0</td>\n",
       "      <td>1387.0</td>\n",
       "      <td>530.0</td>\n",
       "      <td>2.3886</td>\n",
       "      <td>89400.0</td>\n",
       "      <td>INLAND</td>\n",
       "      <td>5.255</td>\n",
       "      <td>0.221</td>\n",
       "      <td>2.617</td>\n",
       "      <td>206855.82</td>\n",
       "      <td>0</td>\n",
       "    </tr>\n",
       "  </tbody>\n",
       "</table>\n",
       "<p>20640 rows × 15 columns</p>\n",
       "</div>"
      ],
      "text/plain": [
       "       longitude  latitude  housing_median_age  total_rooms  total_bedrooms  \\\n",
       "0        -122.23     37.88                41.0        880.0           129.0   \n",
       "1        -122.22     37.86                21.0       7099.0          1106.0   \n",
       "2        -122.24     37.85                52.0       1467.0           190.0   \n",
       "3        -122.25     37.85                52.0       1274.0           235.0   \n",
       "4        -122.25     37.85                52.0       1627.0           280.0   \n",
       "...          ...       ...                 ...          ...             ...   \n",
       "20635    -121.09     39.48                25.0       1665.0           374.0   \n",
       "20636    -121.21     39.49                18.0        697.0           150.0   \n",
       "20637    -121.22     39.43                17.0       2254.0           485.0   \n",
       "20638    -121.32     39.43                18.0       1860.0           409.0   \n",
       "20639    -121.24     39.37                16.0       2785.0           616.0   \n",
       "\n",
       "       population  households  median_income  median_house_value  \\\n",
       "0           322.0       126.0         8.3252            452600.0   \n",
       "1          2401.0      1138.0         8.3014            358500.0   \n",
       "2           496.0       177.0         7.2574            352100.0   \n",
       "3           558.0       219.0         5.6431            341300.0   \n",
       "4           565.0       259.0         3.8462            342200.0   \n",
       "...           ...         ...            ...                 ...   \n",
       "20635       845.0       330.0         1.5603             78100.0   \n",
       "20636       356.0       114.0         2.5568             77100.0   \n",
       "20637      1007.0       433.0         1.7000             92300.0   \n",
       "20638       741.0       349.0         1.8672             84700.0   \n",
       "20639      1387.0       530.0         2.3886             89400.0   \n",
       "\n",
       "      ocean_proximity  rooms_per_household  bedrooms_per_room  \\\n",
       "0            NEAR BAY                6.984              0.147   \n",
       "1            NEAR BAY                6.238              0.156   \n",
       "2            NEAR BAY                8.288              0.130   \n",
       "3            NEAR BAY                5.817              0.184   \n",
       "4            NEAR BAY                6.282              0.172   \n",
       "...               ...                  ...                ...   \n",
       "20635          INLAND                5.045              0.225   \n",
       "20636          INLAND                6.114              0.215   \n",
       "20637          INLAND                5.206              0.215   \n",
       "20638          INLAND                5.330              0.220   \n",
       "20639          INLAND                5.255              0.221   \n",
       "\n",
       "       population_per_household       mean  above_average  \n",
       "0                         2.556  206855.82              1  \n",
       "1                         2.110  206855.82              1  \n",
       "2                         2.802  206855.82              1  \n",
       "3                         2.548  206855.82              1  \n",
       "4                         2.181  206855.82              1  \n",
       "...                         ...        ...            ...  \n",
       "20635                     2.561  206855.82              0  \n",
       "20636                     3.123  206855.82              0  \n",
       "20637                     2.326  206855.82              0  \n",
       "20638                     2.123  206855.82              0  \n",
       "20639                     2.617  206855.82              0  \n",
       "\n",
       "[20640 rows x 15 columns]"
      ]
     },
     "execution_count": 9,
     "metadata": {},
     "output_type": "execute_result"
    }
   ],
   "source": [
    "df"
   ]
  },
  {
   "cell_type": "markdown",
   "id": "3febe927",
   "metadata": {},
   "source": [
    "## Setting up the validation Framework"
   ]
  },
  {
   "cell_type": "code",
   "execution_count": 10,
   "id": "a44dd647",
   "metadata": {},
   "outputs": [],
   "source": [
    "from sklearn.model_selection import train_test_split\n",
    "\n",
    "df_full_train ,df_test = train_test_split(df, test_size= 0.2, random_state= 42)\n",
    "\n",
    "df_train , df_val = train_test_split(df_full_train,test_size= 0.25, random_state= 42)"
   ]
  },
  {
   "cell_type": "code",
   "execution_count": 11,
   "id": "32bea94e",
   "metadata": {},
   "outputs": [
    {
     "data": {
      "text/plain": [
       "(12384, 4128, 4128)"
      ]
     },
     "execution_count": 11,
     "metadata": {},
     "output_type": "execute_result"
    }
   ],
   "source": [
    "len(df_train),len(df_test),len(df_val)"
   ]
  },
  {
   "cell_type": "code",
   "execution_count": 12,
   "id": "8288b786",
   "metadata": {},
   "outputs": [],
   "source": [
    "df_train = df_train.reset_index(drop =True)\n",
    "df_val = df_val.reset_index(drop =True)\n",
    "df_test = df_test.reset_index(drop =True)\n",
    "\n",
    "y_train = df_train['above_average']\n",
    "y_val = df_val['above_average']\n",
    "y_test = df_test['above_average']\n"
   ]
  },
  {
   "cell_type": "markdown",
   "id": "7cba9bcf",
   "metadata": {},
   "source": [
    "### Question 2"
   ]
  },
  {
   "cell_type": "markdown",
   "id": "b296b7f1",
   "metadata": {},
   "source": [
    "* Create the correlation matrix for the numerical features of your train dataset.\n",
    "* In a correlation matrix, you compute the correlation coefficient between every pair of features in the dataset.\n",
    "* What are the two features that have the biggest correlation in this dataset?"
   ]
  },
  {
   "cell_type": "markdown",
   "id": "d58d0a7b",
   "metadata": {},
   "source": [
    "Options:\n",
    "\n",
    "* total_bedrooms and households\n",
    "* total_bedrooms and total_rooms\n",
    "* population and households\n",
    "* population_per_household and total_rooms"
   ]
  },
  {
   "cell_type": "code",
   "execution_count": 13,
   "id": "d623ea5e",
   "metadata": {},
   "outputs": [
    {
     "data": {
      "text/plain": [
       "longitude                   float64\n",
       "latitude                    float64\n",
       "housing_median_age          float64\n",
       "total_rooms                 float64\n",
       "total_bedrooms              float64\n",
       "population                  float64\n",
       "households                  float64\n",
       "median_income               float64\n",
       "median_house_value          float64\n",
       "ocean_proximity              object\n",
       "rooms_per_household         float64\n",
       "bedrooms_per_room           float64\n",
       "population_per_household    float64\n",
       "mean                        float64\n",
       "above_average                 int32\n",
       "dtype: object"
      ]
     },
     "execution_count": 13,
     "metadata": {},
     "output_type": "execute_result"
    }
   ],
   "source": [
    "df_train.dtypes"
   ]
  },
  {
   "cell_type": "code",
   "execution_count": 14,
   "id": "b53a7a89",
   "metadata": {},
   "outputs": [
    {
     "data": {
      "text/plain": [
       "Index(['longitude', 'latitude', 'housing_median_age', 'total_rooms',\n",
       "       'total_bedrooms', 'population', 'households', 'median_income',\n",
       "       'median_house_value', 'ocean_proximity', 'rooms_per_household',\n",
       "       'bedrooms_per_room', 'population_per_household', 'mean',\n",
       "       'above_average'],\n",
       "      dtype='object')"
      ]
     },
     "execution_count": 14,
     "metadata": {},
     "output_type": "execute_result"
    }
   ],
   "source": [
    "df_train.columns"
   ]
  },
  {
   "cell_type": "code",
   "execution_count": 15,
   "id": "ad74409a",
   "metadata": {},
   "outputs": [],
   "source": [
    "numerical = ['longitude', 'latitude', 'housing_median_age', 'total_rooms',\n",
    "       'total_bedrooms', 'population', 'households', 'median_income',\n",
    "        'rooms_per_household', 'bedrooms_per_room',\n",
    "       'population_per_household']"
   ]
  },
  {
   "cell_type": "code",
   "execution_count": 16,
   "id": "8fee5694",
   "metadata": {},
   "outputs": [
    {
     "data": {
      "text/plain": [
       "longitude                   0.025358\n",
       "latitude                   -0.023311\n",
       "housing_median_age         -0.049345\n",
       "total_rooms                 0.317947\n",
       "total_bedrooms              0.319320\n",
       "population                  0.305077\n",
       "households                  0.312666\n",
       "median_income               0.069495\n",
       "rooms_per_household         0.074151\n",
       "bedrooms_per_room          -0.003584\n",
       "population_per_household    0.089827\n",
       "dtype: float64"
      ]
     },
     "execution_count": 16,
     "metadata": {},
     "output_type": "execute_result"
    }
   ],
   "source": [
    "df_train[numerical].corr().mean()"
   ]
  },
  {
   "cell_type": "markdown",
   "id": "96cd7c15",
   "metadata": {},
   "source": [
    "Answer : Thus we can see `total_bedrooms and total_rooms` are the two features that have the biggest correlation in this dataset"
   ]
  },
  {
   "cell_type": "markdown",
   "id": "2a7805d8",
   "metadata": {},
   "source": [
    "## Question 3\n"
   ]
  },
  {
   "cell_type": "markdown",
   "id": "7618c49a",
   "metadata": {},
   "source": [
    "* Calculate the mutual information score with the (binarized) price for the categorical variable that we have. Use the training set only.\n",
    "* What is the value of mutual information?\n",
    "* Round it to 2 decimal digits using round(score, 2)\n"
   ]
  },
  {
   "cell_type": "markdown",
   "id": "c2437c94",
   "metadata": {},
   "source": [
    "Options:\n",
    "\n",
    "* 0.26\n",
    "* 0\n",
    "* 0.10\n",
    "* 0.16"
   ]
  },
  {
   "cell_type": "code",
   "execution_count": 17,
   "id": "5449c8b0",
   "metadata": {},
   "outputs": [],
   "source": [
    "from sklearn.metrics import mutual_info_score"
   ]
  },
  {
   "cell_type": "code",
   "execution_count": 18,
   "id": "572c9f03",
   "metadata": {},
   "outputs": [
    {
     "data": {
      "text/plain": [
       "0.1"
      ]
     },
     "execution_count": 18,
     "metadata": {},
     "output_type": "execute_result"
    }
   ],
   "source": [
    "score = mutual_info_score(df_train.ocean_proximity,df_train.above_average)\n",
    "round(score, 2)"
   ]
  },
  {
   "cell_type": "markdown",
   "id": "f608f578",
   "metadata": {},
   "source": [
    "Answer : 0.10"
   ]
  },
  {
   "cell_type": "markdown",
   "id": "89d85f96",
   "metadata": {},
   "source": [
    "## Question 4\n"
   ]
  },
  {
   "cell_type": "markdown",
   "id": "88515e32",
   "metadata": {},
   "source": [
    "* Now let's train a logistic regression\n",
    "* Remember that we have one categorical variable ocean_proximity in the data. Include it using one-hot encoding.\n",
    "* Fit the model on the training dataset.\n",
    "    * To make sure the results are reproducible across different versions of Scikit-Learn, fit the model with these parameters:\n",
    "    * model = LogisticRegression(solver=\"liblinear\", C=1.0, max_iter=1000, random_state=42)\n",
    "* Calculate the accuracy on the validation dataset and round it to 2 decimal digits.\n"
   ]
  },
  {
   "cell_type": "markdown",
   "id": "e19a3452",
   "metadata": {},
   "source": [
    "Options:\n",
    "\n",
    "* 0.60\n",
    "* 0.72\n",
    "* 0.84\n",
    "* 0.95"
   ]
  },
  {
   "cell_type": "markdown",
   "id": "577e2720",
   "metadata": {},
   "source": [
    "### one hot encoding"
   ]
  },
  {
   "cell_type": "code",
   "execution_count": 19,
   "id": "a3a6d286",
   "metadata": {},
   "outputs": [
    {
     "data": {
      "text/plain": [
       "array([ 1.6000e-01,  1.8200e+02,  3.5000e+01,  3.6740e+01, -1.1985e+02,\n",
       "        3.5375e+00,  0.0000e+00,  1.0000e+00,  0.0000e+00,  0.0000e+00,\n",
       "        0.0000e+00,  5.3700e+02,  2.9510e+00,  6.5440e+00,  1.9000e+02,\n",
       "        1.1910e+03])"
      ]
     },
     "execution_count": 19,
     "metadata": {},
     "output_type": "execute_result"
    }
   ],
   "source": [
    "categorical = ['ocean_proximity']\n",
    "\n",
    "from sklearn.feature_extraction import DictVectorizer\n",
    "\n",
    "train_dicts = df_train[categorical + numerical].to_dict(orient = 'records')\n",
    "\n",
    "dv = DictVectorizer(sparse = False)\n",
    "\n",
    "X_train = dv.fit_transform(train_dicts)\n",
    "\n",
    "val_dicts = df_val[categorical + numerical].to_dict(orient = 'records')\n",
    "\n",
    "X_val = dv.transform(val_dicts)\n",
    "\n",
    "X_val[0]"
   ]
  },
  {
   "cell_type": "markdown",
   "id": "23e4d8a6",
   "metadata": {},
   "source": [
    "### Logistic Regression:"
   ]
  },
  {
   "cell_type": "code",
   "execution_count": 46,
   "id": "558d4307",
   "metadata": {},
   "outputs": [
    {
     "data": {
      "text/plain": [
       "0.83"
      ]
     },
     "execution_count": 46,
     "metadata": {},
     "output_type": "execute_result"
    }
   ],
   "source": [
    "y_train = y_train.astype('int')\n",
    "\n",
    "from sklearn.linear_model import LogisticRegression\n",
    "\n",
    "model = LogisticRegression(solver=\"liblinear\", C=1.0, max_iter=1000, random_state=42)\n",
    "\n",
    "\n",
    "model.fit(X_train,y_train)\n",
    "\n",
    "dicts_test = df_test[categorical + numerical].to_dict(orient = 'records')\n",
    "\n",
    "dv = DictVectorizer(sparse = False)\n",
    "X_test = dv.fit_transform(dicts_test)\n",
    "\n",
    "y_pred = model.predict_proba(X_test)[:, 1]\n",
    "\n",
    "churn_decision = (y_pred >= 0.5)\n",
    "\n",
    "(churn_decision == y_test).mean().round(2)"
   ]
  },
  {
   "cell_type": "markdown",
   "id": "23a6b3cb",
   "metadata": {},
   "source": [
    "Answer : `0.84`"
   ]
  },
  {
   "cell_type": "markdown",
   "id": "5399cd5e",
   "metadata": {},
   "source": [
    "## Question 5"
   ]
  },
  {
   "cell_type": "markdown",
   "id": "2ad4ba4d",
   "metadata": {},
   "source": [
    "* Let's find the least useful feature using the feature elimination technique.\n",
    "* Train a model with all these features (using the same parameters as in Q4).\n",
    "* Now exclude each feature from this set and train a model without it. Record the accuracy for each model.\n",
    "* For each feature, calculate the difference between the original accuracy and the accuracy without the feature.\n",
    "* Which of following feature has the smallest difference?\n",
    "    * total_rooms\n",
    "    * total_bedrooms\n",
    "    * population\n",
    "    * households"
   ]
  },
  {
   "cell_type": "code",
   "execution_count": 21,
   "id": "95d07e4f",
   "metadata": {},
   "outputs": [],
   "source": [
    "df_train1 = df_train.copy()\n",
    "df_val1 = df_val.copy()\n",
    "df_test1 = df_test.copy()\n",
    "\n",
    "del df_train1['total_rooms']\n",
    "del df_val1['total_rooms']\n",
    "del df_test1['total_rooms']\n",
    "\n",
    "numerical1 =  ['longitude', 'latitude', 'housing_median_age',\n",
    "       'total_bedrooms', 'population', 'households', 'median_income',\n",
    "        'rooms_per_household', 'bedrooms_per_room',\n",
    "       'population_per_household']"
   ]
  },
  {
   "cell_type": "code",
   "execution_count": 22,
   "id": "741c38e2",
   "metadata": {},
   "outputs": [
    {
     "data": {
      "text/plain": [
       "array([ 1.6000e-01,  1.8200e+02,  3.5000e+01,  3.6740e+01, -1.1985e+02,\n",
       "        3.5375e+00,  0.0000e+00,  1.0000e+00,  0.0000e+00,  0.0000e+00,\n",
       "        0.0000e+00,  5.3700e+02,  2.9510e+00,  6.5440e+00,  1.9000e+02])"
      ]
     },
     "execution_count": 22,
     "metadata": {},
     "output_type": "execute_result"
    }
   ],
   "source": [
    "#one hot encoding\n",
    "\n",
    "categorical = ['ocean_proximity']\n",
    "\n",
    "from sklearn.feature_extraction import DictVectorizer\n",
    "\n",
    "train_dicts1 = df_train1[categorical + numerical1].to_dict(orient = 'records')\n",
    "\n",
    "dv = DictVectorizer(sparse = False)\n",
    "\n",
    "X_train1 = dv.fit_transform(train_dicts1)\n",
    "\n",
    "val_dicts1 = df_val1[categorical + numerical1].to_dict(orient = 'records')\n",
    "\n",
    "X_val1 = dv.transform(val_dicts1)\n",
    "\n",
    "X_val1[0]"
   ]
  },
  {
   "cell_type": "code",
   "execution_count": 27,
   "id": "ed8300aa",
   "metadata": {},
   "outputs": [
    {
     "data": {
      "text/plain": [
       "0.8340600775193798"
      ]
     },
     "execution_count": 27,
     "metadata": {},
     "output_type": "execute_result"
    }
   ],
   "source": [
    "#Logistic Regression:\n",
    "\n",
    "from sklearn.linear_model import LogisticRegression\n",
    "\n",
    "model = LogisticRegression(solver=\"liblinear\", C=1.0, max_iter=1000, random_state=42)\n",
    "\n",
    "\n",
    "model.fit(X_train1,y_train)\n",
    "\n",
    "dicts_test1 = df_test1[categorical + numerical1].to_dict(orient = 'records')\n",
    "\n",
    "dv = DictVectorizer(sparse = False)\n",
    "X_test1 = dv.fit_transform(dicts_test1)\n",
    "\n",
    "y_pred1 = model.predict_proba(X_test1)[:, 1]\n",
    "\n",
    "churn_decision1 = (y_pred1 >= 0.5)\n",
    "\n",
    "(churn_decision1 == y_test).mean()"
   ]
  },
  {
   "cell_type": "code",
   "execution_count": 24,
   "id": "7c960a23",
   "metadata": {},
   "outputs": [],
   "source": [
    "df_train2 = df_train.copy()\n",
    "df_val2 = df_val.copy()\n",
    "df_test2 = df_test.copy()\n",
    "\n",
    "del df_train2['total_bedrooms']\n",
    "del df_val2['total_bedrooms']\n",
    "del df_test2['total_bedrooms']\n",
    "\n",
    "numerical2 =  ['longitude', 'latitude', 'housing_median_age',\n",
    "       'total_rooms', 'population', 'households', 'median_income',\n",
    "        'rooms_per_household', 'bedrooms_per_room',\n",
    "       'population_per_household']"
   ]
  },
  {
   "cell_type": "code",
   "execution_count": 30,
   "id": "c0088dcf",
   "metadata": {},
   "outputs": [
    {
     "data": {
      "text/plain": [
       "array([ 1.6000e-01,  1.8200e+02,  3.5000e+01,  3.6740e+01, -1.1985e+02,\n",
       "        3.5375e+00,  0.0000e+00,  1.0000e+00,  0.0000e+00,  0.0000e+00,\n",
       "        0.0000e+00,  5.3700e+02,  2.9510e+00,  6.5440e+00,  1.1910e+03])"
      ]
     },
     "execution_count": 30,
     "metadata": {},
     "output_type": "execute_result"
    }
   ],
   "source": [
    "#one hot encoding\n",
    "\n",
    "categorical = ['ocean_proximity']\n",
    "\n",
    "from sklearn.feature_extraction import DictVectorizer\n",
    "\n",
    "train_dicts2 = df_train2[categorical + numerical2].to_dict(orient = 'records')\n",
    "\n",
    "dv = DictVectorizer(sparse = False)\n",
    "\n",
    "X_train2 = dv.fit_transform(train_dicts2)\n",
    "\n",
    "val_dicts2 = df_val2[categorical + numerical2].to_dict(orient = 'records')\n",
    "\n",
    "X_val2 = dv.transform(val_dicts2)\n",
    "\n",
    "X_val2[0]"
   ]
  },
  {
   "cell_type": "code",
   "execution_count": 32,
   "id": "342da5e5",
   "metadata": {},
   "outputs": [
    {
     "data": {
      "text/plain": [
       "0.8330910852713178"
      ]
     },
     "execution_count": 32,
     "metadata": {},
     "output_type": "execute_result"
    }
   ],
   "source": [
    "#Logistic Regression:\n",
    "\n",
    "from sklearn.linear_model import LogisticRegression\n",
    "\n",
    "model = LogisticRegression(solver=\"liblinear\", C=1.0, max_iter=1000, random_state=42)\n",
    "\n",
    "\n",
    "model.fit(X_train2,y_train)\n",
    "\n",
    "dicts_test2 = df_test2[categorical + numerical2].to_dict(orient = 'records')\n",
    "\n",
    "dv = DictVectorizer(sparse = False)\n",
    "X_test2 = dv.fit_transform(dicts_test2)\n",
    "\n",
    "y_pred2 = model.predict_proba(X_test2)[:, 1]\n",
    "\n",
    "churn_decision2 = (y_pred2 >= 0.5)\n",
    "\n",
    "(churn_decision2 == y_test).mean()"
   ]
  },
  {
   "cell_type": "code",
   "execution_count": 54,
   "id": "2b46eb99",
   "metadata": {},
   "outputs": [],
   "source": [
    "df_train3 = df_train.copy()\n",
    "df_val3 = df_val.copy()\n",
    "df_test3 = df_test.copy()\n",
    "\n",
    "del df_train3['population']\n",
    "del df_val3['population']\n",
    "del df_test3['population']\n",
    "\n",
    "numerical3 =  ['longitude', 'latitude', 'housing_median_age',\n",
    "       'total_bedrooms', 'total_rooms', 'households', 'median_income',\n",
    "        'rooms_per_household', 'bedrooms_per_room',\n",
    "       'population_per_household']"
   ]
  },
  {
   "cell_type": "code",
   "execution_count": 55,
   "id": "47f939f2",
   "metadata": {},
   "outputs": [
    {
     "data": {
      "text/plain": [
       "array([ 1.6000e-01,  1.8200e+02,  3.5000e+01,  3.6740e+01, -1.1985e+02,\n",
       "        3.5375e+00,  0.0000e+00,  1.0000e+00,  0.0000e+00,  0.0000e+00,\n",
       "        0.0000e+00,  2.9510e+00,  6.5440e+00,  1.9000e+02,  1.1910e+03])"
      ]
     },
     "execution_count": 55,
     "metadata": {},
     "output_type": "execute_result"
    }
   ],
   "source": [
    "#one hot encoding\n",
    "\n",
    "categorical = ['ocean_proximity']\n",
    "\n",
    "from sklearn.feature_extraction import DictVectorizer\n",
    "\n",
    "train_dicts3 = df_train3[categorical + numerical3].to_dict(orient = 'records')\n",
    "\n",
    "dv = DictVectorizer(sparse = False)\n",
    "\n",
    "X_train3 = dv.fit_transform(train_dicts3)\n",
    "\n",
    "val_dicts3 = df_val3[categorical + numerical3].to_dict(orient = 'records')\n",
    "\n",
    "X_val3 = dv.transform(val_dicts3)\n",
    "\n",
    "X_val3[0]"
   ]
  },
  {
   "cell_type": "code",
   "execution_count": 56,
   "id": "d70e0813",
   "metadata": {},
   "outputs": [
    {
     "data": {
      "text/plain": [
       "0.8204941860465116"
      ]
     },
     "execution_count": 56,
     "metadata": {},
     "output_type": "execute_result"
    }
   ],
   "source": [
    "#Logistic Regression:\n",
    "\n",
    "from sklearn.linear_model import LogisticRegression\n",
    "\n",
    "model = LogisticRegression(solver=\"liblinear\", C=1.0, max_iter=1000, random_state=42)\n",
    "\n",
    "\n",
    "model.fit(X_train3,y_train)\n",
    "\n",
    "dicts_test3 = df_test3[categorical + numerical3].to_dict(orient = 'records')\n",
    "\n",
    "\n",
    "X_test3 = dv.fit_transform(dicts_test3)\n",
    "\n",
    "y_pred3 = model.predict_proba(X_test3)[:, 1]\n",
    "\n",
    "churn_decision3 = (y_pred3 >= 0.5)\n",
    "\n",
    "(churn_decision3 == y_test).mean()"
   ]
  },
  {
   "cell_type": "code",
   "execution_count": 41,
   "id": "c9e7884e",
   "metadata": {},
   "outputs": [],
   "source": [
    "df_train4 = df_train.copy()\n",
    "df_val4 = df_val.copy()\n",
    "df_test4 = df_test.copy()\n",
    "\n",
    "del df_train4['households']\n",
    "del df_val4['households']\n",
    "del df_test4['households']\n",
    "\n",
    "numerical4 =  ['longitude', 'latitude', 'housing_median_age',\n",
    "       'total_bedrooms', 'total_rooms', 'population', 'median_income',\n",
    "        'rooms_per_household', 'bedrooms_per_room',\n",
    "       'population_per_household']"
   ]
  },
  {
   "cell_type": "code",
   "execution_count": 50,
   "id": "1b455573",
   "metadata": {},
   "outputs": [
    {
     "data": {
      "text/plain": [
       "array([ 1.6000e-01,  3.5000e+01,  3.6740e+01, -1.1985e+02,  3.5375e+00,\n",
       "        0.0000e+00,  1.0000e+00,  0.0000e+00,  0.0000e+00,  0.0000e+00,\n",
       "        5.3700e+02,  2.9510e+00,  6.5440e+00,  1.9000e+02,  1.1910e+03])"
      ]
     },
     "execution_count": 50,
     "metadata": {},
     "output_type": "execute_result"
    }
   ],
   "source": [
    "#one hot encoding\n",
    "\n",
    "categorical = ['ocean_proximity']\n",
    "\n",
    "from sklearn.feature_extraction import DictVectorizer\n",
    "\n",
    "train_dicts4 = df_train4[categorical + numerical4].to_dict(orient = 'records')\n",
    "\n",
    "\n",
    "X_train4 = dv.fit_transform(train_dicts4)\n",
    "\n",
    "val_dicts4 = df_val4[categorical + numerical4].to_dict(orient = 'records')\n",
    "\n",
    "X_val4 = dv.transform(val_dicts4)\n",
    "\n",
    "X_val4[0]"
   ]
  },
  {
   "cell_type": "code",
   "execution_count": 51,
   "id": "b4e135f6",
   "metadata": {},
   "outputs": [
    {
     "data": {
      "text/plain": [
       "0.4006782945736434"
      ]
     },
     "execution_count": 51,
     "metadata": {},
     "output_type": "execute_result"
    }
   ],
   "source": [
    "#Logistic Regression:\n",
    "\n",
    "from sklearn.linear_model import LogisticRegression\n",
    "\n",
    "model = LogisticRegression(solver=\"liblinear\", C=1.0, max_iter=1000, random_state=42)\n",
    "\n",
    "\n",
    "model.fit(X_train3,y_train)\n",
    "\n",
    "dicts_test4 = df_test4[categorical + numerical4].to_dict(orient = 'records')\n",
    "\n",
    "dv = DictVectorizer(sparse = False)\n",
    "X_test4 = dv.fit_transform(dicts_test4)\n",
    "\n",
    "y_pred4 = model.predict_proba(X_test4)[:, 1]\n",
    "\n",
    "churn_decision4 = (y_pred4 >= 0.5)\n",
    "\n",
    "(churn_decision4 == y_test).mean()"
   ]
  },
  {
   "cell_type": "markdown",
   "id": "4ca5859b",
   "metadata": {},
   "source": [
    "Ans: `total bedroom` feature has the smallest difference of -0.025"
   ]
  },
  {
   "cell_type": "markdown",
   "id": "f6e9bd5c",
   "metadata": {},
   "source": [
    "## Question 6\n"
   ]
  },
  {
   "cell_type": "markdown",
   "id": "43932695",
   "metadata": {},
   "source": [
    "* For this question, we'll see how to use a linear regression model from Scikit-Learn\n",
    "* We'll need to use the original column 'median_house_value'. Apply the logarithmic transformation to this column.\n",
    "* Fit the Ridge regression model (model = Ridge(alpha=a, solver=\"sag\", random_state=42)) on the training data.\n",
    "* This model has a parameter alpha. Let's try the following values: [0, 0.01, 0.1, 1, 10]\n",
    "* Which of these alphas leads to the best RMSE on the validation set? Round your RMSE scores to 3 decimal digits.\n",
    "* If there are multiple options, select the smallest alpha.\n",
    "\n",
    "Options:\n",
    "\n",
    "    * 0\n",
    "    * 0.01\n",
    "    * 0.1\n",
    "    * 1\n",
    "    * 10"
   ]
  },
  {
   "cell_type": "code",
   "execution_count": 59,
   "id": "96ef2512",
   "metadata": {
    "scrolled": true
   },
   "outputs": [
    {
     "data": {
      "text/plain": [
       "0        452600.0\n",
       "1        358500.0\n",
       "2        352100.0\n",
       "3        341300.0\n",
       "4        342200.0\n",
       "           ...   \n",
       "20635     78100.0\n",
       "20636     77100.0\n",
       "20637     92300.0\n",
       "20638     84700.0\n",
       "20639     89400.0\n",
       "Name: median_house_value, Length: 20640, dtype: float64"
      ]
     },
     "execution_count": 59,
     "metadata": {},
     "output_type": "execute_result"
    }
   ],
   "source": [
    "df['median_house_value']"
   ]
  },
  {
   "cell_type": "code",
   "execution_count": 61,
   "id": "08a0890c",
   "metadata": {
    "scrolled": false
   },
   "outputs": [
    {
     "data": {
      "text/plain": [
       "<AxesSubplot:xlabel='median_house_value', ylabel='Count'>"
      ]
     },
     "execution_count": 61,
     "metadata": {},
     "output_type": "execute_result"
    },
    {
     "data": {
      "image/png": "[encoded data removed]",
      "text/plain": [
       "<Figure size 432x288 with 1 Axes>"
      ]
     },
     "metadata": {
      "needs_background": "light"
     },
     "output_type": "display_data"
    }
   ],
   "source": [
    "sns.histplot(df.median_house_value, bins = 50)"
   ]
  },
  {
   "cell_type": "code",
   "execution_count": 67,
   "id": "91acb802",
   "metadata": {},
   "outputs": [
    {
     "data": {
      "text/html": [
       "<div>\n",
       "<style scoped>\n",
       "    .dataframe tbody tr th:only-of-type {\n",
       "        vertical-align: middle;\n",
       "    }\n",
       "\n",
       "    .dataframe tbody tr th {\n",
       "        vertical-align: top;\n",
       "    }\n",
       "\n",
       "    .dataframe thead th {\n",
       "        text-align: right;\n",
       "    }\n",
       "</style>\n",
       "<table border=\"1\" class=\"dataframe\">\n",
       "  <thead>\n",
       "    <tr style=\"text-align: right;\">\n",
       "      <th></th>\n",
       "      <th>longitude</th>\n",
       "      <th>latitude</th>\n",
       "      <th>housing_median_age</th>\n",
       "      <th>total_rooms</th>\n",
       "      <th>total_bedrooms</th>\n",
       "      <th>population</th>\n",
       "      <th>households</th>\n",
       "      <th>median_income</th>\n",
       "      <th>median_house_value</th>\n",
       "      <th>ocean_proximity</th>\n",
       "      <th>rooms_per_household</th>\n",
       "      <th>bedrooms_per_room</th>\n",
       "      <th>population_per_household</th>\n",
       "      <th>mean</th>\n",
       "      <th>above_average</th>\n",
       "    </tr>\n",
       "  </thead>\n",
       "  <tbody>\n",
       "    <tr>\n",
       "      <th>0</th>\n",
       "      <td>-122.23</td>\n",
       "      <td>37.88</td>\n",
       "      <td>41.0</td>\n",
       "      <td>880.0</td>\n",
       "      <td>129.0</td>\n",
       "      <td>322.0</td>\n",
       "      <td>126.0</td>\n",
       "      <td>8.3252</td>\n",
       "      <td>452600.0</td>\n",
       "      <td>NEAR BAY</td>\n",
       "      <td>6.984</td>\n",
       "      <td>0.147</td>\n",
       "      <td>2.556</td>\n",
       "      <td>206855.82</td>\n",
       "      <td>1</td>\n",
       "    </tr>\n",
       "    <tr>\n",
       "      <th>1</th>\n",
       "      <td>-122.22</td>\n",
       "      <td>37.86</td>\n",
       "      <td>21.0</td>\n",
       "      <td>7099.0</td>\n",
       "      <td>1106.0</td>\n",
       "      <td>2401.0</td>\n",
       "      <td>1138.0</td>\n",
       "      <td>8.3014</td>\n",
       "      <td>358500.0</td>\n",
       "      <td>NEAR BAY</td>\n",
       "      <td>6.238</td>\n",
       "      <td>0.156</td>\n",
       "      <td>2.110</td>\n",
       "      <td>206855.82</td>\n",
       "      <td>1</td>\n",
       "    </tr>\n",
       "    <tr>\n",
       "      <th>2</th>\n",
       "      <td>-122.24</td>\n",
       "      <td>37.85</td>\n",
       "      <td>52.0</td>\n",
       "      <td>1467.0</td>\n",
       "      <td>190.0</td>\n",
       "      <td>496.0</td>\n",
       "      <td>177.0</td>\n",
       "      <td>7.2574</td>\n",
       "      <td>352100.0</td>\n",
       "      <td>NEAR BAY</td>\n",
       "      <td>8.288</td>\n",
       "      <td>0.130</td>\n",
       "      <td>2.802</td>\n",
       "      <td>206855.82</td>\n",
       "      <td>1</td>\n",
       "    </tr>\n",
       "    <tr>\n",
       "      <th>3</th>\n",
       "      <td>-122.25</td>\n",
       "      <td>37.85</td>\n",
       "      <td>52.0</td>\n",
       "      <td>1274.0</td>\n",
       "      <td>235.0</td>\n",
       "      <td>558.0</td>\n",
       "      <td>219.0</td>\n",
       "      <td>5.6431</td>\n",
       "      <td>341300.0</td>\n",
       "      <td>NEAR BAY</td>\n",
       "      <td>5.817</td>\n",
       "      <td>0.184</td>\n",
       "      <td>2.548</td>\n",
       "      <td>206855.82</td>\n",
       "      <td>1</td>\n",
       "    </tr>\n",
       "    <tr>\n",
       "      <th>4</th>\n",
       "      <td>-122.25</td>\n",
       "      <td>37.85</td>\n",
       "      <td>52.0</td>\n",
       "      <td>1627.0</td>\n",
       "      <td>280.0</td>\n",
       "      <td>565.0</td>\n",
       "      <td>259.0</td>\n",
       "      <td>3.8462</td>\n",
       "      <td>342200.0</td>\n",
       "      <td>NEAR BAY</td>\n",
       "      <td>6.282</td>\n",
       "      <td>0.172</td>\n",
       "      <td>2.181</td>\n",
       "      <td>206855.82</td>\n",
       "      <td>1</td>\n",
       "    </tr>\n",
       "    <tr>\n",
       "      <th>...</th>\n",
       "      <td>...</td>\n",
       "      <td>...</td>\n",
       "      <td>...</td>\n",
       "      <td>...</td>\n",
       "      <td>...</td>\n",
       "      <td>...</td>\n",
       "      <td>...</td>\n",
       "      <td>...</td>\n",
       "      <td>...</td>\n",
       "      <td>...</td>\n",
       "      <td>...</td>\n",
       "      <td>...</td>\n",
       "      <td>...</td>\n",
       "      <td>...</td>\n",
       "      <td>...</td>\n",
       "    </tr>\n",
       "    <tr>\n",
       "      <th>20635</th>\n",
       "      <td>-121.09</td>\n",
       "      <td>39.48</td>\n",
       "      <td>25.0</td>\n",
       "      <td>1665.0</td>\n",
       "      <td>374.0</td>\n",
       "      <td>845.0</td>\n",
       "      <td>330.0</td>\n",
       "      <td>1.5603</td>\n",
       "      <td>78100.0</td>\n",
       "      <td>INLAND</td>\n",
       "      <td>5.045</td>\n",
       "      <td>0.225</td>\n",
       "      <td>2.561</td>\n",
       "      <td>206855.82</td>\n",
       "      <td>0</td>\n",
       "    </tr>\n",
       "    <tr>\n",
       "      <th>20636</th>\n",
       "      <td>-121.21</td>\n",
       "      <td>39.49</td>\n",
       "      <td>18.0</td>\n",
       "      <td>697.0</td>\n",
       "      <td>150.0</td>\n",
       "      <td>356.0</td>\n",
       "      <td>114.0</td>\n",
       "      <td>2.5568</td>\n",
       "      <td>77100.0</td>\n",
       "      <td>INLAND</td>\n",
       "      <td>6.114</td>\n",
       "      <td>0.215</td>\n",
       "      <td>3.123</td>\n",
       "      <td>206855.82</td>\n",
       "      <td>0</td>\n",
       "    </tr>\n",
       "    <tr>\n",
       "      <th>20637</th>\n",
       "      <td>-121.22</td>\n",
       "      <td>39.43</td>\n",
       "      <td>17.0</td>\n",
       "      <td>2254.0</td>\n",
       "      <td>485.0</td>\n",
       "      <td>1007.0</td>\n",
       "      <td>433.0</td>\n",
       "      <td>1.7000</td>\n",
       "      <td>92300.0</td>\n",
       "      <td>INLAND</td>\n",
       "      <td>5.206</td>\n",
       "      <td>0.215</td>\n",
       "      <td>2.326</td>\n",
       "      <td>206855.82</td>\n",
       "      <td>0</td>\n",
       "    </tr>\n",
       "    <tr>\n",
       "      <th>20638</th>\n",
       "      <td>-121.32</td>\n",
       "      <td>39.43</td>\n",
       "      <td>18.0</td>\n",
       "      <td>1860.0</td>\n",
       "      <td>409.0</td>\n",
       "      <td>741.0</td>\n",
       "      <td>349.0</td>\n",
       "      <td>1.8672</td>\n",
       "      <td>84700.0</td>\n",
       "      <td>INLAND</td>\n",
       "      <td>5.330</td>\n",
       "      <td>0.220</td>\n",
       "      <td>2.123</td>\n",
       "      <td>206855.82</td>\n",
       "      <td>0</td>\n",
       "    </tr>\n",
       "    <tr>\n",
       "      <th>20639</th>\n",
       "      <td>-121.24</td>\n",
       "      <td>39.37</td>\n",
       "      <td>16.0</td>\n",
       "      <td>2785.0</td>\n",
       "      <td>616.0</td>\n",
       "      <td>1387.0</td>\n",
       "      <td>530.0</td>\n",
       "      <td>2.3886</td>\n",
       "      <td>89400.0</td>\n",
       "      <td>INLAND</td>\n",
       "      <td>5.255</td>\n",
       "      <td>0.221</td>\n",
       "      <td>2.617</td>\n",
       "      <td>206855.82</td>\n",
       "      <td>0</td>\n",
       "    </tr>\n",
       "  </tbody>\n",
       "</table>\n",
       "<p>20640 rows × 15 columns</p>\n",
       "</div>"
      ],
      "text/plain": [
       "       longitude  latitude  housing_median_age  total_rooms  total_bedrooms  \\\n",
       "0        -122.23     37.88                41.0        880.0           129.0   \n",
       "1        -122.22     37.86                21.0       7099.0          1106.0   \n",
       "2        -122.24     37.85                52.0       1467.0           190.0   \n",
       "3        -122.25     37.85                52.0       1274.0           235.0   \n",
       "4        -122.25     37.85                52.0       1627.0           280.0   \n",
       "...          ...       ...                 ...          ...             ...   \n",
       "20635    -121.09     39.48                25.0       1665.0           374.0   \n",
       "20636    -121.21     39.49                18.0        697.0           150.0   \n",
       "20637    -121.22     39.43                17.0       2254.0           485.0   \n",
       "20638    -121.32     39.43                18.0       1860.0           409.0   \n",
       "20639    -121.24     39.37                16.0       2785.0           616.0   \n",
       "\n",
       "       population  households  median_income  median_house_value  \\\n",
       "0           322.0       126.0         8.3252            452600.0   \n",
       "1          2401.0      1138.0         8.3014            358500.0   \n",
       "2           496.0       177.0         7.2574            352100.0   \n",
       "3           558.0       219.0         5.6431            341300.0   \n",
       "4           565.0       259.0         3.8462            342200.0   \n",
       "...           ...         ...            ...                 ...   \n",
       "20635       845.0       330.0         1.5603             78100.0   \n",
       "20636       356.0       114.0         2.5568             77100.0   \n",
       "20637      1007.0       433.0         1.7000             92300.0   \n",
       "20638       741.0       349.0         1.8672             84700.0   \n",
       "20639      1387.0       530.0         2.3886             89400.0   \n",
       "\n",
       "      ocean_proximity  rooms_per_household  bedrooms_per_room  \\\n",
       "0            NEAR BAY                6.984              0.147   \n",
       "1            NEAR BAY                6.238              0.156   \n",
       "2            NEAR BAY                8.288              0.130   \n",
       "3            NEAR BAY                5.817              0.184   \n",
       "4            NEAR BAY                6.282              0.172   \n",
       "...               ...                  ...                ...   \n",
       "20635          INLAND                5.045              0.225   \n",
       "20636          INLAND                6.114              0.215   \n",
       "20637          INLAND                5.206              0.215   \n",
       "20638          INLAND                5.330              0.220   \n",
       "20639          INLAND                5.255              0.221   \n",
       "\n",
       "       population_per_household       mean  above_average  \n",
       "0                         2.556  206855.82              1  \n",
       "1                         2.110  206855.82              1  \n",
       "2                         2.802  206855.82              1  \n",
       "3                         2.548  206855.82              1  \n",
       "4                         2.181  206855.82              1  \n",
       "...                         ...        ...            ...  \n",
       "20635                     2.561  206855.82              0  \n",
       "20636                     3.123  206855.82              0  \n",
       "20637                     2.326  206855.82              0  \n",
       "20638                     2.123  206855.82              0  \n",
       "20639                     2.617  206855.82              0  \n",
       "\n",
       "[20640 rows x 15 columns]"
      ]
     },
     "execution_count": 67,
     "metadata": {},
     "output_type": "execute_result"
    }
   ],
   "source": [
    "df"
   ]
  },
  {
   "cell_type": "code",
   "execution_count": 68,
   "id": "a9ef5a4a",
   "metadata": {},
   "outputs": [],
   "source": [
    "from sklearn.model_selection import train_test_split\n",
    "\n",
    "df_full_train_q6 ,df_test_q6 = train_test_split(df, test_size= 0.2, random_state= 42)\n",
    "\n",
    "df_train_q6 , df_val_q6 = train_test_split(df_full_train_q6,test_size= 0.25, random_state= 42)"
   ]
  },
  {
   "cell_type": "code",
   "execution_count": 77,
   "id": "c93cd8b4",
   "metadata": {},
   "outputs": [],
   "source": [
    "df_train_q6 = df_train_q6.reset_index(drop = True)\n",
    "df_test_q6 = df_test_q6.reset_index(drop = True)\n",
    "df_val_q6 = df_val_q6.reset_index(drop = True)"
   ]
  },
  {
   "cell_type": "code",
   "execution_count": 75,
   "id": "a2c1ae94",
   "metadata": {},
   "outputs": [],
   "source": [
    "y_train_q6 = np.log1p(df_train.median_house_value.values)\n",
    "y_val_q6   = np.log1p(df_val.median_house_value.values)\n",
    "y_test_q6  = np.log1p(df_test.median_house_value.values)"
   ]
  },
  {
   "cell_type": "code",
   "execution_count": 80,
   "id": "398bb66d",
   "metadata": {},
   "outputs": [],
   "source": [
    "del df_train_q6['median_house_value']\n",
    "del df_val_q6['median_house_value']\n",
    "del df_test_q6['median_house_value']  "
   ]
  },
  {
   "cell_type": "markdown",
   "id": "7c057c3f",
   "metadata": {},
   "source": [
    "## Linear Regression:"
   ]
  },
  {
   "cell_type": "code",
   "execution_count": 102,
   "id": "3e5792ee",
   "metadata": {},
   "outputs": [],
   "source": [
    "categorical_q6 = ['ocean_proximity']\n",
    "\n",
    "numerical_q6 = ['longitude', 'latitude', 'housing_median_age', 'total_rooms',\n",
    "       'total_bedrooms', 'population', 'households', 'median_income',\n",
    "       'rooms_per_household','bedrooms_per_room', 'population_per_household']"
   ]
  },
  {
   "cell_type": "code",
   "execution_count": 103,
   "id": "4c04047a",
   "metadata": {},
   "outputs": [
    {
     "data": {
      "text/plain": [
       "array([ 1.6000e-01,  1.8200e+02,  3.5000e+01,  3.6740e+01, -1.1985e+02,\n",
       "        3.5375e+00,  0.0000e+00,  1.0000e+00,  0.0000e+00,  0.0000e+00,\n",
       "        0.0000e+00,  5.3700e+02,  2.9510e+00,  6.5440e+00,  1.9000e+02,\n",
       "        1.1910e+03])"
      ]
     },
     "execution_count": 103,
     "metadata": {},
     "output_type": "execute_result"
    }
   ],
   "source": [
    "from sklearn.feature_extraction import DictVectorizer\n",
    "\n",
    "train_dicts_q6 = df_train_q6[categorical_q6 + numerical_q6].to_dict(orient = 'records')\n",
    "\n",
    "\n",
    "X_train_q6 = dv.fit_transform(train_dicts_q6)\n",
    "\n",
    "val_dicts_q6 = df_val_q6[categorical_q6 + numerical_q6].to_dict(orient = 'records')\n",
    "\n",
    "X_val_q6 = dv.transform(val_dicts_q6)\n",
    "\n",
    "X_val_q6[0]"
   ]
  },
  {
   "cell_type": "code",
   "execution_count": 112,
   "id": "d2aba2d5",
   "metadata": {},
   "outputs": [],
   "source": [
    "from sklearn import linear_model\n",
    "\n",
    "model = linear_model.Ridge(alpha=0.5, solver=\"sag\", random_state=42)\n",
    "\n",
    "model.fit(X_train_q6,y_train_q6)\n",
    "\n",
    "dicts_test_q6 = df_test_q6[categorical_q6 + numerical_q6].to_dict(orient = 'records')\n",
    "\n",
    "dv = DictVectorizer(sparse = False)\n",
    "X_test_q6 = dv.fit_transform(dicts_test_q6)\n",
    "\n",
    "y_pred_q6 = model.predict(X_test_q6)"
   ]
  },
  {
   "cell_type": "code",
   "execution_count": 114,
   "id": "c1912493",
   "metadata": {},
   "outputs": [],
   "source": [
    "def rmse(y,y_pred):\n",
    "    se = (y-y_pred) ** 2\n",
    "    mse = se.mean()\n",
    "    return np.sqrt(mse)"
   ]
  },
  {
   "cell_type": "code",
   "execution_count": 115,
   "id": "65a81682",
   "metadata": {},
   "outputs": [
    {
     "data": {
      "text/plain": [
       "0.6410032616659659"
      ]
     },
     "execution_count": 115,
     "metadata": {},
     "output_type": "execute_result"
    }
   ],
   "source": [
    "rmse(y_val_q6,y_pred_q6)"
   ]
  },
  {
   "cell_type": "code",
   "execution_count": 116,
   "id": "538c4c06",
   "metadata": {},
   "outputs": [
    {
     "data": {
      "text/plain": [
       "0.6410032630188708"
      ]
     },
     "execution_count": 116,
     "metadata": {},
     "output_type": "execute_result"
    }
   ],
   "source": [
    "model = linear_model.Ridge(alpha=0, solver=\"sag\", random_state=42)\n",
    "\n",
    "model.fit(X_train_q6,y_train_q6)\n",
    "\n",
    "dicts_test_q6 = df_test_q6[categorical_q6 + numerical_q6].to_dict(orient = 'records')\n",
    "\n",
    "dv = DictVectorizer(sparse = False)\n",
    "X_test_q6 = dv.fit_transform(dicts_test_q6)\n",
    "\n",
    "y_pred_q6 = model.predict(X_test_q6)\n",
    "\n",
    "rmse(y_val_q6,y_pred_q6)"
   ]
  },
  {
   "cell_type": "code",
   "execution_count": 117,
   "id": "c932d327",
   "metadata": {},
   "outputs": [
    {
     "data": {
      "text/plain": [
       "0.6410032629933446"
      ]
     },
     "execution_count": 117,
     "metadata": {},
     "output_type": "execute_result"
    }
   ],
   "source": [
    "model = linear_model.Ridge(alpha=0.01, solver=\"sag\", random_state=42)\n",
    "\n",
    "model.fit(X_train_q6,y_train_q6)\n",
    "\n",
    "dicts_test_q6 = df_test_q6[categorical_q6 + numerical_q6].to_dict(orient = 'records')\n",
    "\n",
    "dv = DictVectorizer(sparse = False)\n",
    "X_test_q6 = dv.fit_transform(dicts_test_q6)\n",
    "\n",
    "y_pred_q6 = model.predict(X_test_q6)\n",
    "\n",
    "rmse(y_val_q6,y_pred_q6)"
   ]
  },
  {
   "cell_type": "code",
   "execution_count": 118,
   "id": "a3642bd9",
   "metadata": {},
   "outputs": [
    {
     "data": {
      "text/plain": [
       "0.6410032627508367"
      ]
     },
     "execution_count": 118,
     "metadata": {},
     "output_type": "execute_result"
    }
   ],
   "source": [
    "model = linear_model.Ridge(alpha=0.1, solver=\"sag\", random_state=42)\n",
    "\n",
    "model.fit(X_train_q6,y_train_q6)\n",
    "\n",
    "dicts_test_q6 = df_test_q6[categorical_q6 + numerical_q6].to_dict(orient = 'records')\n",
    "\n",
    "dv = DictVectorizer(sparse = False)\n",
    "X_test_q6 = dv.fit_transform(dicts_test_q6)\n",
    "\n",
    "y_pred_q6 = model.predict(X_test_q6)\n",
    "\n",
    "rmse(y_val_q6,y_pred_q6)"
   ]
  },
  {
   "cell_type": "code",
   "execution_count": 119,
   "id": "cc99f8b7",
   "metadata": {},
   "outputs": [
    {
     "data": {
      "text/plain": [
       "0.6410032603130555"
      ]
     },
     "execution_count": 119,
     "metadata": {},
     "output_type": "execute_result"
    }
   ],
   "source": [
    "model = linear_model.Ridge(alpha=1, solver=\"sag\", random_state=42)\n",
    "\n",
    "model.fit(X_train_q6,y_train_q6)\n",
    "\n",
    "dicts_test_q6 = df_test_q6[categorical_q6 + numerical_q6].to_dict(orient = 'records')\n",
    "\n",
    "dv = DictVectorizer(sparse = False)\n",
    "X_test_q6 = dv.fit_transform(dicts_test_q6)\n",
    "\n",
    "y_pred_q6 = model.predict(X_test_q6)\n",
    "\n",
    "rmse(y_val_q6,y_pred_q6)"
   ]
  },
  {
   "cell_type": "code",
   "execution_count": 123,
   "id": "3eb85651",
   "metadata": {},
   "outputs": [
    {
     "data": {
      "text/plain": [
       "0.6410032359734865"
      ]
     },
     "execution_count": 123,
     "metadata": {},
     "output_type": "execute_result"
    }
   ],
   "source": [
    "model = linear_model.Ridge(alpha=10, solver=\"sag\", random_state=42)\n",
    "\n",
    "model.fit(X_train_q6,y_train_q6)\n",
    "\n",
    "dicts_test_q6 = df_test_q6[categorical_q6 + numerical_q6].to_dict(orient = 'records')\n",
    "\n",
    "dv = DictVectorizer(sparse = False)\n",
    "X_test_q6 = dv.fit_transform(dicts_test_q6)\n",
    "\n",
    "y_pred_q6 = model.predict(X_test_q6)\n",
    "\n",
    "rmse(y_val_q6,y_pred_q6)"
   ]
  },
  {
   "cell_type": "markdown",
   "id": "f24b43d6",
   "metadata": {},
   "source": [
    "Answer : `0.01`"
   ]
  }
 ],
 "metadata": {
  "kernelspec": {
   "display_name": "Python 3 (ipykernel)",
   "language": "python",
   "name": "python3"
  },
  "language_info": {
   "codemirror_mode": {
    "name": "ipython",
    "version": 3
   },
   "file_extension": ".py",
   "mimetype": "text/x-python",
   "name": "python",
   "nbconvert_exporter": "python",
   "pygments_lexer": "ipython3",
   "version": "3.9.12"
  }
 },
 "nbformat": 4,
 "nbformat_minor": 5
}
