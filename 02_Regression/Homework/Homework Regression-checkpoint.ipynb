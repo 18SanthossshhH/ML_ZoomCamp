{
 "cells": [
  {
   "cell_type": "markdown",
   "id": "5d1f463c",
   "metadata": {},
   "source": [
    "# Session #2 Homework"
   ]
  },
  {
   "cell_type": "code",
   "execution_count": 1,
   "id": "6297f2d3",
   "metadata": {},
   "outputs": [],
   "source": [
    "import numpy as np\n",
    "import pandas as pd\n",
    "import matplotlib.pyplot as plt\n",
    "import matplotlib \n",
    "import seaborn as sns\n",
    "import warnings\n",
    "\n",
    "%matplotlib inline"
   ]
  },
  {
   "cell_type": "markdown",
   "id": "bf8667e2",
   "metadata": {},
   "source": [
    "## Getting the data:"
   ]
  },
  {
   "cell_type": "markdown",
   "id": "c9a2f7c3",
   "metadata": {},
   "source": [
    "For this homework, we'll use the Car price dataset. Download it from here.\n",
    "\n",
    "You can do it with wget: wget https://raw.githubusercontent.com/alexeygrigorev/datasets/master/housing.csv"
   ]
  },
  {
   "cell_type": "code",
   "execution_count": 11,
   "id": "0689ab6e",
   "metadata": {
    "scrolled": true
   },
   "outputs": [
    {
     "data": {
      "text/html": [
       "<div>\n",
       "<style scoped>\n",
       "    .dataframe tbody tr th:only-of-type {\n",
       "        vertical-align: middle;\n",
       "    }\n",
       "\n",
       "    .dataframe tbody tr th {\n",
       "        vertical-align: top;\n",
       "    }\n",
       "\n",
       "    .dataframe thead th {\n",
       "        text-align: right;\n",
       "    }\n",
       "</style>\n",
       "<table border=\"1\" class=\"dataframe\">\n",
       "  <thead>\n",
       "    <tr style=\"text-align: right;\">\n",
       "      <th></th>\n",
       "      <th>longitude</th>\n",
       "      <th>latitude</th>\n",
       "      <th>housing_median_age</th>\n",
       "      <th>total_rooms</th>\n",
       "      <th>total_bedrooms</th>\n",
       "      <th>population</th>\n",
       "      <th>households</th>\n",
       "      <th>median_income</th>\n",
       "      <th>median_house_value</th>\n",
       "      <th>ocean_proximity</th>\n",
       "    </tr>\n",
       "  </thead>\n",
       "  <tbody>\n",
       "    <tr>\n",
       "      <th>0</th>\n",
       "      <td>-122.23</td>\n",
       "      <td>37.88</td>\n",
       "      <td>41.0</td>\n",
       "      <td>880.0</td>\n",
       "      <td>129.0</td>\n",
       "      <td>322.0</td>\n",
       "      <td>126.0</td>\n",
       "      <td>8.3252</td>\n",
       "      <td>452600.0</td>\n",
       "      <td>NEAR BAY</td>\n",
       "    </tr>\n",
       "    <tr>\n",
       "      <th>1</th>\n",
       "      <td>-122.22</td>\n",
       "      <td>37.86</td>\n",
       "      <td>21.0</td>\n",
       "      <td>7099.0</td>\n",
       "      <td>1106.0</td>\n",
       "      <td>2401.0</td>\n",
       "      <td>1138.0</td>\n",
       "      <td>8.3014</td>\n",
       "      <td>358500.0</td>\n",
       "      <td>NEAR BAY</td>\n",
       "    </tr>\n",
       "    <tr>\n",
       "      <th>2</th>\n",
       "      <td>-122.24</td>\n",
       "      <td>37.85</td>\n",
       "      <td>52.0</td>\n",
       "      <td>1467.0</td>\n",
       "      <td>190.0</td>\n",
       "      <td>496.0</td>\n",
       "      <td>177.0</td>\n",
       "      <td>7.2574</td>\n",
       "      <td>352100.0</td>\n",
       "      <td>NEAR BAY</td>\n",
       "    </tr>\n",
       "    <tr>\n",
       "      <th>3</th>\n",
       "      <td>-122.25</td>\n",
       "      <td>37.85</td>\n",
       "      <td>52.0</td>\n",
       "      <td>1274.0</td>\n",
       "      <td>235.0</td>\n",
       "      <td>558.0</td>\n",
       "      <td>219.0</td>\n",
       "      <td>5.6431</td>\n",
       "      <td>341300.0</td>\n",
       "      <td>NEAR BAY</td>\n",
       "    </tr>\n",
       "    <tr>\n",
       "      <th>4</th>\n",
       "      <td>-122.25</td>\n",
       "      <td>37.85</td>\n",
       "      <td>52.0</td>\n",
       "      <td>1627.0</td>\n",
       "      <td>280.0</td>\n",
       "      <td>565.0</td>\n",
       "      <td>259.0</td>\n",
       "      <td>3.8462</td>\n",
       "      <td>342200.0</td>\n",
       "      <td>NEAR BAY</td>\n",
       "    </tr>\n",
       "  </tbody>\n",
       "</table>\n",
       "</div>"
      ],
      "text/plain": [
       "   longitude  latitude  housing_median_age  total_rooms  total_bedrooms  \\\n",
       "0    -122.23     37.88                41.0        880.0           129.0   \n",
       "1    -122.22     37.86                21.0       7099.0          1106.0   \n",
       "2    -122.24     37.85                52.0       1467.0           190.0   \n",
       "3    -122.25     37.85                52.0       1274.0           235.0   \n",
       "4    -122.25     37.85                52.0       1627.0           280.0   \n",
       "\n",
       "   population  households  median_income  median_house_value ocean_proximity  \n",
       "0       322.0       126.0         8.3252            452600.0        NEAR BAY  \n",
       "1      2401.0      1138.0         8.3014            358500.0        NEAR BAY  \n",
       "2       496.0       177.0         7.2574            352100.0        NEAR BAY  \n",
       "3       558.0       219.0         5.6431            341300.0        NEAR BAY  \n",
       "4       565.0       259.0         3.8462            342200.0        NEAR BAY  "
      ]
     },
     "execution_count": 11,
     "metadata": {},
     "output_type": "execute_result"
    }
   ],
   "source": [
    "df = pd.read_csv('housing_data.csv')\n",
    "df.head()"
   ]
  },
  {
   "cell_type": "code",
   "execution_count": 27,
   "id": "fcde0f5e",
   "metadata": {},
   "outputs": [
    {
     "data": {
      "text/html": [
       "<div>\n",
       "<style scoped>\n",
       "    .dataframe tbody tr th:only-of-type {\n",
       "        vertical-align: middle;\n",
       "    }\n",
       "\n",
       "    .dataframe tbody tr th {\n",
       "        vertical-align: top;\n",
       "    }\n",
       "\n",
       "    .dataframe thead th {\n",
       "        text-align: right;\n",
       "    }\n",
       "</style>\n",
       "<table border=\"1\" class=\"dataframe\">\n",
       "  <thead>\n",
       "    <tr style=\"text-align: right;\">\n",
       "      <th></th>\n",
       "      <th>longitude</th>\n",
       "      <th>latitude</th>\n",
       "      <th>housing_median_age</th>\n",
       "      <th>total_rooms</th>\n",
       "      <th>total_bedrooms</th>\n",
       "      <th>population</th>\n",
       "      <th>households</th>\n",
       "      <th>median_income</th>\n",
       "      <th>median_house_value</th>\n",
       "    </tr>\n",
       "  </thead>\n",
       "  <tbody>\n",
       "    <tr>\n",
       "      <th>count</th>\n",
       "      <td>20640.000000</td>\n",
       "      <td>20640.000000</td>\n",
       "      <td>20640.000000</td>\n",
       "      <td>20640.000000</td>\n",
       "      <td>20433.000000</td>\n",
       "      <td>20640.000000</td>\n",
       "      <td>20640.000000</td>\n",
       "      <td>20640.000000</td>\n",
       "      <td>20640.000000</td>\n",
       "    </tr>\n",
       "    <tr>\n",
       "      <th>mean</th>\n",
       "      <td>-119.569704</td>\n",
       "      <td>35.631861</td>\n",
       "      <td>28.639486</td>\n",
       "      <td>2635.763081</td>\n",
       "      <td>537.870553</td>\n",
       "      <td>1425.476744</td>\n",
       "      <td>499.539680</td>\n",
       "      <td>3.870671</td>\n",
       "      <td>206855.816909</td>\n",
       "    </tr>\n",
       "    <tr>\n",
       "      <th>std</th>\n",
       "      <td>2.003532</td>\n",
       "      <td>2.135952</td>\n",
       "      <td>12.585558</td>\n",
       "      <td>2181.615252</td>\n",
       "      <td>421.385070</td>\n",
       "      <td>1132.462122</td>\n",
       "      <td>382.329753</td>\n",
       "      <td>1.899822</td>\n",
       "      <td>115395.615874</td>\n",
       "    </tr>\n",
       "    <tr>\n",
       "      <th>min</th>\n",
       "      <td>-124.350000</td>\n",
       "      <td>32.540000</td>\n",
       "      <td>1.000000</td>\n",
       "      <td>2.000000</td>\n",
       "      <td>1.000000</td>\n",
       "      <td>3.000000</td>\n",
       "      <td>1.000000</td>\n",
       "      <td>0.499900</td>\n",
       "      <td>14999.000000</td>\n",
       "    </tr>\n",
       "    <tr>\n",
       "      <th>25%</th>\n",
       "      <td>-121.800000</td>\n",
       "      <td>33.930000</td>\n",
       "      <td>18.000000</td>\n",
       "      <td>1447.750000</td>\n",
       "      <td>296.000000</td>\n",
       "      <td>787.000000</td>\n",
       "      <td>280.000000</td>\n",
       "      <td>2.563400</td>\n",
       "      <td>119600.000000</td>\n",
       "    </tr>\n",
       "    <tr>\n",
       "      <th>50%</th>\n",
       "      <td>-118.490000</td>\n",
       "      <td>34.260000</td>\n",
       "      <td>29.000000</td>\n",
       "      <td>2127.000000</td>\n",
       "      <td>435.000000</td>\n",
       "      <td>1166.000000</td>\n",
       "      <td>409.000000</td>\n",
       "      <td>3.534800</td>\n",
       "      <td>179700.000000</td>\n",
       "    </tr>\n",
       "    <tr>\n",
       "      <th>75%</th>\n",
       "      <td>-118.010000</td>\n",
       "      <td>37.710000</td>\n",
       "      <td>37.000000</td>\n",
       "      <td>3148.000000</td>\n",
       "      <td>647.000000</td>\n",
       "      <td>1725.000000</td>\n",
       "      <td>605.000000</td>\n",
       "      <td>4.743250</td>\n",
       "      <td>264725.000000</td>\n",
       "    </tr>\n",
       "    <tr>\n",
       "      <th>max</th>\n",
       "      <td>-114.310000</td>\n",
       "      <td>41.950000</td>\n",
       "      <td>52.000000</td>\n",
       "      <td>39320.000000</td>\n",
       "      <td>6445.000000</td>\n",
       "      <td>35682.000000</td>\n",
       "      <td>6082.000000</td>\n",
       "      <td>15.000100</td>\n",
       "      <td>500001.000000</td>\n",
       "    </tr>\n",
       "  </tbody>\n",
       "</table>\n",
       "</div>"
      ],
      "text/plain": [
       "          longitude      latitude  housing_median_age   total_rooms  \\\n",
       "count  20640.000000  20640.000000        20640.000000  20640.000000   \n",
       "mean    -119.569704     35.631861           28.639486   2635.763081   \n",
       "std        2.003532      2.135952           12.585558   2181.615252   \n",
       "min     -124.350000     32.540000            1.000000      2.000000   \n",
       "25%     -121.800000     33.930000           18.000000   1447.750000   \n",
       "50%     -118.490000     34.260000           29.000000   2127.000000   \n",
       "75%     -118.010000     37.710000           37.000000   3148.000000   \n",
       "max     -114.310000     41.950000           52.000000  39320.000000   \n",
       "\n",
       "       total_bedrooms    population    households  median_income  \\\n",
       "count    20433.000000  20640.000000  20640.000000   20640.000000   \n",
       "mean       537.870553   1425.476744    499.539680       3.870671   \n",
       "std        421.385070   1132.462122    382.329753       1.899822   \n",
       "min          1.000000      3.000000      1.000000       0.499900   \n",
       "25%        296.000000    787.000000    280.000000       2.563400   \n",
       "50%        435.000000   1166.000000    409.000000       3.534800   \n",
       "75%        647.000000   1725.000000    605.000000       4.743250   \n",
       "max       6445.000000  35682.000000   6082.000000      15.000100   \n",
       "\n",
       "       median_house_value  \n",
       "count        20640.000000  \n",
       "mean        206855.816909  \n",
       "std         115395.615874  \n",
       "min          14999.000000  \n",
       "25%         119600.000000  \n",
       "50%         179700.000000  \n",
       "75%         264725.000000  \n",
       "max         500001.000000  "
      ]
     },
     "execution_count": 27,
     "metadata": {},
     "output_type": "execute_result"
    }
   ],
   "source": [
    "df.describe()"
   ]
  },
  {
   "cell_type": "markdown",
   "id": "3d5836f8",
   "metadata": {},
   "source": [
    "## EDA (Exploratory data Analysis)"
   ]
  },
  {
   "cell_type": "code",
   "execution_count": 9,
   "id": "4f095f82",
   "metadata": {
    "scrolled": true
   },
   "outputs": [
    {
     "name": "stdout",
     "output_type": "stream",
     "text": [
      "longitude\n",
      "[-122.23 -122.22 -122.24 -122.25 -122.26]\n",
      "844\n",
      "latitude\n",
      "[37.88 37.86 37.85 37.84 37.83]\n",
      "862\n",
      "housing_median_age\n",
      "[41. 21. 52. 42. 50.]\n",
      "52\n",
      "total_rooms\n",
      "[ 880. 7099. 1467. 1274. 1627.]\n",
      "5926\n",
      "total_bedrooms\n",
      "[ 129. 1106.  190.  235.  280.]\n",
      "1923\n",
      "population\n",
      "[ 322. 2401.  496.  558.  565.]\n",
      "3888\n",
      "households\n",
      "[ 126. 1138.  177.  219.  259.]\n",
      "1815\n",
      "median_income\n",
      "[8.3252 8.3014 7.2574 5.6431 3.8462]\n",
      "12928\n",
      "median_house_value\n",
      "[452600. 358500. 352100. 341300. 342200.]\n",
      "3842\n",
      "ocean_proximity\n",
      "['NEAR BAY' '<1H OCEAN' 'INLAND' 'NEAR OCEAN' 'ISLAND']\n",
      "5\n"
     ]
    }
   ],
   "source": [
    "for col in df.columns:\n",
    "    print(col)\n",
    "    print(df[col].unique()[:5])\n",
    "    print(df[col].nunique())"
   ]
  },
  {
   "cell_type": "code",
   "execution_count": 16,
   "id": "a04c24fb",
   "metadata": {
    "scrolled": false
   },
   "outputs": [
    {
     "data": {
      "text/plain": [
       "<AxesSubplot:xlabel='median_house_value', ylabel='Count'>"
      ]
     },
     "execution_count": 16,
     "metadata": {},
     "output_type": "execute_result"
    },
    {
     "data": {
      "image/png": "[encoded data removed]",
      "text/plain": [
       "<Figure size 432x288 with 1 Axes>"
      ]
     },
     "metadata": {
      "needs_background": "light"
     },
     "output_type": "display_data"
    }
   ],
   "source": [
    "sns.histplot(df.median_house_value)"
   ]
  },
  {
   "cell_type": "code",
   "execution_count": 57,
   "id": "58046fea",
   "metadata": {},
   "outputs": [],
   "source": [
    "del df_train['ocean_proximity']\n",
    "del df_val['ocean_proximity']\n",
    "del df_test['ocean_proximity']"
   ]
  },
  {
   "cell_type": "markdown",
   "id": "a32776a9",
   "metadata": {},
   "source": [
    "#### From the above Histogram we can see that `median_house_value` variable have a long tail"
   ]
  },
  {
   "cell_type": "markdown",
   "id": "b00b9115",
   "metadata": {},
   "source": [
    "## Question 1"
   ]
  },
  {
   "cell_type": "markdown",
   "id": "bd65e950",
   "metadata": {},
   "source": [
    "Find a feature with missing values. How many missing values does it have?\n",
    "\n",
    "* 207\n",
    "* 307\n",
    "* 408\n",
    "* 508"
   ]
  },
  {
   "cell_type": "code",
   "execution_count": 25,
   "id": "3b651633",
   "metadata": {},
   "outputs": [
    {
     "data": {
      "text/plain": [
       "longitude               0\n",
       "latitude                0\n",
       "housing_median_age      0\n",
       "total_rooms             0\n",
       "total_bedrooms        207\n",
       "population              0\n",
       "households              0\n",
       "median_income           0\n",
       "median_house_value      0\n",
       "ocean_proximity         0\n",
       "dtype: int64"
      ]
     },
     "execution_count": 25,
     "metadata": {},
     "output_type": "execute_result"
    }
   ],
   "source": [
    "df.isnull().sum()"
   ]
  },
  {
   "cell_type": "markdown",
   "id": "9f988239",
   "metadata": {},
   "source": [
    "Answer : total_bedrooms column have 207 missing values "
   ]
  },
  {
   "cell_type": "markdown",
   "id": "f991e7bc",
   "metadata": {},
   "source": [
    "## Question 2"
   ]
  },
  {
   "cell_type": "markdown",
   "id": "a1e28b9d",
   "metadata": {},
   "source": [
    "What's the median (50% percentile) for variable 'population'?\n",
    "\n",
    "* 1133\n",
    "* 1122\n",
    "* 1166\n",
    "* 1188"
   ]
  },
  {
   "cell_type": "code",
   "execution_count": 26,
   "id": "521f121a",
   "metadata": {},
   "outputs": [
    {
     "data": {
      "text/html": [
       "<div>\n",
       "<style scoped>\n",
       "    .dataframe tbody tr th:only-of-type {\n",
       "        vertical-align: middle;\n",
       "    }\n",
       "\n",
       "    .dataframe tbody tr th {\n",
       "        vertical-align: top;\n",
       "    }\n",
       "\n",
       "    .dataframe thead th {\n",
       "        text-align: right;\n",
       "    }\n",
       "</style>\n",
       "<table border=\"1\" class=\"dataframe\">\n",
       "  <thead>\n",
       "    <tr style=\"text-align: right;\">\n",
       "      <th></th>\n",
       "      <th>longitude</th>\n",
       "      <th>latitude</th>\n",
       "      <th>housing_median_age</th>\n",
       "      <th>total_rooms</th>\n",
       "      <th>total_bedrooms</th>\n",
       "      <th>population</th>\n",
       "      <th>households</th>\n",
       "      <th>median_income</th>\n",
       "      <th>median_house_value</th>\n",
       "    </tr>\n",
       "  </thead>\n",
       "  <tbody>\n",
       "    <tr>\n",
       "      <th>count</th>\n",
       "      <td>20640.000000</td>\n",
       "      <td>20640.000000</td>\n",
       "      <td>20640.000000</td>\n",
       "      <td>20640.000000</td>\n",
       "      <td>20433.000000</td>\n",
       "      <td>20640.000000</td>\n",
       "      <td>20640.000000</td>\n",
       "      <td>20640.000000</td>\n",
       "      <td>20640.000000</td>\n",
       "    </tr>\n",
       "    <tr>\n",
       "      <th>mean</th>\n",
       "      <td>-119.569704</td>\n",
       "      <td>35.631861</td>\n",
       "      <td>28.639486</td>\n",
       "      <td>2635.763081</td>\n",
       "      <td>537.870553</td>\n",
       "      <td>1425.476744</td>\n",
       "      <td>499.539680</td>\n",
       "      <td>3.870671</td>\n",
       "      <td>206855.816909</td>\n",
       "    </tr>\n",
       "    <tr>\n",
       "      <th>std</th>\n",
       "      <td>2.003532</td>\n",
       "      <td>2.135952</td>\n",
       "      <td>12.585558</td>\n",
       "      <td>2181.615252</td>\n",
       "      <td>421.385070</td>\n",
       "      <td>1132.462122</td>\n",
       "      <td>382.329753</td>\n",
       "      <td>1.899822</td>\n",
       "      <td>115395.615874</td>\n",
       "    </tr>\n",
       "    <tr>\n",
       "      <th>min</th>\n",
       "      <td>-124.350000</td>\n",
       "      <td>32.540000</td>\n",
       "      <td>1.000000</td>\n",
       "      <td>2.000000</td>\n",
       "      <td>1.000000</td>\n",
       "      <td>3.000000</td>\n",
       "      <td>1.000000</td>\n",
       "      <td>0.499900</td>\n",
       "      <td>14999.000000</td>\n",
       "    </tr>\n",
       "    <tr>\n",
       "      <th>25%</th>\n",
       "      <td>-121.800000</td>\n",
       "      <td>33.930000</td>\n",
       "      <td>18.000000</td>\n",
       "      <td>1447.750000</td>\n",
       "      <td>296.000000</td>\n",
       "      <td>787.000000</td>\n",
       "      <td>280.000000</td>\n",
       "      <td>2.563400</td>\n",
       "      <td>119600.000000</td>\n",
       "    </tr>\n",
       "    <tr>\n",
       "      <th>50%</th>\n",
       "      <td>-118.490000</td>\n",
       "      <td>34.260000</td>\n",
       "      <td>29.000000</td>\n",
       "      <td>2127.000000</td>\n",
       "      <td>435.000000</td>\n",
       "      <td>1166.000000</td>\n",
       "      <td>409.000000</td>\n",
       "      <td>3.534800</td>\n",
       "      <td>179700.000000</td>\n",
       "    </tr>\n",
       "    <tr>\n",
       "      <th>75%</th>\n",
       "      <td>-118.010000</td>\n",
       "      <td>37.710000</td>\n",
       "      <td>37.000000</td>\n",
       "      <td>3148.000000</td>\n",
       "      <td>647.000000</td>\n",
       "      <td>1725.000000</td>\n",
       "      <td>605.000000</td>\n",
       "      <td>4.743250</td>\n",
       "      <td>264725.000000</td>\n",
       "    </tr>\n",
       "    <tr>\n",
       "      <th>max</th>\n",
       "      <td>-114.310000</td>\n",
       "      <td>41.950000</td>\n",
       "      <td>52.000000</td>\n",
       "      <td>39320.000000</td>\n",
       "      <td>6445.000000</td>\n",
       "      <td>35682.000000</td>\n",
       "      <td>6082.000000</td>\n",
       "      <td>15.000100</td>\n",
       "      <td>500001.000000</td>\n",
       "    </tr>\n",
       "  </tbody>\n",
       "</table>\n",
       "</div>"
      ],
      "text/plain": [
       "          longitude      latitude  housing_median_age   total_rooms  \\\n",
       "count  20640.000000  20640.000000        20640.000000  20640.000000   \n",
       "mean    -119.569704     35.631861           28.639486   2635.763081   \n",
       "std        2.003532      2.135952           12.585558   2181.615252   \n",
       "min     -124.350000     32.540000            1.000000      2.000000   \n",
       "25%     -121.800000     33.930000           18.000000   1447.750000   \n",
       "50%     -118.490000     34.260000           29.000000   2127.000000   \n",
       "75%     -118.010000     37.710000           37.000000   3148.000000   \n",
       "max     -114.310000     41.950000           52.000000  39320.000000   \n",
       "\n",
       "       total_bedrooms    population    households  median_income  \\\n",
       "count    20433.000000  20640.000000  20640.000000   20640.000000   \n",
       "mean       537.870553   1425.476744    499.539680       3.870671   \n",
       "std        421.385070   1132.462122    382.329753       1.899822   \n",
       "min          1.000000      3.000000      1.000000       0.499900   \n",
       "25%        296.000000    787.000000    280.000000       2.563400   \n",
       "50%        435.000000   1166.000000    409.000000       3.534800   \n",
       "75%        647.000000   1725.000000    605.000000       4.743250   \n",
       "max       6445.000000  35682.000000   6082.000000      15.000100   \n",
       "\n",
       "       median_house_value  \n",
       "count        20640.000000  \n",
       "mean        206855.816909  \n",
       "std         115395.615874  \n",
       "min          14999.000000  \n",
       "25%         119600.000000  \n",
       "50%         179700.000000  \n",
       "75%         264725.000000  \n",
       "max         500001.000000  "
      ]
     },
     "execution_count": 26,
     "metadata": {},
     "output_type": "execute_result"
    }
   ],
   "source": [
    "df.describe()"
   ]
  },
  {
   "cell_type": "code",
   "execution_count": 28,
   "id": "0afa64b9",
   "metadata": {},
   "outputs": [
    {
     "data": {
      "text/plain": [
       "1166.0"
      ]
     },
     "execution_count": 28,
     "metadata": {},
     "output_type": "execute_result"
    }
   ],
   "source": [
    "df['population'].median()"
   ]
  },
  {
   "cell_type": "markdown",
   "id": "a4e38266",
   "metadata": {},
   "source": [
    "Answer : Median of Variable population is 1166.0"
   ]
  },
  {
   "cell_type": "markdown",
   "id": "8a65d59a",
   "metadata": {},
   "source": [
    "* Split the data\n",
    "* Shuffle the initial dataset, use seed 42.\n",
    "* Split your data in train/val/test sets, with 60%/20%/20% distribution.\n",
    "* Make sure that the target value ('median_house_value') is not in your dataframe.\n",
    "* Apply the log transformation to the median_house_value variable using the np.log1p() function."
   ]
  },
  {
   "cell_type": "markdown",
   "id": "44070cd5",
   "metadata": {},
   "source": [
    "## Validation Framework:"
   ]
  },
  {
   "cell_type": "code",
   "execution_count": 55,
   "id": "c454ccb6",
   "metadata": {},
   "outputs": [],
   "source": [
    "n = len(df)\n",
    "n_val = int(n * 0.2)\n",
    "n_test = int(n * 0.2)\n",
    "n_train = n - (n_val + n_test)\n",
    "\n",
    "idx = np.arange(n)\n",
    "\n",
    "np.random.seed(42)\n",
    "np.random.shuffle(idx)\n",
    "\n",
    "df_shuffled = df.iloc[idx]\n",
    "\n",
    "df_train = df_shuffled.iloc[: n_train].copy()\n",
    "df_val = df_shuffled.iloc[n_train : n_train + n_val].copy()\n",
    "df_test = df_shuffled.iloc[n_train + n_val : ].copy()\n",
    "\n",
    "len(df_train),len(df_val),len(df_test)\n",
    "\n",
    "df_train = df_train.reset_index(drop = True) \n",
    "df_val = df_val.reset_index(drop = True)\n",
    "df_test = df_test.reset_index(drop = True)\n",
    "\n",
    "y_train = np.log1p(df_train.median_house_value)\n",
    "y_val = np.log1p(df_val.median_house_value)\n",
    "y_test = np.log1p(df_test.median_house_value)\n",
    "\n",
    "del df_train['median_house_value']\n",
    "del df_val['median_house_value']\n",
    "del df_test['median_house_value']"
   ]
  },
  {
   "cell_type": "code",
   "execution_count": 59,
   "id": "34e22d3c",
   "metadata": {},
   "outputs": [
    {
     "data": {
      "text/html": [
       "<div>\n",
       "<style scoped>\n",
       "    .dataframe tbody tr th:only-of-type {\n",
       "        vertical-align: middle;\n",
       "    }\n",
       "\n",
       "    .dataframe tbody tr th {\n",
       "        vertical-align: top;\n",
       "    }\n",
       "\n",
       "    .dataframe thead th {\n",
       "        text-align: right;\n",
       "    }\n",
       "</style>\n",
       "<table border=\"1\" class=\"dataframe\">\n",
       "  <thead>\n",
       "    <tr style=\"text-align: right;\">\n",
       "      <th></th>\n",
       "      <th>longitude</th>\n",
       "      <th>latitude</th>\n",
       "      <th>housing_median_age</th>\n",
       "      <th>total_rooms</th>\n",
       "      <th>total_bedrooms</th>\n",
       "      <th>population</th>\n",
       "      <th>households</th>\n",
       "      <th>median_income</th>\n",
       "    </tr>\n",
       "  </thead>\n",
       "  <tbody>\n",
       "    <tr>\n",
       "      <th>0</th>\n",
       "      <td>-119.01</td>\n",
       "      <td>36.06</td>\n",
       "      <td>25.0</td>\n",
       "      <td>1505.0</td>\n",
       "      <td>NaN</td>\n",
       "      <td>1392.0</td>\n",
       "      <td>359.0</td>\n",
       "      <td>1.6812</td>\n",
       "    </tr>\n",
       "    <tr>\n",
       "      <th>1</th>\n",
       "      <td>-119.46</td>\n",
       "      <td>35.14</td>\n",
       "      <td>30.0</td>\n",
       "      <td>2943.0</td>\n",
       "      <td>NaN</td>\n",
       "      <td>1565.0</td>\n",
       "      <td>584.0</td>\n",
       "      <td>2.5313</td>\n",
       "    </tr>\n",
       "    <tr>\n",
       "      <th>2</th>\n",
       "      <td>-122.44</td>\n",
       "      <td>37.80</td>\n",
       "      <td>52.0</td>\n",
       "      <td>3830.0</td>\n",
       "      <td>NaN</td>\n",
       "      <td>1310.0</td>\n",
       "      <td>963.0</td>\n",
       "      <td>3.4801</td>\n",
       "    </tr>\n",
       "    <tr>\n",
       "      <th>3</th>\n",
       "      <td>-118.72</td>\n",
       "      <td>34.28</td>\n",
       "      <td>17.0</td>\n",
       "      <td>3051.0</td>\n",
       "      <td>NaN</td>\n",
       "      <td>1705.0</td>\n",
       "      <td>495.0</td>\n",
       "      <td>5.7376</td>\n",
       "    </tr>\n",
       "    <tr>\n",
       "      <th>4</th>\n",
       "      <td>-121.93</td>\n",
       "      <td>36.62</td>\n",
       "      <td>34.0</td>\n",
       "      <td>2351.0</td>\n",
       "      <td>NaN</td>\n",
       "      <td>1063.0</td>\n",
       "      <td>428.0</td>\n",
       "      <td>3.7250</td>\n",
       "    </tr>\n",
       "  </tbody>\n",
       "</table>\n",
       "</div>"
      ],
      "text/plain": [
       "   longitude  latitude  housing_median_age  total_rooms  total_bedrooms  \\\n",
       "0    -119.01     36.06                25.0       1505.0             NaN   \n",
       "1    -119.46     35.14                30.0       2943.0             NaN   \n",
       "2    -122.44     37.80                52.0       3830.0             NaN   \n",
       "3    -118.72     34.28                17.0       3051.0             NaN   \n",
       "4    -121.93     36.62                34.0       2351.0             NaN   \n",
       "\n",
       "   population  households  median_income  \n",
       "0      1392.0       359.0         1.6812  \n",
       "1      1565.0       584.0         2.5313  \n",
       "2      1310.0       963.0         3.4801  \n",
       "3      1705.0       495.0         5.7376  \n",
       "4      1063.0       428.0         3.7250  "
      ]
     },
     "execution_count": 59,
     "metadata": {},
     "output_type": "execute_result"
    }
   ],
   "source": [
    "df_train.head()"
   ]
  },
  {
   "cell_type": "markdown",
   "id": "37563cec",
   "metadata": {},
   "source": [
    "## Question 3"
   ]
  },
  {
   "cell_type": "markdown",
   "id": "5567ef75",
   "metadata": {},
   "source": [
    "\n",
    "* We need to deal with missing values for the column from Q1.\n",
    "* We have two options: fill it with 0 or with the mean of this variable.\n",
    "* Try both options. For each, train a linear regression model without regularization using the code from the lessons.\n",
    "* For computing the mean, use the training only!\n",
    "* Use the validation dataset to evaluate the models and compare the RMSE of each option.\n",
    "* Round the RMSE scores to 2 decimal digits using round(score, 2)\n",
    "* Which option gives better RMSE?"
   ]
  },
  {
   "cell_type": "markdown",
   "id": "153bfc77",
   "metadata": {},
   "source": [
    "Options:"
   ]
  },
  {
   "cell_type": "markdown",
   "id": "5fb1684b",
   "metadata": {},
   "source": [
    "* With 0\n",
    "* With mean\n",
    "* Both are equally good"
   ]
  },
  {
   "cell_type": "markdown",
   "id": "4aa39daa",
   "metadata": {},
   "source": [
    "### option : 1 replacing missing values with '0'"
   ]
  },
  {
   "cell_type": "markdown",
   "id": "ab23aa42",
   "metadata": {},
   "source": [
    "### Linear regression:"
   ]
  },
  {
   "cell_type": "code",
   "execution_count": 62,
   "id": "cbf8f822",
   "metadata": {},
   "outputs": [],
   "source": [
    "def train_linear_regression(X, y):\n",
    "    ones = np.ones(X.shape[0])\n",
    "    X = np.column_stack([ones, X])\n",
    "    \n",
    "    XTX = X.T.dot(X)\n",
    "    XTX_inv = np.linalg.inv(XTX)\n",
    "    w_full = XTX_inv.dot(X.T).dot(y)\n",
    "    \n",
    "    return w_full[0],w_full[1:]"
   ]
  },
  {
   "cell_type": "code",
   "execution_count": 95,
   "id": "f47be988",
   "metadata": {},
   "outputs": [],
   "source": [
    "def prepare_X(df):\n",
    "    df_num = df['total_bedrooms']\n",
    "    df_num = df_num.fillna(0)\n",
    "    X = df_num.values\n",
    "    return X"
   ]
  },
  {
   "cell_type": "code",
   "execution_count": 96,
   "id": "86190a34",
   "metadata": {},
   "outputs": [],
   "source": [
    "def rmse(y,y_pred):\n",
    "    se = (y-y_pred) ** 2\n",
    "    mse = se.mean()\n",
    "    return np.sqrt(mse)"
   ]
  },
  {
   "cell_type": "code",
   "execution_count": 133,
   "id": "0ed1136b",
   "metadata": {},
   "outputs": [
    {
     "data": {
      "text/plain": [
       "0.5713144443358035"
      ]
     },
     "execution_count": 133,
     "metadata": {},
     "output_type": "execute_result"
    }
   ],
   "source": [
    "X_train = prepare_X(df_train)\n",
    "w_0, w = train_linear_regression(X_train, y_train)\n",
    "\n",
    "X_val = prepare_X(df_val)\n",
    "y_pred = w_0 + (X_val * w)\n",
    "\n",
    "rmse(y_val, y_pred)"
   ]
  },
  {
   "cell_type": "code",
   "execution_count": 113,
   "id": "4efeaa66",
   "metadata": {},
   "outputs": [
    {
     "name": "stdout",
     "output_type": "stream",
     "text": [
      "rmse : 0.57\n"
     ]
    }
   ],
   "source": [
    "print(f'rmse : {round(rmse(y_val, y_pred), 2)}')"
   ]
  },
  {
   "cell_type": "code",
   "execution_count": 100,
   "id": "48e2b19b",
   "metadata": {},
   "outputs": [
    {
     "data": {
      "text/plain": [
       "<AxesSubplot:xlabel='median_house_value', ylabel='Count'>"
      ]
     },
     "execution_count": 100,
     "metadata": {},
     "output_type": "execute_result"
    },
    {
     "data": {
      "image/png": "[encoded data removed]",
      "text/plain": [
       "<Figure size 432x288 with 1 Axes>"
      ]
     },
     "metadata": {
      "needs_background": "light"
     },
     "output_type": "display_data"
    }
   ],
   "source": [
    "sns.histplot(y_pred, color = 'red',bins = 50)\n",
    "sns.histplot(y_train, color = 'blue',bins = 50)"
   ]
  },
  {
   "cell_type": "markdown",
   "id": "27b05c9e",
   "metadata": {},
   "source": [
    "RMSE in Option 1 : 0.57"
   ]
  },
  {
   "cell_type": "markdown",
   "id": "d050de51",
   "metadata": {},
   "source": [
    "### Option 2 : replacing missing values with 'mean'"
   ]
  },
  {
   "cell_type": "code",
   "execution_count": 85,
   "id": "6c56d342",
   "metadata": {},
   "outputs": [],
   "source": [
    "mean = df_train['total_bedrooms'].mean()"
   ]
  },
  {
   "cell_type": "code",
   "execution_count": 103,
   "id": "91ff2e8a",
   "metadata": {},
   "outputs": [],
   "source": [
    "def prepare_X_2(df):\n",
    "    df_num = df['total_bedrooms']\n",
    "    df_num = df_num.fillna(mean)\n",
    "    X = df_num.values\n",
    "    return X"
   ]
  },
  {
   "cell_type": "code",
   "execution_count": 115,
   "id": "41c0e0ef",
   "metadata": {},
   "outputs": [
    {
     "data": {
      "text/plain": [
       "0.5712744811029085"
      ]
     },
     "execution_count": 115,
     "metadata": {},
     "output_type": "execute_result"
    }
   ],
   "source": [
    "X_train_2 = prepare_X_2(df_train)\n",
    "w_0, w = train_linear_regression(X_train_2, y_train)\n",
    "\n",
    "X_val_2 = prepare_X_2(df_val)\n",
    "y_pred_2 = w_0 + (X_val_2 * w)\n",
    "\n",
    "rmse(y_val, y_pred_2)"
   ]
  },
  {
   "cell_type": "code",
   "execution_count": 114,
   "id": "253cf7eb",
   "metadata": {},
   "outputs": [
    {
     "name": "stdout",
     "output_type": "stream",
     "text": [
      "rmse : 0.57\n"
     ]
    }
   ],
   "source": [
    "print(f'rmse : {round(rmse(y_val, y_pred_2), 2)}')"
   ]
  },
  {
   "cell_type": "markdown",
   "id": "53acdb82",
   "metadata": {},
   "source": [
    "Answer : we can see rmse from Option 1 is `0.57` and from 2nd option is `0.57` as well ,So `Both are equally good`"
   ]
  },
  {
   "cell_type": "markdown",
   "id": "ecce1cfa",
   "metadata": {},
   "source": [
    "## Question 4"
   ]
  },
  {
   "cell_type": "markdown",
   "id": "eebf2563",
   "metadata": {},
   "source": [
    "* Now let's train a regularized linear regression.\n",
    "* For this question, fill the NAs with 0.\n",
    "* Try different values of r from this list: [0, 0.000001, 0.0001, 0.001, 0.01, 0.1, 1, 5, 10].\n",
    "* Use RMSE to evaluate the model on the validation dataset.\n",
    "* Round the RMSE scores to 2 decimal digits.\n",
    "* Which r gives the best RMSE?"
   ]
  },
  {
   "cell_type": "markdown",
   "id": "59a41f72",
   "metadata": {},
   "source": [
    "If there are multiple options, select the smallest r."
   ]
  },
  {
   "cell_type": "markdown",
   "id": "93e1c7d4",
   "metadata": {},
   "source": [
    "Options:"
   ]
  },
  {
   "cell_type": "markdown",
   "id": "0ca5fb87",
   "metadata": {},
   "source": [
    "* 0\n",
    "* 0.000001\n",
    "* 0.001\n",
    "* 0.0001"
   ]
  },
  {
   "cell_type": "code",
   "execution_count": 119,
   "id": "105265e8",
   "metadata": {},
   "outputs": [],
   "source": [
    "def train_linear_regression_reg(X, y, r=0.0):\n",
    "    ones = np.ones(X.shape[0])\n",
    "    X = np.column_stack([ones, X])\n",
    "\n",
    "    XTX = X.T.dot(X)\n",
    "    reg = r * np.eye(XTX.shape[0])\n",
    "    XTX = XTX + reg\n",
    "\n",
    "    XTX_inv = np.linalg.inv(XTX)\n",
    "    w_full = XTX_inv.dot(X.T).dot(y)\n",
    "    \n",
    "    return w_full[0], w_full[1:]"
   ]
  },
  {
   "cell_type": "code",
   "execution_count": 120,
   "id": "8e99aad9",
   "metadata": {},
   "outputs": [],
   "source": [
    "X_train = prepare_X(df_train)"
   ]
  },
  {
   "cell_type": "code",
   "execution_count": 131,
   "id": "b820c0b9",
   "metadata": {},
   "outputs": [
    {
     "name": "stdout",
     "output_type": "stream",
     "text": [
      "w : [0.00010218] , w0 : 12.033415752214037 , score : 0.5713144443358035\n",
      "w : [0.00010218] , w0 : 12.03341574975655 , score : 0.5713144442924385\n",
      "w : [0.00010218] , w0 : 12.033415506466286 , score : 0.5713144399994283\n",
      "w : [0.00010218] , w0 : 12.033413294737093 , score : 0.5713144009738136\n",
      "w : [0.00010221] , w0 : 12.03339117748991 , score : 0.5713140108910906\n",
      "w : [0.00010246] , w0 : 12.033170009489375 , score : 0.5713101274069038\n",
      "w : [0.00010501] , w0 : 12.030958776548584 , score : 0.5712730262914456\n",
      "w : [0.00011633] , w0 : 12.021140898989088 , score : 0.57114620547649\n",
      "w : [0.00013045] , w0 : 12.008891062548663 , score : 0.5710747819415557\n"
     ]
    }
   ],
   "source": [
    "for r in [0, 0.000001, 0.0001, 0.001, 0.01,0.1,1,5, 10]:\n",
    "    w0, w = train_linear_regression_reg(X_train, y_train, r=r)\n",
    "    \n",
    "    X_val = prepare_X(df_val)\n",
    "    y_pred = w0 + (X_val * w)\n",
    "    score = rmse(y_val, y_pred)\n",
    "    \n",
    "    print(f\"w : {w} , w0 : {w0} , score : {score}\") \n",
    "    "
   ]
  },
  {
   "cell_type": "markdown",
   "id": "f599a11a",
   "metadata": {},
   "source": [
    "Answer : smallest r = 0.000001"
   ]
  },
  {
   "cell_type": "markdown",
   "id": "f0b18218",
   "metadata": {},
   "source": [
    "## Question 5"
   ]
  },
  {
   "cell_type": "markdown",
   "id": "f9d89639",
   "metadata": {},
   "source": [
    "* We used seed 42 for splitting the data. Let's find out how selecting the seed influences our score.\n",
    "* Try different seed values: [0, 1, 2, 3, 4, 5, 6, 7, 8, 9].\n",
    "* For each seed, do the train/validation/test split with 60%/20%/20% distribution.\n",
    "* Fill the missing values with 0 and train a model without regularization.\n",
    "* For each seed, evaluate the model on the validation dataset and collect the RMSE scores.\n",
    "* What's the standard deviation of all the scores? To compute the standard deviation, use np.std.\n",
    "* Round the result to 3 decimal digits (round(std, 3))"
   ]
  },
  {
   "cell_type": "markdown",
   "id": "632089e7",
   "metadata": {},
   "source": [
    "Options:"
   ]
  },
  {
   "cell_type": "markdown",
   "id": "57867352",
   "metadata": {},
   "source": [
    "* 0.16\n",
    "* 0.00005\n",
    "* 0.005\n",
    "* 0.15555"
   ]
  },
  {
   "cell_type": "markdown",
   "id": "6a2bdb1b",
   "metadata": {},
   "source": [
    "Seed = 0"
   ]
  },
  {
   "cell_type": "code",
   "execution_count": 187,
   "id": "4e9bf864",
   "metadata": {},
   "outputs": [
    {
     "data": {
      "text/plain": [
       "0.565640252069651"
      ]
     },
     "execution_count": 187,
     "metadata": {},
     "output_type": "execute_result"
    }
   ],
   "source": [
    "n0 = len(df)\n",
    "n_val0 = int(n * 0.2)\n",
    "n_test0 = int(n * 0.2)\n",
    "n_train0 = n0 - (n_val0 + n_test0)\n",
    "\n",
    "idx0 = np.arange(n0)\n",
    "\n",
    "np.random.seed(0)\n",
    "np.random.shuffle(idx0)\n",
    "\n",
    "df_shuffled0 = df.iloc[idx0]\n",
    "\n",
    "df_train0 = df_shuffled0.iloc[: n_train0].copy()\n",
    "df_val0 = df_shuffled0.iloc[n_train0 : n_train0 + n_val0].copy()\n",
    "df_test0 = df_shuffled0.iloc[n_train0 + n_val0 : ].copy()\n",
    "\n",
    "df_train0 = df_train0.reset_index(drop = True) \n",
    "df_val0 = df_val0.reset_index(drop = True)\n",
    "df_test0 = df_test0.reset_index(drop = True)\n",
    "\n",
    "y_train0 = np.log1p(df_train0.median_house_value)\n",
    "y_val0 = np.log1p(df_val0.median_house_value)\n",
    "y_test0 = np.log1p(df_test0.median_house_value)\n",
    "\n",
    "del df_train0['median_house_value']\n",
    "del df_val0['median_house_value']\n",
    "del df_test0['median_house_value']\n",
    "\n",
    "X_train0 = prepare_X(df_train0)\n",
    "w0, w = train_linear_regression(X_train0, y_train0)\n",
    "\n",
    "X_val0 = prepare_X(df_val0)\n",
    "y_pred0 = w0 + (X_val0 * w)\n",
    "\n",
    "seed0_rmse = rmse(y_val0, y_pred0)\n",
    "seed0_rmse"
   ]
  },
  {
   "cell_type": "code",
   "execution_count": null,
   "id": "5f51564f",
   "metadata": {},
   "outputs": [],
   "source": [
    "seed = 1"
   ]
  },
  {
   "cell_type": "code",
   "execution_count": 188,
   "id": "c2cfd33f",
   "metadata": {},
   "outputs": [
    {
     "data": {
      "text/plain": [
       "0.5663197664260093"
      ]
     },
     "execution_count": 188,
     "metadata": {},
     "output_type": "execute_result"
    }
   ],
   "source": [
    "n1 = len(df)\n",
    "n_val1 = int(n * 0.2)\n",
    "n_test1 = int(n * 0.2)\n",
    "n_train1 = n1 - (n_val + n_test)\n",
    "\n",
    "idx1 = np.arange(n1)\n",
    "\n",
    "np.random.seed(1)\n",
    "np.random.shuffle(idx1)\n",
    "\n",
    "df_shuffled1 = df.iloc[idx1]\n",
    "\n",
    "df_train1 = df_shuffled1.iloc[: n_train1].copy()\n",
    "df_val1 = df_shuffled1.iloc[n_train1 : n_train1 + n_val1].copy()\n",
    "df_test1 = df_shuffled1.iloc[n_train1 + n_val1 : ].copy()\n",
    "\n",
    "df_train1 = df_train1.reset_index(drop = True) \n",
    "df_val1 = df_val1.reset_index(drop = True)\n",
    "df_test1 = df_test1.reset_index(drop = True)\n",
    "\n",
    "y_train1 = np.log1p(df_train1.median_house_value)\n",
    "y_val1 = np.log1p(df_val1.median_house_value)\n",
    "y_test1 = np.log1p(df_test1.median_house_value)\n",
    "\n",
    "del df_train1['median_house_value']\n",
    "del df_val1['median_house_value']\n",
    "del df_test1['median_house_value']\n",
    "\n",
    "X_train1 = prepare_X(df_train1)\n",
    "w_0, w = train_linear_regression(X_train1, y_train1)\n",
    "\n",
    "X_val1 = prepare_X(df_val1)\n",
    "y_pred1 = w_0 + (X_val1 * w)\n",
    "\n",
    "seed1_rmse =rmse(y_val1, y_pred1)\n",
    "seed1_rmse"
   ]
  },
  {
   "cell_type": "markdown",
   "id": "2c7f1deb",
   "metadata": {},
   "source": [
    "seed = 2"
   ]
  },
  {
   "cell_type": "code",
   "execution_count": 189,
   "id": "ceead1f9",
   "metadata": {},
   "outputs": [
    {
     "data": {
      "text/plain": [
       "0.5662029447468035"
      ]
     },
     "execution_count": 189,
     "metadata": {},
     "output_type": "execute_result"
    }
   ],
   "source": [
    "n2 = len(df)\n",
    "n_val2 = int(n * 0.2)\n",
    "n_test2 = int(n * 0.2)\n",
    "n_train2 = n2 - (n_val2 + n_test2)\n",
    "\n",
    "idx2 = np.arange(n2)\n",
    "\n",
    "np.random.seed(2)\n",
    "np.random.shuffle(idx2)\n",
    "\n",
    "df_shuffled2 = df.iloc[idx2]\n",
    "\n",
    "df_train2 = df_shuffled2.iloc[: n_train2].copy()\n",
    "df_val2 = df_shuffled1.iloc[n_train2 : n_train2 + n_val2].copy()\n",
    "df_test2 = df_shuffled1.iloc[n_train2 + n_val2 : ].copy()\n",
    "\n",
    "df_train2 = df_train2.reset_index(drop = True) \n",
    "df_val2 = df_val2.reset_index(drop = True)\n",
    "df_test2 = df_test2.reset_index(drop = True)\n",
    "\n",
    "y_train2 = np.log1p(df_train2.median_house_value)\n",
    "y_val2 = np.log1p(df_val2.median_house_value)\n",
    "y_test2 = np.log1p(df_test2.median_house_value)\n",
    "\n",
    "del df_train2['median_house_value']\n",
    "del df_val2['median_house_value']\n",
    "del df_test2['median_house_value']\n",
    "\n",
    "X_train2 = prepare_X(df_train2)\n",
    "w_0, w = train_linear_regression(X_train2, y_train2)\n",
    "\n",
    "X_val2 = prepare_X(df_val2)\n",
    "y_pred2 = w_0 + (X_val2 * w)\n",
    "\n",
    "seed2_rmse = rmse(y_val2, y_pred2)\n",
    "seed2_rmse"
   ]
  },
  {
   "cell_type": "markdown",
   "id": "27d74ac4",
   "metadata": {},
   "source": [
    "seed = 3"
   ]
  },
  {
   "cell_type": "code",
   "execution_count": 190,
   "id": "31c7ca5d",
   "metadata": {},
   "outputs": [
    {
     "data": {
      "text/plain": [
       "0.5686066253027101"
      ]
     },
     "execution_count": 190,
     "metadata": {},
     "output_type": "execute_result"
    }
   ],
   "source": [
    "n3 = len(df)\n",
    "n_val3 = int(n * 0.2)\n",
    "n_test3 = int(n * 0.2)\n",
    "n_train3 = n3 - (n_val3 + n_test3)\n",
    "\n",
    "idx3 = np.arange(n3)\n",
    "\n",
    "np.random.seed(3)\n",
    "np.random.shuffle(idx3)\n",
    "\n",
    "df_shuffled3 = df.iloc[idx3]\n",
    "\n",
    "df_train3 = df_shuffled3.iloc[: n_train3].copy()\n",
    "df_val3 = df_shuffled3.iloc[n_train3 : n_train3 + n_val3].copy()\n",
    "df_test3 = df_shuffled1.iloc[n_train3 + n_val3 : ].copy()\n",
    "\n",
    "df_train3 = df_train3.reset_index(drop = True) \n",
    "df_val3 = df_val3.reset_index(drop = True)\n",
    "df_test3 = df_test3.reset_index(drop = True)\n",
    "\n",
    "y_train3 = np.log1p(df_train3.median_house_value)\n",
    "y_val3 = np.log1p(df_val3.median_house_value)\n",
    "y_test3 = np.log1p(df_test3.median_house_value)\n",
    "\n",
    "del df_train3['median_house_value']\n",
    "del df_val3['median_house_value']\n",
    "del df_test3['median_house_value']\n",
    "\n",
    "X_train3 = prepare_X(df_train3)\n",
    "w_0, w = train_linear_regression(X_train3, y_train3)\n",
    "\n",
    "X_val3 = prepare_X(df_val3)\n",
    "y_pred3 = w_0 + (X_val3 * w)\n",
    "\n",
    "seed3_rmse = rmse(y_val3, y_pred3)\n",
    "seed3_rmse"
   ]
  },
  {
   "cell_type": "markdown",
   "id": "84011ba7",
   "metadata": {},
   "source": [
    "seed = 4"
   ]
  },
  {
   "cell_type": "code",
   "execution_count": 191,
   "id": "b854fc9b",
   "metadata": {},
   "outputs": [
    {
     "data": {
      "text/plain": [
       "0.5708444040960905"
      ]
     },
     "execution_count": 191,
     "metadata": {},
     "output_type": "execute_result"
    }
   ],
   "source": [
    "n4 = len(df)\n",
    "n_val4 = int(n * 0.2)\n",
    "n_test4 = int(n * 0.2)\n",
    "n_train4 = n4 - (n_val4 + n_test4)\n",
    "\n",
    "idx4 = np.arange(n4)\n",
    "\n",
    "np.random.seed(4)\n",
    "np.random.shuffle(idx4)\n",
    "\n",
    "df_shuffled4 = df.iloc[idx4]\n",
    "\n",
    "df_train4 = df_shuffled4.iloc[: n_train4].copy()\n",
    "df_val4 = df_shuffled4.iloc[n_train4 : n_train4 + n_val4].copy()\n",
    "df_test4 = df_shuffled4.iloc[n_train4 + n_val4 : ].copy()\n",
    "\n",
    "df_train4 = df_train4.reset_index(drop = True) \n",
    "df_val4 = df_val4.reset_index(drop = True)\n",
    "df_test4 = df_test4.reset_index(drop = True)\n",
    "\n",
    "y_train4 = np.log1p(df_train4.median_house_value)\n",
    "y_val4 = np.log1p(df_val4.median_house_value)\n",
    "y_test4 = np.log1p(df_test4.median_house_value)\n",
    "\n",
    "del df_train4['median_house_value']\n",
    "del df_val4['median_house_value']\n",
    "del df_test4['median_house_value']\n",
    "\n",
    "X_train4 = prepare_X(df_train4)\n",
    "w_0, w = train_linear_regression(X_train4, y_train4)\n",
    "\n",
    "X_val4 = prepare_X(df_val4)\n",
    "y_pred4 = w_0 + (X_val4 * w)\n",
    "\n",
    "seed4_rmse = rmse(y_val4, y_pred4)\n",
    "seed4_rmse"
   ]
  },
  {
   "cell_type": "markdown",
   "id": "30a06ac8",
   "metadata": {},
   "source": [
    "seed = 5"
   ]
  },
  {
   "cell_type": "code",
   "execution_count": 192,
   "id": "5906ba46",
   "metadata": {},
   "outputs": [
    {
     "data": {
      "text/plain": [
       "0.5707900136030504"
      ]
     },
     "execution_count": 192,
     "metadata": {},
     "output_type": "execute_result"
    }
   ],
   "source": [
    "n5 = len(df)\n",
    "n_val5 = int(n * 0.2)\n",
    "n_test5 = int(n * 0.2)\n",
    "n_train5 = n5 - (n_val5 + n_test5)\n",
    "\n",
    "idx5 = np.arange(n5)\n",
    "\n",
    "np.random.seed(5)\n",
    "np.random.shuffle(idx5)\n",
    "\n",
    "df_shuffled5 = df.iloc[idx5]\n",
    "\n",
    "df_train5 = df_shuffled5.iloc[: n_train5].copy()\n",
    "df_val5 = df_shuffled5.iloc[n_train5 : n_train5 + n_val5].copy()\n",
    "df_test5 = df_shuffled5.iloc[n_train5 + n_val5 : ].copy()\n",
    "\n",
    "df_train5 = df_train5.reset_index(drop = True) \n",
    "df_val5 = df_val5.reset_index(drop = True)\n",
    "df_test5 = df_test5.reset_index(drop = True)\n",
    "\n",
    "y_train5 = np.log1p(df_train5.median_house_value)\n",
    "y_val5 = np.log1p(df_val5.median_house_value)\n",
    "y_test5 = np.log1p(df_test5.median_house_value)\n",
    "\n",
    "del df_train5['median_house_value']\n",
    "del df_val5['median_house_value']\n",
    "del df_test5['median_house_value']\n",
    "\n",
    "X_train5 = prepare_X(df_train5)\n",
    "w_0, w = train_linear_regression(X_train5, y_train5)\n",
    "\n",
    "X_val5 = prepare_X(df_val5)\n",
    "y_pred5 = w_0 + (X_val5 * w)\n",
    "\n",
    "seed5_rmse = rmse(y_val5, y_pred5)\n",
    "seed5_rmse"
   ]
  },
  {
   "cell_type": "markdown",
   "id": "89b9cd92",
   "metadata": {},
   "source": [
    "Seed = 6"
   ]
  },
  {
   "cell_type": "code",
   "execution_count": 193,
   "id": "561f842a",
   "metadata": {},
   "outputs": [
    {
     "data": {
      "text/plain": [
       "0.5665326099492307"
      ]
     },
     "execution_count": 193,
     "metadata": {},
     "output_type": "execute_result"
    }
   ],
   "source": [
    "n6 = len(df)\n",
    "n_val6 = int(n * 0.2)\n",
    "n_test6 = int(n * 0.2)\n",
    "n_train6 = n6 - (n_val6 + n_test6)\n",
    "\n",
    "idx6 = np.arange(n6)\n",
    "\n",
    "np.random.seed(6)\n",
    "np.random.shuffle(idx6)\n",
    "\n",
    "df_shuffled6 = df.iloc[idx6]\n",
    "\n",
    "df_train6 = df_shuffled6.iloc[: n_train6].copy()\n",
    "df_val6 = df_shuffled6.iloc[n_train6 : n_train6 + n_val6].copy()\n",
    "df_test6 = df_shuffled6.iloc[n_train6 + n_val6 : ].copy()\n",
    "\n",
    "df_train6 = df_train6.reset_index(drop = True) \n",
    "df_val6 = df_val6.reset_index(drop = True)\n",
    "df_test6 = df_test6.reset_index(drop = True)\n",
    "\n",
    "y_train6 = np.log1p(df_train6.median_house_value)\n",
    "y_val6 = np.log1p(df_val6.median_house_value)\n",
    "y_test6 = np.log1p(df_test6.median_house_value)\n",
    "\n",
    "del df_train6['median_house_value']\n",
    "del df_val6['median_house_value']\n",
    "del df_test6['median_house_value']\n",
    "\n",
    "X_train6 = prepare_X(df_train6)\n",
    "w_0, w = train_linear_regression(X_train6, y_train6)\n",
    "\n",
    "X_val6 = prepare_X(df_val6)\n",
    "y_pred6 = w_0 + (X_val6 * w)\n",
    "\n",
    "seed6_rmse = rmse(y_val6, y_pred6)\n",
    "seed6_rmse"
   ]
  },
  {
   "cell_type": "markdown",
   "id": "03de3c51",
   "metadata": {},
   "source": [
    "Seed = 7"
   ]
  },
  {
   "cell_type": "code",
   "execution_count": 194,
   "id": "796ef73d",
   "metadata": {},
   "outputs": [
    {
     "data": {
      "text/plain": [
       "0.56378372691341"
      ]
     },
     "execution_count": 194,
     "metadata": {},
     "output_type": "execute_result"
    }
   ],
   "source": [
    "n7 = len(df)\n",
    "n_val7 = int(n * 0.2)\n",
    "n_test7 = int(n * 0.2)\n",
    "n_train7 = n7 - (n_val7 + n_test7)\n",
    "\n",
    "idx7 = np.arange(n7)\n",
    "\n",
    "np.random.seed(7)\n",
    "np.random.shuffle(idx7)\n",
    "\n",
    "df_shuffled7 = df.iloc[idx7]\n",
    "\n",
    "df_train7 = df_shuffled7.iloc[: n_train7].copy()\n",
    "df_val7 = df_shuffled7.iloc[n_train7 : n_train7 + n_val7].copy()\n",
    "df_test7 = df_shuffled7.iloc[n_train7 + n_val7 : ].copy()\n",
    "\n",
    "df_train7 = df_train7.reset_index(drop = True) \n",
    "df_val7 = df_val7.reset_index(drop = True)\n",
    "df_test7 = df_test7.reset_index(drop = True)\n",
    "\n",
    "y_train7 = np.log1p(df_train7.median_house_value)\n",
    "y_val7 = np.log1p(df_val7.median_house_value)\n",
    "y_test7 = np.log1p(df_test7.median_house_value)\n",
    "\n",
    "del df_train7['median_house_value']\n",
    "del df_val7['median_house_value']\n",
    "del df_test7['median_house_value']\n",
    "\n",
    "X_train7 = prepare_X(df_train7)\n",
    "w_0, w = train_linear_regression(X_train7, y_train7)\n",
    "\n",
    "X_val7 = prepare_X(df_val7)\n",
    "y_pred7 = w_0 + (X_val7 * w)\n",
    "\n",
    "seed7_rmse = rmse(y_val7, y_pred7)\n",
    "seed7_rmse"
   ]
  },
  {
   "cell_type": "markdown",
   "id": "1e6f0928",
   "metadata": {},
   "source": [
    "Seed = 8"
   ]
  },
  {
   "cell_type": "code",
   "execution_count": 195,
   "id": "bacd620b",
   "metadata": {},
   "outputs": [
    {
     "data": {
      "text/plain": [
       "0.5637118007079756"
      ]
     },
     "execution_count": 195,
     "metadata": {},
     "output_type": "execute_result"
    }
   ],
   "source": [
    "n8 = len(df)\n",
    "n_val8 = int(n * 0.2)\n",
    "n_test8 = int(n * 0.2)\n",
    "n_train8 = n8 - (n_val8 + n_test8)\n",
    "\n",
    "idx8 = np.arange(n8)\n",
    "\n",
    "np.random.seed(8)\n",
    "np.random.shuffle(idx8)\n",
    "\n",
    "df_shuffled8 = df.iloc[idx8]\n",
    "\n",
    "df_train8 = df_shuffled8.iloc[: n_train8].copy()\n",
    "df_val8 = df_shuffled8.iloc[n_train8 : n_train8 + n_val8].copy()\n",
    "df_test8 = df_shuffled8.iloc[n_train8 + n_val8 : ].copy()\n",
    "\n",
    "df_train8 = df_train8.reset_index(drop = True) \n",
    "df_val8 = df_val8.reset_index(drop = True)\n",
    "df_test8 = df_test8.reset_index(drop = True)\n",
    "\n",
    "y_train8 = np.log1p(df_train8.median_house_value)\n",
    "y_val8 = np.log1p(df_val8.median_house_value)\n",
    "y_test8 = np.log1p(df_test8.median_house_value)\n",
    "\n",
    "del df_train8['median_house_value']\n",
    "del df_val8['median_house_value']\n",
    "del df_test8['median_house_value']\n",
    "\n",
    "X_train8 = prepare_X(df_train8)\n",
    "w_0, w = train_linear_regression(X_train8, y_train8)\n",
    "\n",
    "X_val8 = prepare_X(df_val8)\n",
    "y_pred8 = w_0 + (X_val8 * w)\n",
    "\n",
    "seed8_rmse = rmse(y_val8, y_pred8)\n",
    "seed8_rmse"
   ]
  },
  {
   "cell_type": "markdown",
   "id": "1fc12a35",
   "metadata": {},
   "source": [
    "Seed = 9"
   ]
  },
  {
   "cell_type": "code",
   "execution_count": 196,
   "id": "b317345e",
   "metadata": {},
   "outputs": [
    {
     "data": {
      "text/plain": [
       "0.5673150921697975"
      ]
     },
     "execution_count": 196,
     "metadata": {},
     "output_type": "execute_result"
    }
   ],
   "source": [
    "n9 = len(df)\n",
    "n_val9 = int(n * 0.2)\n",
    "n_test9 = int(n * 0.2)\n",
    "n_train9 = n9 - (n_val9 + n_test9)\n",
    "\n",
    "idx9 = np.arange(n9)\n",
    "\n",
    "np.random.seed(9)\n",
    "np.random.shuffle(idx9)\n",
    "\n",
    "df_shuffled9 = df.iloc[idx9]\n",
    "\n",
    "df_train9 = df_shuffled9.iloc[: n_train9].copy()\n",
    "df_val9 = df_shuffled9.iloc[n_train9 : n_train9 + n_val9].copy()\n",
    "df_test9 = df_shuffled9.iloc[n_train9 + n_val9 : ].copy()\n",
    "\n",
    "df_train9 = df_train9.reset_index(drop = True) \n",
    "df_val9 = df_val9.reset_index(drop = True)\n",
    "df_test9 = df_test9.reset_index(drop = True)\n",
    "\n",
    "y_train9 = np.log1p(df_train9.median_house_value)\n",
    "y_val9 = np.log1p(df_val9.median_house_value)\n",
    "y_test9 = np.log1p(df_test9.median_house_value)\n",
    "\n",
    "del df_train9['median_house_value']\n",
    "del df_val9['median_house_value']\n",
    "del df_test9['median_house_value']\n",
    "\n",
    "X_train9 = prepare_X(df_train9)\n",
    "w_0, w = train_linear_regression(X_train9, y_train9)\n",
    "\n",
    "X_val9 = prepare_X(df_val9)\n",
    "y_pred9 = w_0 + (X_val9 * w)\n",
    "\n",
    "seed9_rmse = rmse(y_val9, y_pred9)\n",
    "seed9_rmse"
   ]
  },
  {
   "cell_type": "code",
   "execution_count": 198,
   "id": "2d2f737f",
   "metadata": {},
   "outputs": [
    {
     "name": "stdout",
     "output_type": "stream",
     "text": [
      "Array : [0.56564025 0.56631977 0.56620294 0.56860663 0.5708444  0.57079001\n",
      " 0.56653261 0.56378373 0.5637118  0.56731509]\n",
      "SD    : 0.0023693846200321792\n"
     ]
    }
   ],
   "source": [
    "Array = np.array([seed0_rmse,seed1_rmse,seed2_rmse,seed3_rmse,seed4_rmse,seed5_rmse,seed6_rmse,seed7_rmse,seed8_rmse,seed9_rmse])\n",
    "result = np.std(Array)\n",
    " \n",
    "print(f\"Array : {Array}\")\n",
    "print(f\"SD    : {result}\")"
   ]
  },
  {
   "cell_type": "markdown",
   "id": "d9d29ee8",
   "metadata": {},
   "source": [
    "Since i didnt get answer that is option, Choosing the closest option - 0.005"
   ]
  },
  {
   "cell_type": "markdown",
   "id": "acb699e9",
   "metadata": {},
   "source": [
    "## Question 6"
   ]
  },
  {
   "cell_type": "markdown",
   "id": "3053696a",
   "metadata": {},
   "source": [
    "* Split the dataset like previously, use seed 9.\n",
    "* Combine train and validation datasets.\n",
    "* Fill the missing values with 0 and train a model with r=0.001.\n",
    "* What's the RMSE on the test dataset?"
   ]
  },
  {
   "cell_type": "markdown",
   "id": "923e2993",
   "metadata": {},
   "source": [
    "Options:"
   ]
  },
  {
   "cell_type": "markdown",
   "id": "a3c7186d",
   "metadata": {},
   "source": [
    "* 0.35\n",
    "* 0.135\n",
    "* 0.450\n",
    "* 0.245"
   ]
  },
  {
   "cell_type": "code",
   "execution_count": 204,
   "id": "c28bbb92",
   "metadata": {},
   "outputs": [],
   "source": [
    "n_1 = len(df)\n",
    "n_val_1 = int(n * 0.2)\n",
    "n_test_1 = int(n * 0.2)\n",
    "n_train_1 = n_1 - (n_val_1 + n_test_1)\n",
    "\n",
    "idx_1 = np.arange(n_1)\n",
    "\n",
    "np.random.seed(9)\n",
    "np.random.shuffle(idx_1)\n",
    "\n",
    "df_shuffled_1 = df.iloc[idx_1]\n",
    "\n",
    "df_train_1 = df_shuffled_1.iloc[: n_train_1].copy()\n",
    "df_val_1 = df_shuffled_1.iloc[n_train_1 : n_train_1 + n_val_1].copy()\n",
    "df_test_1 = df_shuffled_1.iloc[n_train_1 + n_val_1 : ].copy()\n",
    "\n",
    "df_train_1 = df_train_1.reset_index(drop = True) \n",
    "df_val_1 = df_val_1.reset_index(drop = True)\n",
    "df_test_1 = df_test_1.reset_index(drop = True)\n",
    "\n",
    "y_train_1 = np.log1p(df_train_1.median_house_value)\n",
    "y_val_1 = np.log1p(df_val_1.median_house_value)\n",
    "y_test_1 = np.log1p(df_test_1.median_house_value)\n",
    "\n",
    "del df_train_1['median_house_value']\n",
    "del df_val_1['median_house_value']\n",
    "del df_test_1['median_house_value']\n"
   ]
  },
  {
   "cell_type": "code",
   "execution_count": 205,
   "id": "5a3713d8",
   "metadata": {},
   "outputs": [],
   "source": [
    "df_full_train = pd.concat([df_train_1, df_val_1])\n",
    "\n",
    "df_full_train =df_full_train.reset_index(drop = True)\n",
    "\n",
    "X_full_train = prepare_X(df_full_train)\n",
    "\n",
    "y_full_train = np.concatenate([y_train_1,y_val_1])"
   ]
  },
  {
   "cell_type": "code",
   "execution_count": 208,
   "id": "d1549a67",
   "metadata": {},
   "outputs": [
    {
     "data": {
      "text/plain": [
       "0.5777629601674492"
      ]
     },
     "execution_count": 208,
     "metadata": {},
     "output_type": "execute_result"
    }
   ],
   "source": [
    "w0_1, w_1 = train_linear_regression_reg(X_full_train, y_full_train, r= 0.001)\n",
    "\n",
    "X_test = prepare_X(df_test_1)\n",
    "y_pred_1 = w0_1 + (X_test * w_1)\n",
    "score_1 = rmse(y_test_1, y_pred_1)\n",
    "score_1"
   ]
  },
  {
   "cell_type": "markdown",
   "id": "a00c223f",
   "metadata": {},
   "source": [
    "Since i didnt get answer that is option, Choosing the closest option - 0.450"
   ]
  },
  {
   "cell_type": "code",
   "execution_count": null,
   "id": "8d159960",
   "metadata": {},
   "outputs": [],
   "source": []
  }
 ],
 "metadata": {
  "kernelspec": {
   "display_name": "Python 3 (ipykernel)",
   "language": "python",
   "name": "python3"
  },
  "language_info": {
   "codemirror_mode": {
    "name": "ipython",
    "version": 3
   },
   "file_extension": ".py",
   "mimetype": "text/x-python",
   "name": "python",
   "nbconvert_exporter": "python",
   "pygments_lexer": "ipython3",
   "version": "3.9.12"
  }
 },
 "nbformat": 4,
 "nbformat_minor": 5
}
