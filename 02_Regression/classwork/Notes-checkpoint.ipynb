{
 "cells": [
  {
   "cell_type": "markdown",
   "id": "1f48b559",
   "metadata": {},
   "source": [
    "# 2.1 Machine Learning Regression :"
   ]
  },
  {
   "cell_type": "markdown",
   "id": "e7f541a3",
   "metadata": {},
   "source": [
    "## Project :  CAR PRICE PREDICTION"
   ]
  },
  {
   "cell_type": "markdown",
   "id": "b24b6a39",
   "metadata": {},
   "source": [
    "## Project PLan"
   ]
  },
  {
   "cell_type": "markdown",
   "id": "e1b1e1bf",
   "metadata": {},
   "source": [
    "* Prepare data and do EDA (Exploratory data Analysis)\n",
    "* Use `Linear regression` for predicting price\n",
    "* Understand the internals of Linear regression\n",
    "* Evaluating the model with `RMSE`\n",
    "* Feature Engineering\n",
    "* Regularization\n",
    "* Using the Model"
   ]
  },
  {
   "cell_type": "markdown",
   "id": "f3e4b883",
   "metadata": {},
   "source": [
    "## 2.2 Preparing the Data :"
   ]
  },
  {
   "cell_type": "markdown",
   "id": "15724efe",
   "metadata": {},
   "source": [
    "### Pandas Attributes and Methods Used:"
   ]
  },
  {
   "cell_type": "markdown",
   "id": "a266a936",
   "metadata": {},
   "source": [
    "* pd.read_csv('file_name') -To `read` the csv file\n",
    "* df.head.()               -Return the first n rows\n",
    "* df.describe()            -The describe () method is used for calculating some statistical data like percentile, mean and std of the numerical values of the Series or DataFrame\n",
    "* .str.lower()             - To change cases to `lower`\n",
    "* .str.replace()           - method works like Python .replace () method\n"
   ]
  },
  {
   "cell_type": "markdown",
   "id": "15c7dc42",
   "metadata": {},
   "source": [
    "## 2.3 EDA (Exploratory data Analysis)"
   ]
  },
  {
   "cell_type": "markdown",
   "id": "90d16a2b",
   "metadata": {},
   "source": [
    "### Analysis and Visualisation libraries Attributes and Methods Used:\n",
    "    "
   ]
  },
  {
   "cell_type": "markdown",
   "id": "596e04d8",
   "metadata": {},
   "source": [
    "* df.unique() - returns a list of unique values in the series\n",
    "* df.nunique() - returns the number of unique values in the series\n",
    "* sns.histplot             - To plot the `Histogram`\n",
    "* np.log                   - It is a mathematical function that helps user to calculate `Natural logarithm` of x where x belongs to all the input array elements\n",
    "* np.log1p                 - This function helps user to calculate natural logarithmic value of `x+1`\n",
    "* df.isnull().sum()        - Returns the columns along with `missing values` and their sum"
   ]
  },
  {
   "cell_type": "markdown",
   "id": "bd0b67e8",
   "metadata": {},
   "source": [
    "Long-tail distributions usually confuse the ML models, so the recommendation is to transform the target variable distribution with long tail to a normal one whenever possible."
   ]
  },
  {
   "cell_type": "markdown",
   "id": "69698f0d",
   "metadata": {},
   "source": [
    "## 2.4 Setting up the Valid Environment: "
   ]
  },
  {
   "cell_type": "markdown",
   "id": "1f471fe2",
   "metadata": {},
   "source": [
    "we split spilt the dataset as Train(60%) | Validate(20%)| Test(20%) ,We split the data equally and assign it to separate data frames and shuffle the data to make sure that three dataframes contain non-sequential records of the dataset and `msrp` is deleted and logarithmic values are added\n"
   ]
  },
  {
   "cell_type": "markdown",
   "id": "5f03fdf9",
   "metadata": {},
   "source": [
    "## 2.5 Linear Regression :"
   ]
  },
  {
   "cell_type": "markdown",
   "id": "ce10b542",
   "metadata": {},
   "source": [
    "The formula for Linear regression is `g(Xi) approximately = yi` also notes as `g(Xᵢ) = w₀ + ∑( wⱼ·xᵢⱼ, j=[1] )` \n",
    "Xi = Random selected car\n",
    "yi = Target need to be predicted\n",
    "w0 = the bias term we assume\n",
    "wj =  weights for each of the features\n",
    "Xij = Feature of a car\n",
    "\n",
    "we assume a bias value `w0` and we add that to the sum of Features of a car(`xij`)  of the car multiplied with their weights (`wj`) respectively and the result is `yi` and thus we have created a simple `Linear Regression Model`"
   ]
  },
  {
   "cell_type": "markdown",
   "id": "86a0c71f",
   "metadata": {},
   "source": [
    "# 2.6 Linear regression: vector form"
   ]
  },
  {
   "cell_type": "markdown",
   "id": "93347aac",
   "metadata": {},
   "source": [
    "Linear regression in Vector form can be noted as dot product between feature matrix `X` and vector of weights `w`, obtaining the y vector of predictions,The features(`x1,x2...xn`) includes a bias term with value of 1."
   ]
  },
  {
   "cell_type": "markdown",
   "id": "ff2f1211",
   "metadata": {},
   "source": [
    "## 2.7 Training linear regression: Normal equation"
   ]
  },
  {
   "cell_type": "markdown",
   "id": "e3f4fb13",
   "metadata": {},
   "source": [
    "Thus , We can say `Xw` is approximately = `y`, and since `X` is rectangular matrix ,inverse doesn't exist, To obtain an approximate solution, which can be obtained using the Gram matrix (multiplication of feature matrix and its transpose). The vector of weights or coefficients obtained with this formula is the closest possible solution to the LR system."
   ]
  },
  {
   "cell_type": "markdown",
   "id": "58b2c1d1",
   "metadata": {},
   "source": [
    "## 2..8 Car price baseline model"
   ]
  },
  {
   "cell_type": "markdown",
   "id": "552a48d6",
   "metadata": {},
   "source": [
    "We select the columns with Numerical data and assign to `X_train` variable and replace null values with `zero` and train linear regression with X_train and y_train variables ,The result obtained as bias values(`w0`) and weights (`w`) , Models's prediction (`y_pred`) is obtained by adding bias term with the dot product of X_train and weights (`y_pred = w0 + X_train.dot(w)`) ,we find the shape of `y_pred vs y_train` is off and Model might not be ideal. "
   ]
  },
  {
   "cell_type": "markdown",
   "id": "1cc91ef2",
   "metadata": {},
   "source": [
    "## 2.9 Root Mean Squared Error (RMSE)"
   ]
  },
  {
   "cell_type": "markdown",
   "id": "34e94a70",
   "metadata": {},
   "source": [
    "Root Mean Squared Error (RMSE) is a way to evaluate regression models ,First square of difference between prediction and actual value is found and mean value is calculated then square root of them is found."
   ]
  },
  {
   "cell_type": "markdown",
   "id": "97c764d4",
   "metadata": {},
   "source": [
    "## 2.10 Computing RMSE on validation data"
   ]
  },
  {
   "cell_type": "markdown",
   "id": "5f9396e4",
   "metadata": {},
   "source": [
    "Validation data is trained with the model and Root Mean Squared Error is calculated on Validation data and actual value"
   ]
  },
  {
   "cell_type": "markdown",
   "id": "d686f702",
   "metadata": {},
   "source": [
    "## 2.11 Feature engineering"
   ]
  },
  {
   "cell_type": "markdown",
   "id": "ef56e30a",
   "metadata": {},
   "source": [
    "We add a new colum `age` to the dataframe and calculate the Root Mean Squared Error and now its 0.517 down from 0.761 on the Validation data"
   ]
  },
  {
   "cell_type": "markdown",
   "id": "cbda6dbd",
   "metadata": {},
   "source": [
    "## 2.12 Categorical variables"
   ]
  },
  {
   "cell_type": "markdown",
   "id": "a6269987",
   "metadata": {},
   "source": [
    "Catergotical values are typically strings and not numerical values, We convert them into boolean values and into  0 , 1 numerical values and add those columns to a copied dataframe and then calculate the rmse and its 0.507 a little bit better than thge one obatained from feauture Engineering One"
   ]
  },
  {
   "cell_type": "markdown",
   "id": "74d3d74f",
   "metadata": {},
   "source": [
    "## 2.13 Regularization"
   ]
  },
  {
   "cell_type": "markdown",
   "id": "1aed7ade",
   "metadata": {},
   "source": [
    "While training the model we may encounter singular matrix problem ,to solve that and to solve that and to better RMSE we use regularisation,by adding a very small integer value every features diagonally and calculate RMSE and it is little bit better than RMSE calculated with categorical values"
   ]
  },
  {
   "cell_type": "markdown",
   "id": "86eeed12",
   "metadata": {},
   "source": [
    "## 2.14 Tuning the Model¶"
   ]
  },
  {
   "cell_type": "markdown",
   "id": "016592d5",
   "metadata": {},
   "source": [
    "We try different Regularisation parameters and find the best RMSE score and bias term for the model"
   ]
  },
  {
   "cell_type": "markdown",
   "id": "79bdf37b",
   "metadata": {},
   "source": [
    "## 2.15 Using the Model"
   ]
  },
  {
   "cell_type": "markdown",
   "id": "fa16c352",
   "metadata": {},
   "source": [
    "Here we train the model with both Train and Validation data and use the model on the Test dataset and Check the RMSE and it shopuld be similar to Train and Validation data prediction and compare the predicted price to the original price"
   ]
  }
 ],
 "metadata": {
  "kernelspec": {
   "display_name": "Python 3 (ipykernel)",
   "language": "python",
   "name": "python3"
  },
  "language_info": {
   "codemirror_mode": {
    "name": "ipython",
    "version": 3
   },
   "file_extension": ".py",
   "mimetype": "text/x-python",
   "name": "python",
   "nbconvert_exporter": "python",
   "pygments_lexer": "ipython3",
   "version": "3.9.12"
  }
 },
 "nbformat": 4,
 "nbformat_minor": 5
}
