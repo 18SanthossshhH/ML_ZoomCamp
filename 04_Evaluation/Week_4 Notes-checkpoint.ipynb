{
 "cells": [
  {
   "cell_type": "markdown",
   "id": "41276c48",
   "metadata": {},
   "source": [
    "# Evaluation"
   ]
  },
  {
   "cell_type": "markdown",
   "id": "920043a1",
   "metadata": {},
   "source": [
    "## Accuracy"
   ]
  },
  {
   "cell_type": "markdown",
   "id": "8c7c32ca",
   "metadata": {},
   "source": [
    "* Evaluate the model on different thresholds\n",
    "* Check the accuracy of dummy baselines"
   ]
  },
  {
   "cell_type": "markdown",
   "id": "a14601b3",
   "metadata": {},
   "source": [
    "`Accuracy` = (no of correct prediction / total no of prediction) "
   ]
  },
  {
   "cell_type": "markdown",
   "id": "a43b1612",
   "metadata": {},
   "source": [
    "## Confusion Table"
   ]
  },
  {
   "cell_type": "markdown",
   "id": "4d993f33",
   "metadata": {},
   "source": [
    "In predictive analytics, a confusion matrix is a table with two rows and two columns that reports the number of true positives, false negatives, false positives, and true negatives"
   ]
  },
  {
   "cell_type": "markdown",
   "id": "217ab4c7",
   "metadata": {},
   "source": [
    "* No churn - Negative class\n",
    "    * Customer did not churn - True Negative (TN)\n",
    "    * Customer churned - False Negative (FN)\n",
    "* Churn - Positive class\n",
    "    * Customer churned - True Positive (TP)\n",
    "    * Customer did not churn - False Positive (FP)\n",
    "\n",
    "\n",
    "The confusion table help us to summarize the measures explained above in a tabular format, as is shown below:\n",
    "\n"
   ]
  },
  {
   "cell_type": "markdown",
   "id": "c7595be7",
   "metadata": {},
   "source": [
    "| Actual/Predictions | Negative | Postive |\n",
    "|--------------------|----------|---------|\n",
    "| Negative          |True Negative|Flase Positive|\n",
    "| Positive          |Flase Negative|True Positive|"
   ]
  },
  {
   "cell_type": "markdown",
   "id": "8dc992bf",
   "metadata": {},
   "source": [
    "## Precision and Recall "
   ]
  },
  {
   "cell_type": "markdown",
   "id": "eaec52f2",
   "metadata": {},
   "source": [
    "* Precision = Fraction of Positive predictions that are correct | Precision = True Positive / (True Positive + Flase Positive)\n",
    "* Recall = fraction of correctly identified postive instances | Recall = True Positive / (True Positive + Flase Negative)\n",
    "\n",
    "     The precision and recall values were 67% and 54% respectively in Churn prediction problem, These measures shows the errors that Accuracy did not indicate  "
   ]
  },
  {
   "cell_type": "markdown",
   "id": "02fda0b1",
   "metadata": {},
   "source": [
    "## ROC CURVES"
   ]
  },
  {
   "cell_type": "markdown",
   "id": "cd31827f",
   "metadata": {},
   "source": [
    "- ROC stands for Receiver Operating Characteristic\n",
    "- This method was used during the World War-2 for evaluating the strength of radio detectors\n",
    "- This measure considers FPR and TPR, which are derived from the values of the confusion matrix\n",
    "    1. FPR - False Positive Rate \n",
    "    2. TPR - True Postive Rate\n",
    "- FPR = FP / (FP + TN)\n",
    "- TPR = TP / (TP  + FN)"
   ]
  },
  {
   "cell_type": "markdown",
   "id": "135ec56a",
   "metadata": {},
   "source": [
    "## CROSS Validation"
   ]
  },
  {
   "cell_type": "markdown",
   "id": "7e479d7b",
   "metadata": {},
   "source": [
    "* Evaluating the model on different subset of Data\n",
    "* Getting the Average Prediction and the spread within predictions"
   ]
  },
  {
   "cell_type": "code",
   "execution_count": null,
   "id": "f4ec5b62",
   "metadata": {},
   "outputs": [],
   "source": []
  }
 ],
 "metadata": {
  "kernelspec": {
   "display_name": "Python 3 (ipykernel)",
   "language": "python",
   "name": "python3"
  },
  "language_info": {
   "codemirror_mode": {
    "name": "ipython",
    "version": 3
   },
   "file_extension": ".py",
   "mimetype": "text/x-python",
   "name": "python",
   "nbconvert_exporter": "python",
   "pygments_lexer": "ipython3",
   "version": "3.9.12"
  }
 },
 "nbformat": 4,
 "nbformat_minor": 5
}
