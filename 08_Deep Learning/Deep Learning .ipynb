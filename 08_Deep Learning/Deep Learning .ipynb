{
 "cells": [
  {
   "cell_type": "code",
   "execution_count": 2,
   "id": "6df0b4c9",
   "metadata": {},
   "outputs": [
    {
     "name": "stdout",
     "output_type": "stream",
     "text": [
      "Collecting tensorflow\n",
      "  Using cached tensorflow-2.11.0-cp39-cp39-win_amd64.whl (1.9 kB)\n",
      "Collecting tensorflow-intel==2.11.0\n",
      "  Using cached tensorflow_intel-2.11.0-cp39-cp39-win_amd64.whl (266.3 MB)\n",
      "Requirement already satisfied: packaging in c:\\santhosh\\softwares\\anaconda\\lib\\site-packages (from tensorflow-intel==2.11.0->tensorflow) (21.3)\n",
      "Collecting astunparse>=1.6.0\n",
      "  Using cached astunparse-1.6.3-py2.py3-none-any.whl (12 kB)\n",
      "Requirement already satisfied: setuptools in c:\\santhosh\\softwares\\anaconda\\lib\\site-packages (from tensorflow-intel==2.11.0->tensorflow) (61.2.0)\n",
      "Requirement already satisfied: protobuf<3.20,>=3.9.2 in c:\\santhosh\\softwares\\anaconda\\lib\\site-packages (from tensorflow-intel==2.11.0->tensorflow) (3.19.1)\n",
      "Requirement already satisfied: grpcio<2.0,>=1.24.3 in c:\\santhosh\\softwares\\anaconda\\lib\\site-packages (from tensorflow-intel==2.11.0->tensorflow) (1.42.0)\n",
      "Collecting google-pasta>=0.1.1\n",
      "  Using cached google_pasta-0.2.0-py3-none-any.whl (57 kB)\n",
      "Collecting tensorflow-io-gcs-filesystem>=0.23.1\n",
      "  Using cached tensorflow_io_gcs_filesystem-0.28.0-cp39-cp39-win_amd64.whl (1.5 MB)\n",
      "Collecting opt-einsum>=2.3.2\n",
      "  Using cached opt_einsum-3.3.0-py3-none-any.whl (65 kB)\n",
      "Collecting flatbuffers>=2.0\n",
      "  Using cached flatbuffers-22.11.23-py2.py3-none-any.whl (26 kB)\n",
      "Collecting libclang>=13.0.0\n",
      "  Using cached libclang-14.0.6-py2.py3-none-win_amd64.whl (14.2 MB)\n",
      "Collecting tensorboard<2.12,>=2.11\n",
      "  Using cached tensorboard-2.11.0-py3-none-any.whl (6.0 MB)\n",
      "Collecting absl-py>=1.0.0\n",
      "  Using cached absl_py-1.3.0-py3-none-any.whl (124 kB)\n",
      "Requirement already satisfied: typing-extensions>=3.6.6 in c:\\santhosh\\softwares\\anaconda\\lib\\site-packages (from tensorflow-intel==2.11.0->tensorflow) (4.1.1)\n",
      "Collecting gast<=0.4.0,>=0.2.1\n",
      "  Using cached gast-0.4.0-py3-none-any.whl (9.8 kB)\n",
      "Collecting termcolor>=1.1.0\n",
      "  Downloading termcolor-2.1.1-py3-none-any.whl (6.2 kB)\n",
      "Requirement already satisfied: six>=1.12.0 in c:\\santhosh\\softwares\\anaconda\\lib\\site-packages (from tensorflow-intel==2.11.0->tensorflow) (1.16.0)\n",
      "Collecting tensorflow-estimator<2.12,>=2.11.0\n",
      "  Using cached tensorflow_estimator-2.11.0-py2.py3-none-any.whl (439 kB)\n",
      "Requirement already satisfied: wrapt>=1.11.0 in c:\\santhosh\\softwares\\anaconda\\lib\\site-packages (from tensorflow-intel==2.11.0->tensorflow) (1.12.1)\n",
      "Collecting keras<2.12,>=2.11.0\n",
      "  Using cached keras-2.11.0-py2.py3-none-any.whl (1.7 MB)\n",
      "Requirement already satisfied: numpy>=1.20 in c:\\santhosh\\softwares\\anaconda\\lib\\site-packages (from tensorflow-intel==2.11.0->tensorflow) (1.21.5)\n",
      "Requirement already satisfied: h5py>=2.9.0 in c:\\santhosh\\softwares\\anaconda\\lib\\site-packages (from tensorflow-intel==2.11.0->tensorflow) (3.6.0)\n",
      "Requirement already satisfied: wheel<1.0,>=0.23.0 in c:\\santhosh\\softwares\\anaconda\\lib\\site-packages (from astunparse>=1.6.0->tensorflow-intel==2.11.0->tensorflow) (0.37.1)\n",
      "Requirement already satisfied: markdown>=2.6.8 in c:\\santhosh\\softwares\\anaconda\\lib\\site-packages (from tensorboard<2.12,>=2.11->tensorflow-intel==2.11.0->tensorflow) (3.3.4)\n",
      "Collecting tensorboard-plugin-wit>=1.6.0\n",
      "  Using cached tensorboard_plugin_wit-1.8.1-py3-none-any.whl (781 kB)\n",
      "Collecting google-auth-oauthlib<0.5,>=0.4.1\n",
      "  Using cached google_auth_oauthlib-0.4.6-py2.py3-none-any.whl (18 kB)\n",
      "Requirement already satisfied: requests<3,>=2.21.0 in c:\\santhosh\\softwares\\anaconda\\lib\\site-packages (from tensorboard<2.12,>=2.11->tensorflow-intel==2.11.0->tensorflow) (2.27.1)\n",
      "Collecting tensorboard-data-server<0.7.0,>=0.6.0\n",
      "  Using cached tensorboard_data_server-0.6.1-py3-none-any.whl (2.4 kB)\n",
      "Requirement already satisfied: google-auth<3,>=1.6.3 in c:\\santhosh\\softwares\\anaconda\\lib\\site-packages (from tensorboard<2.12,>=2.11->tensorflow-intel==2.11.0->tensorflow) (1.33.0)\n",
      "Requirement already satisfied: werkzeug>=1.0.1 in c:\\santhosh\\softwares\\anaconda\\lib\\site-packages (from tensorboard<2.12,>=2.11->tensorflow-intel==2.11.0->tensorflow) (2.0.3)\n",
      "Requirement already satisfied: pyparsing!=3.0.5,>=2.0.2 in c:\\santhosh\\softwares\\anaconda\\lib\\site-packages (from packaging->tensorflow-intel==2.11.0->tensorflow) (3.0.4)\n",
      "Requirement already satisfied: rsa<5,>=3.1.4 in c:\\santhosh\\softwares\\anaconda\\lib\\site-packages (from google-auth<3,>=1.6.3->tensorboard<2.12,>=2.11->tensorflow-intel==2.11.0->tensorflow) (4.7.2)\n",
      "Requirement already satisfied: pyasn1-modules>=0.2.1 in c:\\santhosh\\softwares\\anaconda\\lib\\site-packages (from google-auth<3,>=1.6.3->tensorboard<2.12,>=2.11->tensorflow-intel==2.11.0->tensorflow) (0.2.8)\n",
      "Requirement already satisfied: cachetools<5.0,>=2.0.0 in c:\\santhosh\\softwares\\anaconda\\lib\\site-packages (from google-auth<3,>=1.6.3->tensorboard<2.12,>=2.11->tensorflow-intel==2.11.0->tensorflow) (4.2.2)\n",
      "Collecting requests-oauthlib>=0.7.0\n",
      "  Using cached requests_oauthlib-1.3.1-py2.py3-none-any.whl (23 kB)\n",
      "Requirement already satisfied: urllib3<1.27,>=1.21.1 in c:\\santhosh\\softwares\\anaconda\\lib\\site-packages (from requests<3,>=2.21.0->tensorboard<2.12,>=2.11->tensorflow-intel==2.11.0->tensorflow) (1.26.9)\n",
      "Requirement already satisfied: idna<4,>=2.5 in c:\\santhosh\\softwares\\anaconda\\lib\\site-packages (from requests<3,>=2.21.0->tensorboard<2.12,>=2.11->tensorflow-intel==2.11.0->tensorflow) (3.3)\n",
      "Requirement already satisfied: charset-normalizer~=2.0.0 in c:\\santhosh\\softwares\\anaconda\\lib\\site-packages (from requests<3,>=2.21.0->tensorboard<2.12,>=2.11->tensorflow-intel==2.11.0->tensorflow) (2.0.4)\n",
      "Requirement already satisfied: certifi>=2017.4.17 in c:\\santhosh\\softwares\\anaconda\\lib\\site-packages (from requests<3,>=2.21.0->tensorboard<2.12,>=2.11->tensorflow-intel==2.11.0->tensorflow) (2021.10.8)\n",
      "Requirement already satisfied: pyasn1<0.5.0,>=0.4.6 in c:\\santhosh\\softwares\\anaconda\\lib\\site-packages (from pyasn1-modules>=0.2.1->google-auth<3,>=1.6.3->tensorboard<2.12,>=2.11->tensorflow-intel==2.11.0->tensorflow) (0.4.8)\n",
      "Collecting oauthlib>=3.0.0\n",
      "  Using cached oauthlib-3.2.2-py3-none-any.whl (151 kB)\n",
      "Installing collected packages: tensorboard-plugin-wit, libclang, flatbuffers, termcolor, tensorflow-io-gcs-filesystem, tensorflow-estimator, tensorboard-data-server, opt-einsum, oauthlib, keras, google-pasta, gast, astunparse, absl-py, requests-oauthlib, google-auth-oauthlib, tensorboard, tensorflow-intel, tensorflow\n",
      "Successfully installed absl-py-1.3.0 astunparse-1.6.3 flatbuffers-22.11.23 gast-0.4.0 google-auth-oauthlib-0.4.6 google-pasta-0.2.0 keras-2.11.0 libclang-14.0.6 oauthlib-3.2.2 opt-einsum-3.3.0 requests-oauthlib-1.3.1 tensorboard-2.11.0 tensorboard-data-server-0.6.1 tensorboard-plugin-wit-1.8.1 tensorflow-2.11.0 tensorflow-estimator-2.11.0 tensorflow-intel-2.11.0 tensorflow-io-gcs-filesystem-0.28.0 termcolor-2.1.1\n"
     ]
    }
   ],
   "source": [
    "! pip install tensorflow"
   ]
  },
  {
   "cell_type": "code",
   "execution_count": 4,
   "id": "b2ed4ad1",
   "metadata": {},
   "outputs": [],
   "source": [
    "import tensorflow as tf\n",
    "from tensorflow import keras\n",
    "from tensorflow.keras.preprocessing.image import load_img\n",
    "\n",
    "import numpy as np\n",
    "import pandas as pd\n",
    "import matplotlib.pyplot as plt\n",
    "import seaborn as sns\n",
    "\n",
    "%matplotlib inline"
   ]
  },
  {
   "cell_type": "code",
   "execution_count": 17,
   "id": "21a7864d",
   "metadata": {},
   "outputs": [
    {
     "data": {
      "text/plain": [
       "'C:\\\\Users\\\\santh\\\\Downloads\\\\clothing-dataset-small-master1/train/t-shirt/1dfed9b7-d0c3-4c6b-aa8b-e827b3558c0c.jpg'"
      ]
     },
     "execution_count": 17,
     "metadata": {},
     "output_type": "execute_result"
    }
   ],
   "source": [
    "path = \"C:\\\\Users\\\\santh\\\\Downloads\\\\clothing-dataset-small-master1/train/t-shirt\"\n",
    "name = '1dfed9b7-d0c3-4c6b-aa8b-e827b3558c0c.jpg'\n",
    "fullname = f'{path}/{name}'\n",
    "fullname"
   ]
  },
  {
   "cell_type": "code",
   "execution_count": 30,
   "id": "3113a185",
   "metadata": {},
   "outputs": [],
   "source": [
    "img = load_img(fullname, target_size=(299,299))"
   ]
  },
  {
   "cell_type": "code",
   "execution_count": 31,
   "id": "b9521115",
   "metadata": {},
   "outputs": [
    {
     "data": {
      "text/plain": [
       "(299, 299, 3)"
      ]
     },
     "execution_count": 31,
     "metadata": {},
     "output_type": "execute_result"
    }
   ],
   "source": [
    "x= np.array(img)\n",
    "x.shape"
   ]
  },
  {
   "cell_type": "markdown",
   "id": "defab7ca",
   "metadata": {},
   "source": [
    "## Pre-Trained Convolutional Neural Networks"
   ]
  },
  {
   "cell_type": "code",
   "execution_count": 44,
   "id": "6530e330",
   "metadata": {},
   "outputs": [],
   "source": [
    "# Import the Xception model \n",
    "from tensorflow.keras.applications.xception import Xception\n",
    "from tensorflow.keras.applications.xception import preprocess_input\n",
    "from tensorflow.keras.applications.xception import decode_predictions"
   ]
  },
  {
   "cell_type": "code",
   "execution_count": 26,
   "id": "0998dce3",
   "metadata": {},
   "outputs": [
    {
     "name": "stdout",
     "output_type": "stream",
     "text": [
      "Downloading data from https://storage.googleapis.com/tensorflow/keras-applications/xception/xception_weights_tf_dim_ordering_tf_kernels.h5\n",
      "91884032/91884032 [==============================] - 154s 2us/step\n"
     ]
    }
   ],
   "source": [
    "# Create a new Xception model\n",
    "model = Xception(weights='imagenet',input_shape=(299,299, 3))"
   ]
  },
  {
   "cell_type": "code",
   "execution_count": 38,
   "id": "8cb58fd7",
   "metadata": {},
   "outputs": [],
   "source": [
    "X = np.array([x])"
   ]
  },
  {
   "cell_type": "code",
   "execution_count": 39,
   "id": "2bf1c467",
   "metadata": {},
   "outputs": [],
   "source": [
    "X = preprocess_input(X)"
   ]
  },
  {
   "cell_type": "code",
   "execution_count": 42,
   "id": "6a4176bc",
   "metadata": {
    "scrolled": true
   },
   "outputs": [
    {
     "name": "stdout",
     "output_type": "stream",
     "text": [
      "1/1 [==============================] - 0s 115ms/step\n"
     ]
    }
   ],
   "source": [
    "pred = model.predict(X)"
   ]
  },
  {
   "cell_type": "code",
   "execution_count": 43,
   "id": "94d6c4a3",
   "metadata": {},
   "outputs": [
    {
     "data": {
      "text/plain": [
       "(1, 1000)"
      ]
     },
     "execution_count": 43,
     "metadata": {},
     "output_type": "execute_result"
    }
   ],
   "source": [
    "pred.shape"
   ]
  },
  {
   "cell_type": "code",
   "execution_count": 45,
   "id": "2b68f45a",
   "metadata": {},
   "outputs": [
    {
     "name": "stdout",
     "output_type": "stream",
     "text": [
      "Downloading data from https://storage.googleapis.com/download.tensorflow.org/data/imagenet_class_index.json\n",
      "35363/35363 [==============================] - 0s 7us/step\n"
     ]
    },
    {
     "data": {
      "text/plain": [
       "[[('n03595614', 'jersey', 0.6960742),\n",
       "  ('n02667093', 'abaya', 0.053645898),\n",
       "  ('n04370456', 'sweatshirt', 0.03788377),\n",
       "  ('n03980874', 'poncho', 0.018085094),\n",
       "  ('n04599235', 'wool', 0.008777763)]]"
      ]
     },
     "execution_count": 45,
     "metadata": {},
     "output_type": "execute_result"
    }
   ],
   "source": [
    "decode_predictions(pred)"
   ]
  },
  {
   "cell_type": "markdown",
   "id": "3b17d997",
   "metadata": {},
   "source": [
    "## Transfer Learning"
   ]
  },
  {
   "cell_type": "code",
   "execution_count": 46,
   "id": "4a02b42a",
   "metadata": {},
   "outputs": [],
   "source": [
    "from tensorflow.keras.preprocessing.image import ImageDataGenerator"
   ]
  },
  {
   "cell_type": "code",
   "execution_count": 48,
   "id": "6b11ec5c",
   "metadata": {},
   "outputs": [
    {
     "name": "stdout",
     "output_type": "stream",
     "text": [
      "Found 3068 images belonging to 10 classes.\n"
     ]
    }
   ],
   "source": [
    "train_gen = ImageDataGenerator(preprocessing_function=preprocess_input) \n",
    "train_ds = train_gen.flow_from_directory(\"C:\\\\Users\\\\santh\\\\Downloads\\\\clothing-dataset-small-master1/train\",\n",
    "                                        target_size=(150,150),batch_size=32)"
   ]
  },
  {
   "cell_type": "code",
   "execution_count": 51,
   "id": "fc1f818f",
   "metadata": {},
   "outputs": [],
   "source": [
    "X, y = next(train_ds)"
   ]
  },
  {
   "cell_type": "code",
   "execution_count": 53,
   "id": "ca7ee096",
   "metadata": {},
   "outputs": [
    {
     "data": {
      "text/plain": [
       "(32, 150, 150, 3)"
      ]
     },
     "execution_count": 53,
     "metadata": {},
     "output_type": "execute_result"
    }
   ],
   "source": [
    "X.shape"
   ]
  },
  {
   "cell_type": "code",
   "execution_count": 102,
   "id": "3f748e0d",
   "metadata": {},
   "outputs": [
    {
     "name": "stdout",
     "output_type": "stream",
     "text": [
      "Found 341 images belonging to 10 classes.\n"
     ]
    }
   ],
   "source": [
    "val_gen = ImageDataGenerator(preprocessing_function=preprocess_input) \n",
    "val_ds = val_gen.flow_from_directory(\"C:\\\\Users\\\\santh\\\\Downloads\\\\clothing-dataset-small-master1/validation\",\n",
    "                                        target_size=(150,150),batch_size=32,shuffle=False)"
   ]
  },
  {
   "cell_type": "code",
   "execution_count": 67,
   "id": "b0f54539",
   "metadata": {},
   "outputs": [],
   "source": [
    "base_model = Xception(\n",
    "            weights=\"imagenet\",\n",
    "            include_top = False,\n",
    "            input_shape =(150,150,3))\n",
    "\n",
    "base_model.trainable = False\n",
    "\n",
    "inputs = keras.Input(shape=(150,150,3))\n",
    "\n",
    "base = base_model(inputs, training = False)\n",
    "\n",
    "vectors = keras.layers.GlobalAveragePooling2D()(base)\n",
    "\n",
    "outputs = keras.layers.Dense(10)(vectors)\n",
    "\n",
    "model = keras.Model(inputs, outputs)"
   ]
  },
  {
   "cell_type": "code",
   "execution_count": 68,
   "id": "a1205c73",
   "metadata": {},
   "outputs": [
    {
     "name": "stdout",
     "output_type": "stream",
     "text": [
      "WARNING:tensorflow:5 out of the last 6 calls to <function Model.make_predict_function.<locals>.predict_function at 0x00000281015C6CA0> triggered tf.function retracing. Tracing is expensive and the excessive number of tracings could be due to (1) creating @tf.function repeatedly in a loop, (2) passing tensors with different shapes, (3) passing Python objects instead of tensors. For (1), please define your @tf.function outside of the loop. For (2), @tf.function has reduce_retracing=True option that can avoid unnecessary retracing. For (3), please refer to https://www.tensorflow.org/guide/function#controlling_retracing and https://www.tensorflow.org/api_docs/python/tf/function for  more details.\n",
      "1/1 [==============================] - 1s 1s/step\n"
     ]
    }
   ],
   "source": [
    "preds = model.predict(X)"
   ]
  },
  {
   "cell_type": "code",
   "execution_count": 69,
   "id": "799a34ce",
   "metadata": {},
   "outputs": [
    {
     "data": {
      "text/plain": [
       "(32, 10)"
      ]
     },
     "execution_count": 69,
     "metadata": {},
     "output_type": "execute_result"
    }
   ],
   "source": [
    "preds.shape"
   ]
  },
  {
   "cell_type": "code",
   "execution_count": 73,
   "id": "19c6a781",
   "metadata": {},
   "outputs": [],
   "source": [
    "learning_rate = 0.01\n",
    "optimizer = keras.optimizers.Adam(learning_rate=learning_rate)\n",
    "\n",
    "loss = keras.losses.CategoricalCrossentropy(from_logits=True)"
   ]
  },
  {
   "cell_type": "code",
   "execution_count": 74,
   "id": "09106771",
   "metadata": {},
   "outputs": [],
   "source": [
    "model.compile(optimizer=optimizer, loss=loss, metrics=['accuracy'])"
   ]
  },
  {
   "cell_type": "code",
   "execution_count": 77,
   "id": "1cf0e5bb",
   "metadata": {},
   "outputs": [
    {
     "name": "stdout",
     "output_type": "stream",
     "text": [
      "Epoch 1/10\n",
      "96/96 [==============================] - 56s 586ms/step - loss: 0.0200 - accuracy: 0.9977 - val_loss: 0.8333 - val_accuracy: 0.8123\n",
      "Epoch 2/10\n",
      "96/96 [==============================] - 56s 586ms/step - loss: 0.0136 - accuracy: 0.9997 - val_loss: 0.8939 - val_accuracy: 0.8065\n",
      "Epoch 3/10\n",
      "96/96 [==============================] - 56s 586ms/step - loss: 0.0202 - accuracy: 0.9980 - val_loss: 0.8779 - val_accuracy: 0.8094\n",
      "Epoch 4/10\n",
      "96/96 [==============================] - 57s 589ms/step - loss: 0.0849 - accuracy: 0.9743 - val_loss: 1.3236 - val_accuracy: 0.7654\n",
      "Epoch 5/10\n",
      "96/96 [==============================] - 57s 592ms/step - loss: 0.1962 - accuracy: 0.9381 - val_loss: 1.2599 - val_accuracy: 0.8065\n",
      "Epoch 6/10\n",
      "96/96 [==============================] - 56s 585ms/step - loss: 0.2196 - accuracy: 0.9368 - val_loss: 1.3553 - val_accuracy: 0.7918\n",
      "Epoch 7/10\n",
      "96/96 [==============================] - 56s 587ms/step - loss: 0.3030 - accuracy: 0.9188 - val_loss: 1.8561 - val_accuracy: 0.7625\n",
      "Epoch 8/10\n",
      "96/96 [==============================] - 57s 589ms/step - loss: 0.1245 - accuracy: 0.9596 - val_loss: 1.4857 - val_accuracy: 0.7947\n",
      "Epoch 9/10\n",
      "96/96 [==============================] - 56s 588ms/step - loss: 0.0623 - accuracy: 0.9791 - val_loss: 1.4912 - val_accuracy: 0.8152\n",
      "Epoch 10/10\n",
      "96/96 [==============================] - 57s 589ms/step - loss: 0.0532 - accuracy: 0.9844 - val_loss: 1.3460 - val_accuracy: 0.8270\n"
     ]
    }
   ],
   "source": [
    "history = model.fit(train_ds, epochs=10, validation_data=val_ds)"
   ]
  },
  {
   "cell_type": "code",
   "execution_count": 81,
   "id": "b661a6c1",
   "metadata": {},
   "outputs": [
    {
     "data": {
      "text/plain": [
       "<matplotlib.legend.Legend at 0x2810ee6ddc0>"
      ]
     },
     "execution_count": 81,
     "metadata": {},
     "output_type": "execute_result"
    },
    {
     "data": {
      "image/png": "[encoded data removed]",
      "text/plain": [
       "<Figure size 432x288 with 1 Axes>"
      ]
     },
     "metadata": {
      "needs_background": "light"
     },
     "output_type": "display_data"
    }
   ],
   "source": [
    "#plt.plot(history.history['accuracy'], label = 'train')\n",
    "plt.plot(history.history['val_accuracy'], label = 'val')\n",
    "\n",
    "plt.legend()"
   ]
  },
  {
   "cell_type": "markdown",
   "id": "0eee2087",
   "metadata": {},
   "source": [
    "## Adjusting the Learning Rate :"
   ]
  },
  {
   "cell_type": "code",
   "execution_count": 82,
   "id": "0de9bcd3",
   "metadata": {},
   "outputs": [],
   "source": [
    "def make_model(learning_rate = 0.01):\n",
    "    base_model = Xception(\n",
    "            weights=\"imagenet\",\n",
    "            include_top = False,\n",
    "            input_shape =(150,150,3))\n",
    "\n",
    "    base_model.trainable = False\n",
    "\n",
    "    inputs = keras.Input(shape=(150,150,3))\n",
    "    base = base_model(inputs, training = False)\n",
    "    vectors = keras.layers.GlobalAveragePooling2D()(base)\n",
    "    outputs = keras.layers.Dense(10)(vectors)\n",
    "    model = keras.Model(inputs, outputs)\n",
    "    \n",
    "    optimizer = keras.optimizers.Adam(learning_rate=learning_rate)\n",
    "    loss = keras.losses.CategoricalCrossentropy(from_logits=True)\n",
    "    \n",
    "    model.compile(optimizer=optimizer, loss=loss, metrics=['accuracy'])\n",
    "    \n",
    "    return model"
   ]
  },
  {
   "cell_type": "code",
   "execution_count": 83,
   "id": "c99977b7",
   "metadata": {
    "scrolled": true
   },
   "outputs": [
    {
     "name": "stdout",
     "output_type": "stream",
     "text": [
      "0.0001\n",
      "Epoch 1/10\n",
      "96/96 [==============================] - 60s 597ms/step - loss: 1.8564 - accuracy: 0.3973 - val_loss: 1.5673 - val_accuracy: 0.4927\n",
      "Epoch 2/10\n",
      "96/96 [==============================] - 56s 587ms/step - loss: 1.3640 - accuracy: 0.5662 - val_loss: 1.2309 - val_accuracy: 0.6305\n",
      "Epoch 3/10\n",
      "96/96 [==============================] - 57s 591ms/step - loss: 1.1316 - accuracy: 0.6359 - val_loss: 1.0503 - val_accuracy: 0.6862\n",
      "Epoch 4/10\n",
      "96/96 [==============================] - 56s 585ms/step - loss: 0.9931 - accuracy: 0.6887 - val_loss: 0.9390 - val_accuracy: 0.7185\n",
      "Epoch 5/10\n",
      "96/96 [==============================] - 57s 591ms/step - loss: 0.9007 - accuracy: 0.7158 - val_loss: 0.8675 - val_accuracy: 0.7361\n",
      "Epoch 6/10\n",
      "96/96 [==============================] - 57s 589ms/step - loss: 0.8339 - accuracy: 0.7321 - val_loss: 0.8150 - val_accuracy: 0.7507\n",
      "Epoch 7/10\n",
      "96/96 [==============================] - 57s 590ms/step - loss: 0.7805 - accuracy: 0.7497 - val_loss: 0.7777 - val_accuracy: 0.7683\n",
      "Epoch 8/10\n",
      "96/96 [==============================] - 56s 587ms/step - loss: 0.7381 - accuracy: 0.7702 - val_loss: 0.7447 - val_accuracy: 0.7654\n",
      "Epoch 9/10\n",
      "96/96 [==============================] - 57s 588ms/step - loss: 0.7025 - accuracy: 0.7813 - val_loss: 0.7217 - val_accuracy: 0.7830\n",
      "Epoch 10/10\n",
      "96/96 [==============================] - 56s 588ms/step - loss: 0.6728 - accuracy: 0.7894 - val_loss: 0.7047 - val_accuracy: 0.7859\n",
      "\n",
      "\n",
      "0.001\n",
      "Epoch 1/10\n",
      "96/96 [==============================] - 61s 600ms/step - loss: 1.0890 - accuracy: 0.6242 - val_loss: 0.6958 - val_accuracy: 0.7918\n",
      "Epoch 2/10\n",
      "96/96 [==============================] - 56s 587ms/step - loss: 0.6296 - accuracy: 0.7832 - val_loss: 0.6265 - val_accuracy: 0.8094\n",
      "Epoch 3/10\n",
      "96/96 [==============================] - 56s 587ms/step - loss: 0.5116 - accuracy: 0.8325 - val_loss: 0.5927 - val_accuracy: 0.8240\n",
      "Epoch 4/10\n",
      "96/96 [==============================] - 57s 589ms/step - loss: 0.4385 - accuracy: 0.8533 - val_loss: 0.5720 - val_accuracy: 0.8182\n",
      "Epoch 5/10\n",
      "96/96 [==============================] - 57s 590ms/step - loss: 0.3731 - accuracy: 0.8801 - val_loss: 0.5377 - val_accuracy: 0.8387\n",
      "Epoch 6/10\n",
      "96/96 [==============================] - 57s 589ms/step - loss: 0.3287 - accuracy: 0.9074 - val_loss: 0.5321 - val_accuracy: 0.8299\n",
      "Epoch 7/10\n",
      "96/96 [==============================] - 57s 589ms/step - loss: 0.2918 - accuracy: 0.9182 - val_loss: 0.5203 - val_accuracy: 0.8475\n",
      "Epoch 8/10\n",
      "96/96 [==============================] - 56s 588ms/step - loss: 0.2574 - accuracy: 0.9348 - val_loss: 0.5412 - val_accuracy: 0.8240\n",
      "Epoch 9/10\n",
      "96/96 [==============================] - 57s 590ms/step - loss: 0.2347 - accuracy: 0.9407 - val_loss: 0.5203 - val_accuracy: 0.8622\n",
      "Epoch 10/10\n",
      "96/96 [==============================] - 57s 592ms/step - loss: 0.2145 - accuracy: 0.9508 - val_loss: 0.5276 - val_accuracy: 0.8416\n",
      "\n",
      "\n",
      "0.01\n",
      "Epoch 1/10\n",
      "96/96 [==============================] - 61s 608ms/step - loss: 1.2579 - accuracy: 0.6574 - val_loss: 1.0595 - val_accuracy: 0.6950\n",
      "Epoch 2/10\n",
      "96/96 [==============================] - 57s 598ms/step - loss: 0.5472 - accuracy: 0.8289 - val_loss: 0.9493 - val_accuracy: 0.7537\n",
      "Epoch 3/10\n",
      "96/96 [==============================] - 57s 595ms/step - loss: 0.3409 - accuracy: 0.8810 - val_loss: 0.8119 - val_accuracy: 0.8035\n",
      "Epoch 4/10\n",
      "96/96 [==============================] - 56s 587ms/step - loss: 0.2706 - accuracy: 0.9071 - val_loss: 1.1390 - val_accuracy: 0.7478\n",
      "Epoch 5/10\n",
      "96/96 [==============================] - 57s 596ms/step - loss: 0.2151 - accuracy: 0.9241 - val_loss: 0.8806 - val_accuracy: 0.7977\n",
      "Epoch 6/10\n",
      "96/96 [==============================] - 56s 588ms/step - loss: 0.1405 - accuracy: 0.9475 - val_loss: 0.8806 - val_accuracy: 0.7977\n",
      "Epoch 7/10\n",
      "96/96 [==============================] - 56s 587ms/step - loss: 0.0933 - accuracy: 0.9668 - val_loss: 0.9254 - val_accuracy: 0.8006\n",
      "Epoch 8/10\n",
      "96/96 [==============================] - 56s 588ms/step - loss: 0.0683 - accuracy: 0.9785 - val_loss: 1.0870 - val_accuracy: 0.7830\n",
      "Epoch 9/10\n",
      "96/96 [==============================] - 56s 588ms/step - loss: 0.0409 - accuracy: 0.9892 - val_loss: 0.9243 - val_accuracy: 0.7977\n",
      "Epoch 10/10\n",
      "96/96 [==============================] - 57s 589ms/step - loss: 0.0307 - accuracy: 0.9945 - val_loss: 0.9627 - val_accuracy: 0.8182\n",
      "\n",
      "\n",
      "0.1\n",
      "Epoch 1/10\n",
      "96/96 [==============================] - 61s 599ms/step - loss: 9.6177 - accuracy: 0.6522 - val_loss: 10.1933 - val_accuracy: 0.6833\n",
      "Epoch 2/10\n",
      "96/96 [==============================] - 57s 590ms/step - loss: 4.6704 - accuracy: 0.7878 - val_loss: 7.8307 - val_accuracy: 0.7449\n",
      "Epoch 3/10\n",
      "96/96 [==============================] - 57s 588ms/step - loss: 3.8398 - accuracy: 0.8243 - val_loss: 7.9015 - val_accuracy: 0.7771\n",
      "Epoch 4/10\n",
      "96/96 [==============================] - 57s 591ms/step - loss: 3.3863 - accuracy: 0.8520 - val_loss: 7.5420 - val_accuracy: 0.7830\n",
      "Epoch 5/10\n",
      "96/96 [==============================] - 57s 591ms/step - loss: 2.4204 - accuracy: 0.8898 - val_loss: 10.1571 - val_accuracy: 0.7713\n",
      "Epoch 6/10\n",
      "96/96 [==============================] - 57s 589ms/step - loss: 2.0597 - accuracy: 0.9022 - val_loss: 8.7359 - val_accuracy: 0.7801\n",
      "Epoch 7/10\n",
      "96/96 [==============================] - 56s 586ms/step - loss: 1.8863 - accuracy: 0.9071 - val_loss: 8.8937 - val_accuracy: 0.7977\n",
      "Epoch 8/10\n",
      "96/96 [==============================] - 58s 602ms/step - loss: 2.0308 - accuracy: 0.9117 - val_loss: 12.6531 - val_accuracy: 0.7390\n",
      "Epoch 9/10\n",
      "96/96 [==============================] - 57s 592ms/step - loss: 1.5374 - accuracy: 0.9316 - val_loss: 11.1734 - val_accuracy: 0.7713\n",
      "Epoch 10/10\n",
      "96/96 [==============================] - 57s 592ms/step - loss: 1.1869 - accuracy: 0.9443 - val_loss: 12.1032 - val_accuracy: 0.7977\n",
      "\n",
      "\n"
     ]
    }
   ],
   "source": [
    "scores = {}\n",
    "\n",
    "for lr in [0.0001,0.001,.01,0.1]:\n",
    "    print(lr)\n",
    "    \n",
    "    model = make_model(learning_rate=lr)\n",
    "    history = model.fit(train_ds, epochs=10, validation_data=val_ds)\n",
    "    scores[lr] = history.history\n",
    "    \n",
    "    print()\n",
    "    print()"
   ]
  },
  {
   "cell_type": "code",
   "execution_count": 86,
   "id": "48bc7831",
   "metadata": {},
   "outputs": [
    {
     "data": {
      "text/plain": [
       "<matplotlib.legend.Legend at 0x2810497b550>"
      ]
     },
     "execution_count": 86,
     "metadata": {},
     "output_type": "execute_result"
    },
    {
     "data": {
      "image/png": "[encoded data removed]",
      "text/plain": [
       "<Figure size 432x288 with 1 Axes>"
      ]
     },
     "metadata": {
      "needs_background": "light"
     },
     "output_type": "display_data"
    }
   ],
   "source": [
    "for lr, hist in scores.items():\n",
    "    plt.plot(hist['val_accuracy'], label = lr)\n",
    "    \n",
    "plt.xticks(np.arange(10))\n",
    "plt.legend()"
   ]
  },
  {
   "cell_type": "code",
   "execution_count": 87,
   "id": "459d5eb6",
   "metadata": {},
   "outputs": [],
   "source": [
    "learning_rate = 0.001"
   ]
  },
  {
   "cell_type": "markdown",
   "id": "4f89e1c2",
   "metadata": {},
   "source": [
    "## Checkpointing"
   ]
  },
  {
   "cell_type": "code",
   "execution_count": 88,
   "id": "d510f526",
   "metadata": {},
   "outputs": [],
   "source": [
    "model.save_weights('model_vl.h5',save_format='h5')"
   ]
  },
  {
   "cell_type": "code",
   "execution_count": 89,
   "id": "d9beea56",
   "metadata": {},
   "outputs": [],
   "source": [
    "checkpoint = keras.callbacks.ModelCheckpoint(\n",
    "        'xception_v1_{epoch:02d}_{val_accuracy:.3f}.h5',\n",
    "        save_best_only=True,monitor = 'val_accuracy',\n",
    "        mode='max')"
   ]
  },
  {
   "cell_type": "code",
   "execution_count": 90,
   "id": "76a733d3",
   "metadata": {},
   "outputs": [
    {
     "name": "stdout",
     "output_type": "stream",
     "text": [
      "Epoch 1/10\n",
      "96/96 [==============================] - 62s 617ms/step - loss: 1.0935 - accuracy: 0.6274 - val_loss: 0.6778 - val_accuracy: 0.7977\n",
      "Epoch 2/10\n",
      "96/96 [==============================] - 57s 595ms/step - loss: 0.6233 - accuracy: 0.7855 - val_loss: 0.5869 - val_accuracy: 0.8182\n",
      "Epoch 3/10\n",
      "96/96 [==============================] - 57s 591ms/step - loss: 0.5024 - accuracy: 0.8302 - val_loss: 0.5667 - val_accuracy: 0.8211\n",
      "Epoch 4/10\n",
      "96/96 [==============================] - 57s 590ms/step - loss: 0.4279 - accuracy: 0.8631 - val_loss: 0.5481 - val_accuracy: 0.8328\n",
      "Epoch 5/10\n",
      "96/96 [==============================] - 57s 593ms/step - loss: 0.3700 - accuracy: 0.8862 - val_loss: 0.5424 - val_accuracy: 0.8152\n",
      "Epoch 6/10\n",
      "96/96 [==============================] - 57s 591ms/step - loss: 0.3293 - accuracy: 0.9048 - val_loss: 0.5320 - val_accuracy: 0.8358\n",
      "Epoch 7/10\n",
      "96/96 [==============================] - 57s 590ms/step - loss: 0.2855 - accuracy: 0.9208 - val_loss: 0.5340 - val_accuracy: 0.8123\n",
      "Epoch 8/10\n",
      "96/96 [==============================] - 57s 590ms/step - loss: 0.2565 - accuracy: 0.9355 - val_loss: 0.5096 - val_accuracy: 0.8299\n",
      "Epoch 9/10\n",
      "96/96 [==============================] - 57s 590ms/step - loss: 0.2331 - accuracy: 0.9413 - val_loss: 0.5076 - val_accuracy: 0.8358\n",
      "Epoch 10/10\n",
      "96/96 [==============================] - 57s 592ms/step - loss: 0.2104 - accuracy: 0.9547 - val_loss: 0.5030 - val_accuracy: 0.8270\n"
     ]
    }
   ],
   "source": [
    "learning_rate = 0.001\n",
    "\n",
    "model = make_model(learning_rate=learning_rate)\n",
    "\n",
    "history = model.fit(\n",
    "    train_ds,\n",
    "    epochs=10,\n",
    "    validation_data=val_ds,\n",
    "    callbacks=[checkpoint]\n",
    ")\n",
    "  "
   ]
  },
  {
   "cell_type": "markdown",
   "id": "14e95058",
   "metadata": {},
   "source": [
    "## Adding More Layers "
   ]
  },
  {
   "cell_type": "code",
   "execution_count": 91,
   "id": "5b38e1a2",
   "metadata": {},
   "outputs": [],
   "source": [
    "def make_model(learning_rate = 0.001,size_inner = 100):\n",
    "    base_model = Xception(\n",
    "            weights=\"imagenet\",\n",
    "            include_top = False,\n",
    "            input_shape =(150,150,3))\n",
    "\n",
    "    base_model.trainable = False\n",
    "\n",
    "    inputs = keras.Input(shape=(150,150,3))\n",
    "    base = base_model(inputs, training = False)\n",
    "    vectors = keras.layers.GlobalAveragePooling2D()(base)\n",
    "    \n",
    "    inner = keras.layers.Dense(size_inner, activation='relu')(vectors)\n",
    "    \n",
    "    outputs = keras.layers.Dense(10)(inner)\n",
    "    model = keras.Model(inputs, outputs)\n",
    "    \n",
    "    optimizer = keras.optimizers.Adam(learning_rate=learning_rate)\n",
    "    loss = keras.losses.CategoricalCrossentropy(from_logits=True)\n",
    "    \n",
    "    model.compile(optimizer=optimizer, loss=loss, metrics=['accuracy'])\n",
    "    \n",
    "    return model"
   ]
  },
  {
   "cell_type": "code",
   "execution_count": 97,
   "id": "a6e0caf9",
   "metadata": {
    "scrolled": true
   },
   "outputs": [
    {
     "name": "stdout",
     "output_type": "stream",
     "text": [
      "10\n",
      "Epoch 1/10\n",
      "96/96 [==============================] - 64s 633ms/step - loss: 2.0436 - accuracy: 0.3090 - val_loss: 1.6268 - val_accuracy: 0.5044\n",
      "Epoch 2/10\n",
      "96/96 [==============================] - 59s 620ms/step - loss: 1.7490 - accuracy: 0.3787 - val_loss: 1.4382 - val_accuracy: 0.5689\n",
      "Epoch 3/10\n",
      "96/96 [==============================] - 60s 622ms/step - loss: 1.6182 - accuracy: 0.4143 - val_loss: 1.3045 - val_accuracy: 0.5982\n",
      "Epoch 4/10\n",
      "96/96 [==============================] - 59s 616ms/step - loss: 1.5828 - accuracy: 0.4325 - val_loss: 1.2496 - val_accuracy: 0.6070\n",
      "Epoch 5/10\n",
      "96/96 [==============================] - 841s 9s/step - loss: 1.5034 - accuracy: 0.4531 - val_loss: 1.1709 - val_accuracy: 0.6070\n",
      "Epoch 6/10\n",
      "96/96 [==============================] - 57s 591ms/step - loss: 1.4720 - accuracy: 0.4443 - val_loss: 1.1534 - val_accuracy: 0.6628\n",
      "Epoch 7/10\n",
      "96/96 [==============================] - 56s 588ms/step - loss: 1.4315 - accuracy: 0.4524 - val_loss: 1.0980 - val_accuracy: 0.6628\n",
      "Epoch 8/10\n",
      "96/96 [==============================] - 57s 588ms/step - loss: 1.4129 - accuracy: 0.4619 - val_loss: 1.0770 - val_accuracy: 0.6510\n",
      "Epoch 9/10\n",
      "96/96 [==============================] - 56s 588ms/step - loss: 1.3671 - accuracy: 0.4759 - val_loss: 1.0537 - val_accuracy: 0.6540\n",
      "Epoch 10/10\n",
      "96/96 [==============================] - 57s 595ms/step - loss: 1.3857 - accuracy: 0.4726 - val_loss: 0.9962 - val_accuracy: 0.7009\n",
      "\n",
      "\n",
      "100\n",
      "Epoch 1/10\n",
      "96/96 [==============================] - 61s 599ms/step - loss: 1.2992 - accuracy: 0.5750 - val_loss: 0.7477 - val_accuracy: 0.7566\n",
      "Epoch 2/10\n",
      "96/96 [==============================] - 57s 590ms/step - loss: 0.8236 - accuracy: 0.7168 - val_loss: 0.6767 - val_accuracy: 0.7889\n",
      "Epoch 3/10\n",
      "96/96 [==============================] - 56s 587ms/step - loss: 0.6844 - accuracy: 0.7614 - val_loss: 0.5986 - val_accuracy: 0.8123\n",
      "Epoch 4/10\n",
      "96/96 [==============================] - 56s 587ms/step - loss: 0.5929 - accuracy: 0.7999 - val_loss: 0.5772 - val_accuracy: 0.7977\n",
      "Epoch 5/10\n",
      "96/96 [==============================] - 56s 588ms/step - loss: 0.5248 - accuracy: 0.8181 - val_loss: 0.5933 - val_accuracy: 0.8094\n",
      "Epoch 6/10\n",
      "96/96 [==============================] - 56s 588ms/step - loss: 0.4436 - accuracy: 0.8455 - val_loss: 0.5387 - val_accuracy: 0.8328\n",
      "Epoch 7/10\n",
      "96/96 [==============================] - 57s 589ms/step - loss: 0.3955 - accuracy: 0.8608 - val_loss: 0.5323 - val_accuracy: 0.8152\n",
      "Epoch 8/10\n",
      "96/96 [==============================] - 56s 588ms/step - loss: 0.3414 - accuracy: 0.8820 - val_loss: 0.5465 - val_accuracy: 0.8006\n",
      "Epoch 9/10\n",
      "96/96 [==============================] - 57s 594ms/step - loss: 0.3230 - accuracy: 0.8853 - val_loss: 0.5329 - val_accuracy: 0.8123\n",
      "Epoch 10/10\n",
      "96/96 [==============================] - 56s 587ms/step - loss: 0.2937 - accuracy: 0.8970 - val_loss: 0.5897 - val_accuracy: 0.8006\n",
      "\n",
      "\n",
      "1000\n",
      "Epoch 1/10\n",
      "96/96 [==============================] - 62s 617ms/step - loss: 1.1012 - accuracy: 0.6447 - val_loss: 0.6320 - val_accuracy: 0.7947\n",
      "Epoch 2/10\n",
      "96/96 [==============================] - 58s 605ms/step - loss: 0.6211 - accuracy: 0.7819 - val_loss: 0.6150 - val_accuracy: 0.8006\n",
      "Epoch 3/10\n",
      "96/96 [==============================] - 58s 605ms/step - loss: 0.4711 - accuracy: 0.8250 - val_loss: 0.5576 - val_accuracy: 0.8270\n",
      "Epoch 4/10\n",
      "96/96 [==============================] - 58s 605ms/step - loss: 0.3953 - accuracy: 0.8563 - val_loss: 0.5601 - val_accuracy: 0.8211\n",
      "Epoch 5/10\n",
      "96/96 [==============================] - 58s 606ms/step - loss: 0.3281 - accuracy: 0.8787 - val_loss: 0.5560 - val_accuracy: 0.8240\n",
      "Epoch 6/10\n",
      "96/96 [==============================] - 58s 607ms/step - loss: 0.2252 - accuracy: 0.9260 - val_loss: 0.5861 - val_accuracy: 0.8270\n",
      "Epoch 7/10\n",
      "96/96 [==============================] - 58s 606ms/step - loss: 0.2079 - accuracy: 0.9267 - val_loss: 0.6732 - val_accuracy: 0.8006\n",
      "Epoch 8/10\n",
      "96/96 [==============================] - 61s 635ms/step - loss: 0.1897 - accuracy: 0.9286 - val_loss: 0.6568 - val_accuracy: 0.8152\n",
      "Epoch 9/10\n",
      "96/96 [==============================] - 62s 650ms/step - loss: 0.1398 - accuracy: 0.9501 - val_loss: 0.6785 - val_accuracy: 0.7918\n",
      "Epoch 10/10\n",
      "96/96 [==============================] - 64s 667ms/step - loss: 0.1195 - accuracy: 0.9586 - val_loss: 0.7463 - val_accuracy: 0.8123\n",
      "\n",
      "\n"
     ]
    }
   ],
   "source": [
    "learning_rate = 0.001\n",
    "scores = {}\n",
    "\n",
    "for size in [10,100,1000]:\n",
    "    print(size)\n",
    "    \n",
    "    model = make_model(learning_rate=learning_rate, size_inner=size)\n",
    "    history = model.fit(train_ds, epochs=10, validation_data=val_ds)\n",
    "    scores[size] = history.history\n",
    "    \n",
    "    print()\n",
    "    print()"
   ]
  },
  {
   "cell_type": "markdown",
   "id": "19f196a8",
   "metadata": {},
   "source": [
    "## Regularization and Dropout"
   ]
  },
  {
   "cell_type": "code",
   "execution_count": 98,
   "id": "33510eae",
   "metadata": {},
   "outputs": [],
   "source": [
    " def make_model(learning_rate = 0.001,size_inner = 100, droprate=0.5):\n",
    "    base_model = Xception(\n",
    "            weights=\"imagenet\",\n",
    "            include_top = False,\n",
    "            input_shape =(150,150,3))\n",
    "\n",
    "    base_model.trainable = False\n",
    "\n",
    "    inputs = keras.Input(shape=(150,150,3))\n",
    "    base = base_model(inputs, training = False)\n",
    "    vectors = keras.layers.GlobalAveragePooling2D()(base)\n",
    "    \n",
    "    inner = keras.layers.Dense(size_inner, activation='relu')(vectors)\n",
    "    drop = keras.layers.Dropout(droprate)(inner) \n",
    "    \n",
    "    outputs = keras.layers.Dense(10)(drop)\n",
    "    model = keras.Model(inputs, outputs)\n",
    "    \n",
    "    optimizer = keras.optimizers.Adam(learning_rate=learning_rate)\n",
    "    loss = keras.losses.CategoricalCrossentropy(from_logits=True)\n",
    "    \n",
    "    model.compile(optimizer=optimizer, loss=loss, metrics=['accuracy'])\n",
    "    \n",
    "    return model"
   ]
  },
  {
   "cell_type": "code",
   "execution_count": 99,
   "id": "c9b86eab",
   "metadata": {},
   "outputs": [
    {
     "name": "stdout",
     "output_type": "stream",
     "text": [
      "0.0\n",
      "Epoch 1/30\n",
      "96/96 [==============================] - 63s 625ms/step - loss: 0.9581 - accuracy: 0.6633 - val_loss: 0.6139 - val_accuracy: 0.8065\n",
      "Epoch 2/30\n",
      "96/96 [==============================] - 61s 632ms/step - loss: 0.5107 - accuracy: 0.8237 - val_loss: 0.5604 - val_accuracy: 0.8152\n",
      "Epoch 3/30\n",
      "96/96 [==============================] - 59s 619ms/step - loss: 0.3750 - accuracy: 0.8713 - val_loss: 0.5472 - val_accuracy: 0.8240\n",
      "Epoch 4/30\n",
      "96/96 [==============================] - 58s 606ms/step - loss: 0.2524 - accuracy: 0.9195 - val_loss: 0.5864 - val_accuracy: 0.7977\n",
      "Epoch 5/30\n",
      "96/96 [==============================] - 59s 614ms/step - loss: 0.1768 - accuracy: 0.9514 - val_loss: 0.6625 - val_accuracy: 0.8006\n",
      "Epoch 6/30\n",
      "96/96 [==============================] - 60s 628ms/step - loss: 0.1332 - accuracy: 0.9668 - val_loss: 0.5721 - val_accuracy: 0.8065\n",
      "Epoch 7/30\n",
      "96/96 [==============================] - 65s 672ms/step - loss: 0.0930 - accuracy: 0.9798 - val_loss: 0.5816 - val_accuracy: 0.8094\n",
      "Epoch 8/30\n",
      "96/96 [==============================] - 59s 618ms/step - loss: 0.0550 - accuracy: 0.9954 - val_loss: 0.6050 - val_accuracy: 0.8094\n",
      "Epoch 9/30\n",
      "96/96 [==============================] - 59s 613ms/step - loss: 0.0449 - accuracy: 0.9951 - val_loss: 0.6516 - val_accuracy: 0.8035\n",
      "Epoch 10/30\n",
      "96/96 [==============================] - 60s 622ms/step - loss: 0.0322 - accuracy: 0.9987 - val_loss: 0.6306 - val_accuracy: 0.8270\n",
      "Epoch 11/30\n",
      "96/96 [==============================] - 59s 616ms/step - loss: 0.0231 - accuracy: 0.9990 - val_loss: 0.6535 - val_accuracy: 0.8152\n",
      "Epoch 12/30\n",
      "96/96 [==============================] - 59s 613ms/step - loss: 0.0178 - accuracy: 0.9997 - val_loss: 0.6482 - val_accuracy: 0.8358\n",
      "Epoch 13/30\n",
      "96/96 [==============================] - 58s 604ms/step - loss: 0.0160 - accuracy: 0.9997 - val_loss: 0.6534 - val_accuracy: 0.8299\n",
      "Epoch 14/30\n",
      "96/96 [==============================] - 60s 622ms/step - loss: 0.0124 - accuracy: 0.9997 - val_loss: 0.6692 - val_accuracy: 0.8299\n",
      "Epoch 15/30\n",
      "96/96 [==============================] - 57s 596ms/step - loss: 0.0108 - accuracy: 0.9997 - val_loss: 0.6867 - val_accuracy: 0.8358\n",
      "Epoch 16/30\n",
      "96/96 [==============================] - 57s 595ms/step - loss: 0.0118 - accuracy: 0.9993 - val_loss: 0.7314 - val_accuracy: 0.8182\n",
      "Epoch 17/30\n",
      "96/96 [==============================] - 57s 595ms/step - loss: 0.0160 - accuracy: 0.9987 - val_loss: 0.6857 - val_accuracy: 0.8299\n",
      "Epoch 18/30\n",
      "96/96 [==============================] - 57s 593ms/step - loss: 0.0084 - accuracy: 0.9993 - val_loss: 0.7005 - val_accuracy: 0.8328\n",
      "Epoch 19/30\n",
      "96/96 [==============================] - 58s 604ms/step - loss: 0.0120 - accuracy: 0.9987 - val_loss: 0.7148 - val_accuracy: 0.8328\n",
      "Epoch 20/30\n",
      "96/96 [==============================] - 57s 592ms/step - loss: 0.0095 - accuracy: 0.9990 - val_loss: 0.7071 - val_accuracy: 0.8240\n",
      "Epoch 21/30\n",
      "96/96 [==============================] - 57s 591ms/step - loss: 0.0066 - accuracy: 0.9990 - val_loss: 0.7434 - val_accuracy: 0.8211\n",
      "Epoch 22/30\n",
      "96/96 [==============================] - 57s 594ms/step - loss: 0.0082 - accuracy: 0.9987 - val_loss: 0.7294 - val_accuracy: 0.8328\n",
      "Epoch 23/30\n",
      "96/96 [==============================] - 57s 593ms/step - loss: 0.0068 - accuracy: 0.9997 - val_loss: 0.7394 - val_accuracy: 0.8299\n",
      "Epoch 24/30\n",
      "96/96 [==============================] - 57s 593ms/step - loss: 0.0043 - accuracy: 0.9993 - val_loss: 0.7699 - val_accuracy: 0.8270\n",
      "Epoch 25/30\n",
      "96/96 [==============================] - 57s 592ms/step - loss: 0.0080 - accuracy: 0.9993 - val_loss: 0.7614 - val_accuracy: 0.8328\n",
      "Epoch 26/30\n",
      "96/96 [==============================] - 57s 593ms/step - loss: 0.0074 - accuracy: 0.9990 - val_loss: 0.7972 - val_accuracy: 0.8182\n",
      "Epoch 27/30\n",
      "96/96 [==============================] - 57s 594ms/step - loss: 0.0046 - accuracy: 0.9993 - val_loss: 0.8068 - val_accuracy: 0.8387\n",
      "Epoch 28/30\n",
      "96/96 [==============================] - 59s 609ms/step - loss: 0.0061 - accuracy: 0.9997 - val_loss: 0.7950 - val_accuracy: 0.8240\n",
      "Epoch 29/30\n",
      "96/96 [==============================] - 57s 597ms/step - loss: 0.0098 - accuracy: 0.9984 - val_loss: 0.8441 - val_accuracy: 0.8182\n",
      "Epoch 30/30\n",
      "96/96 [==============================] - 57s 591ms/step - loss: 0.0073 - accuracy: 0.9993 - val_loss: 0.8722 - val_accuracy: 0.8182\n",
      "\n",
      "\n",
      "0.2\n",
      "Epoch 1/30\n",
      "96/96 [==============================] - 60s 599ms/step - loss: 1.0673 - accuracy: 0.6330 - val_loss: 0.6912 - val_accuracy: 0.7654\n",
      "Epoch 2/30\n",
      "96/96 [==============================] - 57s 589ms/step - loss: 0.6463 - accuracy: 0.7709 - val_loss: 0.6033 - val_accuracy: 0.7947\n",
      "Epoch 3/30\n",
      "96/96 [==============================] - 57s 589ms/step - loss: 0.4828 - accuracy: 0.8334 - val_loss: 0.5579 - val_accuracy: 0.8094\n",
      "Epoch 4/30\n",
      "96/96 [==============================] - 57s 590ms/step - loss: 0.3687 - accuracy: 0.8814 - val_loss: 0.5806 - val_accuracy: 0.7859\n",
      "Epoch 5/30\n",
      "96/96 [==============================] - 57s 594ms/step - loss: 0.3015 - accuracy: 0.8993 - val_loss: 0.5454 - val_accuracy: 0.8065\n",
      "Epoch 6/30\n",
      "96/96 [==============================] - 57s 592ms/step - loss: 0.2422 - accuracy: 0.9185 - val_loss: 0.5420 - val_accuracy: 0.8182\n",
      "Epoch 7/30\n",
      "96/96 [==============================] - 57s 590ms/step - loss: 0.1899 - accuracy: 0.9433 - val_loss: 0.5402 - val_accuracy: 0.8094\n",
      "Epoch 8/30\n",
      "96/96 [==============================] - 57s 590ms/step - loss: 0.1512 - accuracy: 0.9589 - val_loss: 0.5928 - val_accuracy: 0.8094\n",
      "Epoch 9/30\n",
      "96/96 [==============================] - 57s 589ms/step - loss: 0.1316 - accuracy: 0.9645 - val_loss: 0.5564 - val_accuracy: 0.8152\n",
      "Epoch 10/30\n",
      "96/96 [==============================] - 57s 589ms/step - loss: 0.1058 - accuracy: 0.9700 - val_loss: 0.5690 - val_accuracy: 0.8065\n",
      "Epoch 11/30\n",
      "96/96 [==============================] - 56s 588ms/step - loss: 0.0980 - accuracy: 0.9746 - val_loss: 0.5798 - val_accuracy: 0.8211\n",
      "Epoch 12/30\n",
      "96/96 [==============================] - 56s 586ms/step - loss: 0.0735 - accuracy: 0.9857 - val_loss: 0.5876 - val_accuracy: 0.8299\n",
      "Epoch 13/30\n",
      "96/96 [==============================] - 56s 587ms/step - loss: 0.0667 - accuracy: 0.9863 - val_loss: 0.5631 - val_accuracy: 0.8446\n",
      "Epoch 14/30\n",
      "96/96 [==============================] - 56s 586ms/step - loss: 0.0531 - accuracy: 0.9889 - val_loss: 0.6485 - val_accuracy: 0.8065\n",
      "Epoch 15/30\n",
      "96/96 [==============================] - 56s 584ms/step - loss: 0.0571 - accuracy: 0.9879 - val_loss: 0.5942 - val_accuracy: 0.8358\n",
      "Epoch 16/30\n",
      "96/96 [==============================] - 56s 582ms/step - loss: 0.0364 - accuracy: 0.9938 - val_loss: 0.6421 - val_accuracy: 0.8182\n",
      "Epoch 17/30\n",
      "96/96 [==============================] - 56s 584ms/step - loss: 0.0320 - accuracy: 0.9958 - val_loss: 0.5982 - val_accuracy: 0.8299\n",
      "Epoch 18/30\n",
      "96/96 [==============================] - 56s 581ms/step - loss: 0.0311 - accuracy: 0.9954 - val_loss: 0.6426 - val_accuracy: 0.8299\n",
      "Epoch 19/30\n",
      "96/96 [==============================] - 57s 594ms/step - loss: 0.0297 - accuracy: 0.9951 - val_loss: 0.6369 - val_accuracy: 0.8387\n",
      "Epoch 20/30\n",
      "96/96 [==============================] - 57s 595ms/step - loss: 0.0318 - accuracy: 0.9941 - val_loss: 0.6475 - val_accuracy: 0.8182\n",
      "Epoch 21/30\n",
      "96/96 [==============================] - 57s 595ms/step - loss: 0.0266 - accuracy: 0.9948 - val_loss: 0.6422 - val_accuracy: 0.8094\n",
      "Epoch 22/30\n",
      "96/96 [==============================] - 57s 593ms/step - loss: 0.0229 - accuracy: 0.9977 - val_loss: 0.6434 - val_accuracy: 0.8270\n",
      "Epoch 23/30\n",
      "96/96 [==============================] - 57s 593ms/step - loss: 0.0207 - accuracy: 0.9977 - val_loss: 0.6625 - val_accuracy: 0.8299\n",
      "Epoch 24/30\n",
      "96/96 [==============================] - 57s 593ms/step - loss: 0.0275 - accuracy: 0.9941 - val_loss: 0.6617 - val_accuracy: 0.8299\n",
      "Epoch 25/30\n",
      "96/96 [==============================] - 57s 595ms/step - loss: 0.0238 - accuracy: 0.9964 - val_loss: 0.7297 - val_accuracy: 0.8006\n",
      "Epoch 26/30\n",
      "96/96 [==============================] - 57s 593ms/step - loss: 0.0147 - accuracy: 0.9987 - val_loss: 0.6921 - val_accuracy: 0.8328\n",
      "Epoch 27/30\n",
      "96/96 [==============================] - 57s 593ms/step - loss: 0.0178 - accuracy: 0.9967 - val_loss: 0.7275 - val_accuracy: 0.8152\n"
     ]
    },
    {
     "name": "stdout",
     "output_type": "stream",
     "text": [
      "Epoch 28/30\n",
      "96/96 [==============================] - 57s 594ms/step - loss: 0.0182 - accuracy: 0.9964 - val_loss: 0.7356 - val_accuracy: 0.8094\n",
      "Epoch 29/30\n",
      "96/96 [==============================] - 57s 593ms/step - loss: 0.0175 - accuracy: 0.9958 - val_loss: 0.7889 - val_accuracy: 0.8065\n",
      "Epoch 30/30\n",
      "96/96 [==============================] - 57s 592ms/step - loss: 0.0194 - accuracy: 0.9948 - val_loss: 0.7952 - val_accuracy: 0.7947\n",
      "\n",
      "\n",
      "0.5\n",
      "Epoch 1/30\n",
      "96/96 [==============================] - 60s 597ms/step - loss: 1.2976 - accuracy: 0.5658 - val_loss: 0.7994 - val_accuracy: 0.7419\n",
      "Epoch 2/30\n",
      "96/96 [==============================] - 56s 587ms/step - loss: 0.8118 - accuracy: 0.7207 - val_loss: 0.6638 - val_accuracy: 0.7801\n",
      "Epoch 3/30\n",
      "96/96 [==============================] - 56s 588ms/step - loss: 0.7084 - accuracy: 0.7549 - val_loss: 0.5916 - val_accuracy: 0.8152\n",
      "Epoch 4/30\n",
      "96/96 [==============================] - 56s 587ms/step - loss: 0.6034 - accuracy: 0.7878 - val_loss: 0.5691 - val_accuracy: 0.8035\n",
      "Epoch 5/30\n",
      "96/96 [==============================] - 56s 586ms/step - loss: 0.5269 - accuracy: 0.8211 - val_loss: 0.5714 - val_accuracy: 0.7947\n",
      "Epoch 6/30\n",
      "96/96 [==============================] - 56s 585ms/step - loss: 0.4695 - accuracy: 0.8347 - val_loss: 0.5391 - val_accuracy: 0.8416\n",
      "Epoch 7/30\n",
      "96/96 [==============================] - 56s 587ms/step - loss: 0.4320 - accuracy: 0.8569 - val_loss: 0.5429 - val_accuracy: 0.8182\n",
      "Epoch 8/30\n",
      "96/96 [==============================] - 56s 588ms/step - loss: 0.3789 - accuracy: 0.8722 - val_loss: 0.5449 - val_accuracy: 0.8211\n",
      "Epoch 9/30\n",
      "96/96 [==============================] - 56s 588ms/step - loss: 0.3385 - accuracy: 0.8859 - val_loss: 0.5695 - val_accuracy: 0.7977\n",
      "Epoch 10/30\n",
      "96/96 [==============================] - 56s 588ms/step - loss: 0.3077 - accuracy: 0.8947 - val_loss: 0.5406 - val_accuracy: 0.8123\n",
      "Epoch 11/30\n",
      "96/96 [==============================] - 57s 591ms/step - loss: 0.2736 - accuracy: 0.9081 - val_loss: 0.5455 - val_accuracy: 0.8211\n",
      "Epoch 12/30\n",
      "96/96 [==============================] - 56s 588ms/step - loss: 0.2535 - accuracy: 0.9136 - val_loss: 0.5804 - val_accuracy: 0.8094\n",
      "Epoch 13/30\n",
      "96/96 [==============================] - 57s 589ms/step - loss: 0.2334 - accuracy: 0.9250 - val_loss: 0.5485 - val_accuracy: 0.8328\n",
      "Epoch 14/30\n",
      "96/96 [==============================] - 57s 590ms/step - loss: 0.2118 - accuracy: 0.9322 - val_loss: 0.5427 - val_accuracy: 0.8182\n",
      "Epoch 15/30\n",
      "96/96 [==============================] - 57s 590ms/step - loss: 0.2087 - accuracy: 0.9286 - val_loss: 0.5352 - val_accuracy: 0.8358\n",
      "Epoch 16/30\n",
      "96/96 [==============================] - 57s 593ms/step - loss: 0.1924 - accuracy: 0.9364 - val_loss: 0.5858 - val_accuracy: 0.8123\n",
      "Epoch 17/30\n",
      "96/96 [==============================] - 57s 590ms/step - loss: 0.1730 - accuracy: 0.9439 - val_loss: 0.5771 - val_accuracy: 0.8270\n",
      "Epoch 18/30\n",
      "96/96 [==============================] - 57s 589ms/step - loss: 0.1717 - accuracy: 0.9413 - val_loss: 0.5784 - val_accuracy: 0.8182\n",
      "Epoch 19/30\n",
      "96/96 [==============================] - 59s 612ms/step - loss: 0.1450 - accuracy: 0.9531 - val_loss: 0.6204 - val_accuracy: 0.8123\n",
      "Epoch 20/30\n",
      "96/96 [==============================] - 57s 597ms/step - loss: 0.1399 - accuracy: 0.9531 - val_loss: 0.6645 - val_accuracy: 0.8035\n",
      "Epoch 21/30\n",
      "96/96 [==============================] - 57s 597ms/step - loss: 0.1278 - accuracy: 0.9573 - val_loss: 0.6553 - val_accuracy: 0.7977\n",
      "Epoch 22/30\n",
      "96/96 [==============================] - 57s 596ms/step - loss: 0.1361 - accuracy: 0.9527 - val_loss: 0.6418 - val_accuracy: 0.8182\n",
      "Epoch 23/30\n",
      "96/96 [==============================] - 58s 602ms/step - loss: 0.1081 - accuracy: 0.9648 - val_loss: 0.6334 - val_accuracy: 0.8211\n",
      "Epoch 24/30\n",
      "96/96 [==============================] - 57s 597ms/step - loss: 0.1183 - accuracy: 0.9625 - val_loss: 0.7001 - val_accuracy: 0.8065\n",
      "Epoch 25/30\n",
      "96/96 [==============================] - 57s 595ms/step - loss: 0.1073 - accuracy: 0.9632 - val_loss: 0.6804 - val_accuracy: 0.8065\n",
      "Epoch 26/30\n",
      "96/96 [==============================] - 57s 596ms/step - loss: 0.1109 - accuracy: 0.9697 - val_loss: 0.6633 - val_accuracy: 0.8240\n",
      "Epoch 27/30\n",
      "96/96 [==============================] - 57s 595ms/step - loss: 0.0945 - accuracy: 0.9694 - val_loss: 0.6520 - val_accuracy: 0.8065\n",
      "Epoch 28/30\n",
      "96/96 [==============================] - 58s 600ms/step - loss: 0.0812 - accuracy: 0.9762 - val_loss: 0.7440 - val_accuracy: 0.7918\n",
      "Epoch 29/30\n",
      "96/96 [==============================] - 58s 600ms/step - loss: 0.1000 - accuracy: 0.9674 - val_loss: 0.6451 - val_accuracy: 0.8094\n",
      "Epoch 30/30\n",
      "96/96 [==============================] - 57s 597ms/step - loss: 0.0929 - accuracy: 0.9703 - val_loss: 0.7146 - val_accuracy: 0.8211\n",
      "\n",
      "\n",
      "0.8\n",
      "Epoch 1/30\n",
      "96/96 [==============================] - 61s 604ms/step - loss: 1.7774 - accuracy: 0.4074 - val_loss: 1.0623 - val_accuracy: 0.7097\n",
      "Epoch 2/30\n",
      "96/96 [==============================] - 57s 594ms/step - loss: 1.3737 - accuracy: 0.5251 - val_loss: 0.9050 - val_accuracy: 0.7097\n",
      "Epoch 3/30\n",
      "96/96 [==============================] - 58s 601ms/step - loss: 1.2772 - accuracy: 0.5508 - val_loss: 0.8523 - val_accuracy: 0.7419\n",
      "Epoch 4/30\n",
      "96/96 [==============================] - 57s 595ms/step - loss: 1.1493 - accuracy: 0.5997 - val_loss: 0.7979 - val_accuracy: 0.7566\n",
      "Epoch 5/30\n",
      "96/96 [==============================] - 56s 587ms/step - loss: 1.1241 - accuracy: 0.5929 - val_loss: 0.7322 - val_accuracy: 0.7859\n",
      "Epoch 6/30\n",
      "96/96 [==============================] - 57s 590ms/step - loss: 1.0643 - accuracy: 0.6164 - val_loss: 0.7012 - val_accuracy: 0.7918\n",
      "Epoch 7/30\n",
      "96/96 [==============================] - 56s 588ms/step - loss: 1.0014 - accuracy: 0.6255 - val_loss: 0.6488 - val_accuracy: 0.8065\n",
      "Epoch 8/30\n",
      "96/96 [==============================] - 56s 588ms/step - loss: 0.9668 - accuracy: 0.6512 - val_loss: 0.6292 - val_accuracy: 0.7889\n",
      "Epoch 9/30\n",
      "96/96 [==============================] - 56s 588ms/step - loss: 0.9529 - accuracy: 0.6490 - val_loss: 0.6074 - val_accuracy: 0.8065\n",
      "Epoch 10/30\n",
      "96/96 [==============================] - 57s 589ms/step - loss: 0.9296 - accuracy: 0.6525 - val_loss: 0.6240 - val_accuracy: 0.7977\n",
      "Epoch 11/30\n",
      "96/96 [==============================] - 57s 589ms/step - loss: 0.8898 - accuracy: 0.6754 - val_loss: 0.6278 - val_accuracy: 0.7771\n",
      "Epoch 12/30\n",
      "96/96 [==============================] - 57s 590ms/step - loss: 0.8809 - accuracy: 0.6708 - val_loss: 0.6099 - val_accuracy: 0.8240\n",
      "Epoch 13/30\n",
      "96/96 [==============================] - 57s 588ms/step - loss: 0.8672 - accuracy: 0.6789 - val_loss: 0.6405 - val_accuracy: 0.7918\n",
      "Epoch 14/30\n",
      "96/96 [==============================] - 57s 588ms/step - loss: 0.8278 - accuracy: 0.6819 - val_loss: 0.6148 - val_accuracy: 0.8065\n",
      "Epoch 15/30\n",
      "96/96 [==============================] - 57s 592ms/step - loss: 0.8044 - accuracy: 0.6799 - val_loss: 0.5969 - val_accuracy: 0.8006\n",
      "Epoch 16/30\n",
      "96/96 [==============================] - 57s 588ms/step - loss: 0.8125 - accuracy: 0.6799 - val_loss: 0.6122 - val_accuracy: 0.7830\n",
      "Epoch 17/30\n",
      "96/96 [==============================] - 56s 587ms/step - loss: 0.7986 - accuracy: 0.6933 - val_loss: 0.5807 - val_accuracy: 0.8094\n",
      "Epoch 18/30\n",
      "96/96 [==============================] - 56s 586ms/step - loss: 0.7860 - accuracy: 0.6956 - val_loss: 0.5689 - val_accuracy: 0.8182\n",
      "Epoch 19/30\n",
      "96/96 [==============================] - 56s 585ms/step - loss: 0.7422 - accuracy: 0.7138 - val_loss: 0.5578 - val_accuracy: 0.8006\n",
      "Epoch 20/30\n",
      "96/96 [==============================] - 56s 587ms/step - loss: 0.7457 - accuracy: 0.7135 - val_loss: 0.5629 - val_accuracy: 0.8182\n",
      "Epoch 21/30\n",
      "96/96 [==============================] - 56s 588ms/step - loss: 0.7477 - accuracy: 0.7070 - val_loss: 0.5586 - val_accuracy: 0.8152\n",
      "Epoch 22/30\n",
      "96/96 [==============================] - 58s 599ms/step - loss: 0.7002 - accuracy: 0.7344 - val_loss: 0.5702 - val_accuracy: 0.8065\n",
      "Epoch 23/30\n",
      "96/96 [==============================] - 57s 597ms/step - loss: 0.7169 - accuracy: 0.7223 - val_loss: 0.5519 - val_accuracy: 0.8035\n",
      "Epoch 24/30\n",
      "96/96 [==============================] - 57s 595ms/step - loss: 0.6999 - accuracy: 0.7308 - val_loss: 0.5706 - val_accuracy: 0.8182\n"
     ]
    },
    {
     "name": "stdout",
     "output_type": "stream",
     "text": [
      "Epoch 25/30\n",
      "96/96 [==============================] - 57s 598ms/step - loss: 0.6974 - accuracy: 0.7321 - val_loss: 0.5573 - val_accuracy: 0.8270\n",
      "Epoch 26/30\n",
      "96/96 [==============================] - 57s 595ms/step - loss: 0.6764 - accuracy: 0.7392 - val_loss: 0.6076 - val_accuracy: 0.8152\n",
      "Epoch 27/30\n",
      "96/96 [==============================] - 57s 593ms/step - loss: 0.6680 - accuracy: 0.7376 - val_loss: 0.5838 - val_accuracy: 0.8123\n",
      "Epoch 28/30\n",
      "96/96 [==============================] - 57s 596ms/step - loss: 0.6510 - accuracy: 0.7415 - val_loss: 0.5648 - val_accuracy: 0.8270\n",
      "Epoch 29/30\n",
      "96/96 [==============================] - 57s 595ms/step - loss: 0.6465 - accuracy: 0.7432 - val_loss: 0.5822 - val_accuracy: 0.8123\n",
      "Epoch 30/30\n",
      "96/96 [==============================] - 57s 596ms/step - loss: 0.6389 - accuracy: 0.7425 - val_loss: 0.5512 - val_accuracy: 0.8270\n",
      "\n",
      "\n"
     ]
    }
   ],
   "source": [
    "learning_rate = 0.001\n",
    "size = 100\n",
    "\n",
    "scores = {}\n",
    "\n",
    "for droprate in [0.0,0.2,0.5,0.8]:\n",
    "    print(droprate)\n",
    "    \n",
    "    model = make_model(learning_rate=learning_rate, size_inner=size,droprate=droprate)\n",
    "    \n",
    "    history = model.fit(train_ds, epochs=30, validation_data=val_ds)\n",
    "    scores[droprate] = history.history\n",
    "    \n",
    "    print()\n",
    "    print()"
   ]
  },
  {
   "cell_type": "code",
   "execution_count": 100,
   "id": "355c2811",
   "metadata": {},
   "outputs": [
    {
     "data": {
      "text/plain": [
       "<matplotlib.legend.Legend at 0x28115fc4bb0>"
      ]
     },
     "execution_count": 100,
     "metadata": {},
     "output_type": "execute_result"
    },
    {
     "data": {
      "image/png": "[encoded data removed]",
      "text/plain": [
       "<Figure size 432x288 with 1 Axes>"
      ]
     },
     "metadata": {
      "needs_background": "light"
     },
     "output_type": "display_data"
    }
   ],
   "source": [
    "for droprate, hist in scores.items():\n",
    "    plt.plot(hist['val_accuracy'], label = (f'val={droprate}'))\n",
    "\n",
    "plt.legend()"
   ]
  },
  {
   "cell_type": "markdown",
   "id": "21c063f9",
   "metadata": {},
   "source": [
    "## Data Augumentation"
   ]
  },
  {
   "cell_type": "code",
   "execution_count": 103,
   "id": "89fc22f1",
   "metadata": {},
   "outputs": [
    {
     "name": "stdout",
     "output_type": "stream",
     "text": [
      "Found 3068 images belonging to 10 classes.\n",
      "Found 341 images belonging to 10 classes.\n"
     ]
    }
   ],
   "source": [
    "train_gen = ImageDataGenerator(preprocessing_function=preprocess_input,\n",
    "                              shear_range=10.0,\n",
    "                              zoom_range=0.1,\n",
    "                              vertical_flip=True) \n",
    "\n",
    "train_ds = train_gen.flow_from_directory(\"C:\\\\Users\\\\santh\\\\Downloads\\\\clothing-dataset-small-master1/train\",\n",
    "                                        target_size=(150,150),\n",
    "                                         batch_size=32)\n",
    "\n",
    "\n",
    "val_gen = ImageDataGenerator(preprocessing_function=preprocess_input) \n",
    "val_ds = val_gen.flow_from_directory(\"C:\\\\Users\\\\santh\\\\Downloads\\\\clothing-dataset-small-master1/validation\",\n",
    "                                        target_size=(150,150),\n",
    "                                        batch_size=32,\n",
    "                                        shuffle=False)"
   ]
  },
  {
   "cell_type": "code",
   "execution_count": 104,
   "id": "137bc8ee",
   "metadata": {
    "scrolled": true
   },
   "outputs": [
    {
     "name": "stdout",
     "output_type": "stream",
     "text": [
      "Epoch 1/50\n",
      "96/96 [==============================] - 70s 688ms/step - loss: 1.3408 - accuracy: 0.5518 - val_loss: 0.8203 - val_accuracy: 0.7419\n",
      "Epoch 2/50\n",
      "96/96 [==============================] - 65s 672ms/step - loss: 0.9280 - accuracy: 0.6819 - val_loss: 0.7261 - val_accuracy: 0.7654\n",
      "Epoch 3/50\n",
      "96/96 [==============================] - 59s 614ms/step - loss: 0.8062 - accuracy: 0.7246 - val_loss: 0.6343 - val_accuracy: 0.8094\n",
      "Epoch 4/50\n",
      "96/96 [==============================] - 62s 645ms/step - loss: 0.6965 - accuracy: 0.7617 - val_loss: 0.6577 - val_accuracy: 0.7830\n",
      "Epoch 5/50\n",
      "96/96 [==============================] - 64s 661ms/step - loss: 0.6753 - accuracy: 0.7689 - val_loss: 0.6485 - val_accuracy: 0.7830\n",
      "Epoch 6/50\n",
      "96/96 [==============================] - 64s 664ms/step - loss: 0.6117 - accuracy: 0.7878 - val_loss: 0.6172 - val_accuracy: 0.8065\n",
      "Epoch 7/50\n",
      "96/96 [==============================] - 64s 671ms/step - loss: 0.5657 - accuracy: 0.8087 - val_loss: 0.6307 - val_accuracy: 0.7742\n",
      "Epoch 8/50\n",
      "96/96 [==============================] - 64s 666ms/step - loss: 0.5197 - accuracy: 0.8299 - val_loss: 0.5986 - val_accuracy: 0.8035\n",
      "Epoch 9/50\n",
      "96/96 [==============================] - 64s 666ms/step - loss: 0.5138 - accuracy: 0.8227 - val_loss: 0.5741 - val_accuracy: 0.7918\n",
      "Epoch 10/50\n",
      "96/96 [==============================] - 64s 664ms/step - loss: 0.4729 - accuracy: 0.8289 - val_loss: 0.5904 - val_accuracy: 0.8094\n",
      "Epoch 11/50\n",
      "96/96 [==============================] - 64s 669ms/step - loss: 0.4582 - accuracy: 0.8458 - val_loss: 0.6116 - val_accuracy: 0.8035\n",
      "Epoch 12/50\n",
      "96/96 [==============================] - 64s 666ms/step - loss: 0.4312 - accuracy: 0.8566 - val_loss: 0.6230 - val_accuracy: 0.8065\n",
      "Epoch 13/50\n",
      "96/96 [==============================] - 64s 665ms/step - loss: 0.3935 - accuracy: 0.8647 - val_loss: 0.6237 - val_accuracy: 0.7830\n",
      "Epoch 14/50\n",
      "96/96 [==============================] - 64s 662ms/step - loss: 0.4029 - accuracy: 0.8553 - val_loss: 0.6095 - val_accuracy: 0.8123\n",
      "Epoch 15/50\n",
      "96/96 [==============================] - 64s 664ms/step - loss: 0.3651 - accuracy: 0.8722 - val_loss: 0.6016 - val_accuracy: 0.8094\n",
      "Epoch 16/50\n",
      "96/96 [==============================] - 64s 670ms/step - loss: 0.3630 - accuracy: 0.8755 - val_loss: 0.6146 - val_accuracy: 0.7947\n",
      "Epoch 17/50\n",
      "96/96 [==============================] - 65s 674ms/step - loss: 0.3431 - accuracy: 0.8827 - val_loss: 0.6121 - val_accuracy: 0.8006\n",
      "Epoch 18/50\n",
      "96/96 [==============================] - 64s 664ms/step - loss: 0.3189 - accuracy: 0.8872 - val_loss: 0.6228 - val_accuracy: 0.8065\n",
      "Epoch 19/50\n",
      "96/96 [==============================] - 64s 664ms/step - loss: 0.3275 - accuracy: 0.8823 - val_loss: 0.6392 - val_accuracy: 0.7947\n",
      "Epoch 20/50\n",
      "96/96 [==============================] - 64s 668ms/step - loss: 0.3125 - accuracy: 0.8963 - val_loss: 0.6297 - val_accuracy: 0.8006\n",
      "Epoch 21/50\n",
      "96/96 [==============================] - 64s 670ms/step - loss: 0.3067 - accuracy: 0.8934 - val_loss: 0.6690 - val_accuracy: 0.7801\n",
      "Epoch 22/50\n",
      "96/96 [==============================] - 64s 665ms/step - loss: 0.2899 - accuracy: 0.9019 - val_loss: 0.6180 - val_accuracy: 0.8182\n",
      "Epoch 23/50\n",
      "96/96 [==============================] - 64s 665ms/step - loss: 0.2739 - accuracy: 0.9104 - val_loss: 0.7002 - val_accuracy: 0.7918\n",
      "Epoch 24/50\n",
      "96/96 [==============================] - 64s 667ms/step - loss: 0.2627 - accuracy: 0.9097 - val_loss: 0.6510 - val_accuracy: 0.8035\n",
      "Epoch 25/50\n",
      "96/96 [==============================] - 64s 665ms/step - loss: 0.2497 - accuracy: 0.9126 - val_loss: 0.6740 - val_accuracy: 0.7947\n",
      "Epoch 26/50\n",
      "96/96 [==============================] - 65s 673ms/step - loss: 0.2496 - accuracy: 0.9162 - val_loss: 0.6242 - val_accuracy: 0.8035\n",
      "Epoch 27/50\n",
      "96/96 [==============================] - 64s 666ms/step - loss: 0.2415 - accuracy: 0.9195 - val_loss: 0.6726 - val_accuracy: 0.8035\n",
      "Epoch 28/50\n",
      "96/96 [==============================] - 64s 667ms/step - loss: 0.2225 - accuracy: 0.9267 - val_loss: 0.6952 - val_accuracy: 0.8065\n",
      "Epoch 29/50\n",
      "96/96 [==============================] - 65s 675ms/step - loss: 0.2228 - accuracy: 0.9286 - val_loss: 0.6441 - val_accuracy: 0.8065\n",
      "Epoch 30/50\n",
      "96/96 [==============================] - 65s 676ms/step - loss: 0.2224 - accuracy: 0.9237 - val_loss: 0.6387 - val_accuracy: 0.8065\n",
      "Epoch 31/50\n",
      "96/96 [==============================] - 64s 667ms/step - loss: 0.2204 - accuracy: 0.9250 - val_loss: 0.6162 - val_accuracy: 0.8211\n",
      "Epoch 32/50\n",
      "96/96 [==============================] - 64s 670ms/step - loss: 0.2270 - accuracy: 0.9234 - val_loss: 0.6675 - val_accuracy: 0.8065\n",
      "Epoch 33/50\n",
      "96/96 [==============================] - 64s 668ms/step - loss: 0.2129 - accuracy: 0.9257 - val_loss: 0.7327 - val_accuracy: 0.8123\n",
      "Epoch 34/50\n",
      "96/96 [==============================] - 64s 666ms/step - loss: 0.1973 - accuracy: 0.9293 - val_loss: 0.6918 - val_accuracy: 0.8152\n",
      "Epoch 35/50\n",
      "96/96 [==============================] - 65s 672ms/step - loss: 0.1910 - accuracy: 0.9335 - val_loss: 0.7480 - val_accuracy: 0.8065\n",
      "Epoch 36/50\n",
      "96/96 [==============================] - 64s 666ms/step - loss: 0.1814 - accuracy: 0.9384 - val_loss: 0.7611 - val_accuracy: 0.8123\n",
      "Epoch 37/50\n",
      "96/96 [==============================] - 64s 668ms/step - loss: 0.1835 - accuracy: 0.9329 - val_loss: 0.7325 - val_accuracy: 0.8065\n",
      "Epoch 38/50\n",
      "96/96 [==============================] - 64s 667ms/step - loss: 0.1906 - accuracy: 0.9358 - val_loss: 0.7794 - val_accuracy: 0.8065\n",
      "Epoch 39/50\n",
      "96/96 [==============================] - 64s 664ms/step - loss: 0.1950 - accuracy: 0.9312 - val_loss: 0.7746 - val_accuracy: 0.7830\n",
      "Epoch 40/50\n",
      "96/96 [==============================] - 65s 672ms/step - loss: 0.1605 - accuracy: 0.9459 - val_loss: 0.8103 - val_accuracy: 0.7918\n",
      "Epoch 41/50\n",
      "96/96 [==============================] - 64s 670ms/step - loss: 0.1795 - accuracy: 0.9397 - val_loss: 0.7527 - val_accuracy: 0.7947\n",
      "Epoch 42/50\n",
      "96/96 [==============================] - 64s 667ms/step - loss: 0.1590 - accuracy: 0.9465 - val_loss: 0.8563 - val_accuracy: 0.8065\n",
      "Epoch 43/50\n",
      "96/96 [==============================] - 64s 666ms/step - loss: 0.1661 - accuracy: 0.9449 - val_loss: 0.7607 - val_accuracy: 0.8123\n",
      "Epoch 44/50\n",
      "96/96 [==============================] - 64s 668ms/step - loss: 0.1660 - accuracy: 0.9459 - val_loss: 0.7895 - val_accuracy: 0.7947\n",
      "Epoch 45/50\n",
      "96/96 [==============================] - 65s 678ms/step - loss: 0.1642 - accuracy: 0.9413 - val_loss: 0.7831 - val_accuracy: 0.7918\n",
      "Epoch 46/50\n",
      "96/96 [==============================] - 64s 669ms/step - loss: 0.1664 - accuracy: 0.9371 - val_loss: 0.7807 - val_accuracy: 0.7947\n",
      "Epoch 47/50\n",
      "96/96 [==============================] - 64s 667ms/step - loss: 0.1625 - accuracy: 0.9413 - val_loss: 0.8077 - val_accuracy: 0.7918\n",
      "Epoch 48/50\n",
      "96/96 [==============================] - 64s 668ms/step - loss: 0.1659 - accuracy: 0.9439 - val_loss: 0.7536 - val_accuracy: 0.7918\n",
      "Epoch 49/50\n",
      "96/96 [==============================] - 64s 665ms/step - loss: 0.1595 - accuracy: 0.9443 - val_loss: 0.8653 - val_accuracy: 0.7771\n",
      "Epoch 50/50\n",
      "96/96 [==============================] - 64s 667ms/step - loss: 0.1471 - accuracy: 0.9518 - val_loss: 0.7421 - val_accuracy: 0.8065\n"
     ]
    }
   ],
   "source": [
    "learning_rate = 0.001\n",
    "size = 100\n",
    "droprate = 0.2\n",
    "\n",
    "model = make_model(learning_rate=learning_rate,\n",
    "                   size_inner=size,\n",
    "                   droprate=droprate)\n",
    "    \n",
    "history = model.fit(train_ds, epochs=50, validation_data=val_ds)"
   ]
  },
  {
   "cell_type": "code",
   "execution_count": 105,
   "id": "92fca0ef",
   "metadata": {},
   "outputs": [
    {
     "data": {
      "text/plain": [
       "<function matplotlib.pyplot.legend(*args, **kwargs)>"
      ]
     },
     "execution_count": 105,
     "metadata": {},
     "output_type": "execute_result"
    },
    {
     "data": {
      "image/png": "[encoded data removed]",
      "text/plain": [
       "<Figure size 432x288 with 1 Axes>"
      ]
     },
     "metadata": {
      "needs_background": "light"
     },
     "output_type": "display_data"
    }
   ],
   "source": [
    "hist = history.history\n",
    "plt.plot(hist['val_accuracy'],label='val')\n",
    "plt.plot(hist['accuracy'],label='train')\n",
    "\n",
    "plt.legend"
   ]
  },
  {
   "cell_type": "markdown",
   "id": "7833cf86",
   "metadata": {},
   "source": [
    "## Training a Larger Model"
   ]
  },
  {
   "cell_type": "code",
   "execution_count": 110,
   "id": "e537d399",
   "metadata": {},
   "outputs": [],
   "source": [
    " def make_model(input_size=150,learning_rate = 0.001,size_inner = 100, droprate=0.5):\n",
    "    base_model = Xception(\n",
    "            weights=\"imagenet\",\n",
    "            include_top = False,\n",
    "            input_shape =(input_size,input_size,3))\n",
    "\n",
    "    base_model.trainable = False\n",
    "\n",
    "    inputs = keras.Input(shape=(input_size,input_size,3))\n",
    "    base = base_model(inputs, training = False)\n",
    "    vectors = keras.layers.GlobalAveragePooling2D()(base)\n",
    "    \n",
    "    inner = keras.layers.Dense(size_inner, activation='relu')(vectors)\n",
    "    drop = keras.layers.Dropout(droprate)(inner) \n",
    "    \n",
    "    outputs = keras.layers.Dense(10)(drop)\n",
    "    model = keras.Model(inputs, outputs)\n",
    "    \n",
    "    optimizer = keras.optimizers.Adam(learning_rate=learning_rate)\n",
    "    loss = keras.losses.CategoricalCrossentropy(from_logits=True)\n",
    "    \n",
    "    model.compile(optimizer=optimizer, loss=loss, metrics=['accuracy'])\n",
    "    \n",
    "    return model"
   ]
  },
  {
   "cell_type": "code",
   "execution_count": 111,
   "id": "0f843c4f",
   "metadata": {},
   "outputs": [],
   "source": [
    "input_size = 299"
   ]
  },
  {
   "cell_type": "code",
   "execution_count": 112,
   "id": "59c784e7",
   "metadata": {},
   "outputs": [
    {
     "name": "stdout",
     "output_type": "stream",
     "text": [
      "Found 3068 images belonging to 10 classes.\n",
      "Found 341 images belonging to 10 classes.\n"
     ]
    }
   ],
   "source": [
    "train_gen = ImageDataGenerator(preprocessing_function=preprocess_input,shear_range=10,zoom_range=0.1,horizontal_flip=True) \n",
    "\n",
    "train_ds = train_gen.flow_from_directory(\"C:\\\\Users\\\\santh\\\\Downloads\\\\clothing-dataset-small-master1/train\",\n",
    "                                        target_size=(input_size,input_size),\n",
    "                                         batch_size=32)\n",
    "\n",
    "\n",
    "val_gen = ImageDataGenerator(preprocessing_function=preprocess_input) \n",
    "val_ds = val_gen.flow_from_directory(\"C:\\\\Users\\\\santh\\\\Downloads\\\\clothing-dataset-small-master1/validation\",\n",
    "                                        target_size=(input_size,input_size),\n",
    "                                        batch_size=32,\n",
    "                                        shuffle=False)"
   ]
  },
  {
   "cell_type": "code",
   "execution_count": 113,
   "id": "f269e137",
   "metadata": {},
   "outputs": [],
   "source": [
    "checkpoint = keras.callbacks.ModelCheckpoint(\n",
    "        'xception_v6_{epoch:02d}_{val_accuracy:.3f}.h5',\n",
    "        save_best_only=True,monitor = 'val_accuracy',\n",
    "        mode='max')"
   ]
  },
  {
   "cell_type": "code",
   "execution_count": 115,
   "id": "1e34cf4f",
   "metadata": {
    "scrolled": true
   },
   "outputs": [
    {
     "name": "stdout",
     "output_type": "stream",
     "text": [
      "Epoch 1/15\n",
      "96/96 [==============================] - 264s 3s/step - loss: 0.9788 - accuracy: 0.6923 - val_loss: 0.5352 - val_accuracy: 0.8299\n",
      "Epoch 2/15\n",
      "96/96 [==============================] - 257s 3s/step - loss: 0.5198 - accuracy: 0.8250 - val_loss: 0.4330 - val_accuracy: 0.8622\n",
      "Epoch 3/15\n",
      "96/96 [==============================] - 259s 3s/step - loss: 0.4338 - accuracy: 0.8514 - val_loss: 0.3894 - val_accuracy: 0.8739\n",
      "Epoch 4/15\n",
      "96/96 [==============================] - 257s 3s/step - loss: 0.3741 - accuracy: 0.8703 - val_loss: 0.3646 - val_accuracy: 0.8651\n",
      "Epoch 5/15\n",
      "96/96 [==============================] - 256s 3s/step - loss: 0.3404 - accuracy: 0.8801 - val_loss: 0.3787 - val_accuracy: 0.8739\n",
      "Epoch 6/15\n",
      "96/96 [==============================] - 257s 3s/step - loss: 0.3131 - accuracy: 0.8911 - val_loss: 0.3577 - val_accuracy: 0.8856\n",
      "Epoch 7/15\n",
      "96/96 [==============================] - 257s 3s/step - loss: 0.2900 - accuracy: 0.9045 - val_loss: 0.3573 - val_accuracy: 0.8739\n",
      "Epoch 8/15\n",
      "96/96 [==============================] - 257s 3s/step - loss: 0.2669 - accuracy: 0.9104 - val_loss: 0.3540 - val_accuracy: 0.8915\n",
      "Epoch 9/15\n",
      "96/96 [==============================] - 257s 3s/step - loss: 0.2399 - accuracy: 0.9185 - val_loss: 0.3681 - val_accuracy: 0.8680\n",
      "Epoch 10/15\n",
      "96/96 [==============================] - 257s 3s/step - loss: 0.2290 - accuracy: 0.9270 - val_loss: 0.3728 - val_accuracy: 0.8827\n",
      "Epoch 11/15\n",
      "96/96 [==============================] - 257s 3s/step - loss: 0.2154 - accuracy: 0.9241 - val_loss: 0.3586 - val_accuracy: 0.8739\n",
      "Epoch 12/15\n",
      "96/96 [==============================] - 256s 3s/step - loss: 0.2253 - accuracy: 0.9179 - val_loss: 0.3650 - val_accuracy: 0.8768\n",
      "Epoch 13/15\n",
      "96/96 [==============================] - 265s 3s/step - loss: 0.2105 - accuracy: 0.9257 - val_loss: 0.3610 - val_accuracy: 0.8798\n",
      "Epoch 14/15\n",
      "96/96 [==============================] - 272s 3s/step - loss: 0.1903 - accuracy: 0.9325 - val_loss: 0.3822 - val_accuracy: 0.8739\n",
      "Epoch 15/15\n",
      "96/96 [==============================] - 271s 3s/step - loss: 0.1820 - accuracy: 0.9394 - val_loss: 0.3698 - val_accuracy: 0.8827\n"
     ]
    }
   ],
   "source": [
    "learning_rate = 0.0005\n",
    "size = 100\n",
    "droprate = 0.2\n",
    "\n",
    "model = make_model(learning_rate=learning_rate,\n",
    "                   input_size=299,\n",
    "                   size_inner=size,\n",
    "                   droprate=droprate)\n",
    "    \n",
    "history = model.fit(train_ds, epochs=15, validation_data=val_ds,callbacks=[checkpoint])"
   ]
  },
  {
   "cell_type": "markdown",
   "id": "1444ac55",
   "metadata": {},
   "source": [
    "## Using the Model"
   ]
  },
  {
   "cell_type": "code",
   "execution_count": 116,
   "id": "45e977c4",
   "metadata": {},
   "outputs": [],
   "source": [
    "model = keras.models.load_model('xception_v6_08_0.891.h5')"
   ]
  },
  {
   "cell_type": "code",
   "execution_count": 117,
   "id": "0207cd5a",
   "metadata": {},
   "outputs": [],
   "source": [
    "from tensorflow.keras.preprocessing.image import ImageDataGenerator\n",
    "from tensorflow.keras.applications.xception import preprocess_input"
   ]
  },
  {
   "cell_type": "code",
   "execution_count": 118,
   "id": "5ba7af9b",
   "metadata": {},
   "outputs": [
    {
     "name": "stdout",
     "output_type": "stream",
     "text": [
      "Found 372 images belonging to 10 classes.\n"
     ]
    }
   ],
   "source": [
    "test_gen = ImageDataGenerator(preprocessing_function=preprocess_input) \n",
    "\n",
    "test_ds = val_gen.flow_from_directory(\"C:\\\\Users\\\\santh\\\\Downloads\\\\clothing-dataset-small-master1/test\",\n",
    "                                        target_size=(299,299),batch_size=32,shuffle=False)"
   ]
  },
  {
   "cell_type": "code",
   "execution_count": 119,
   "id": "bb31456e",
   "metadata": {},
   "outputs": [
    {
     "name": "stdout",
     "output_type": "stream",
     "text": [
      "12/12 [==============================] - 30s 2s/step - loss: 0.2749 - accuracy: 0.8925\n"
     ]
    },
    {
     "data": {
      "text/plain": [
       "[0.2748715281486511, 0.8924731016159058]"
      ]
     },
     "execution_count": 119,
     "metadata": {},
     "output_type": "execute_result"
    }
   ],
   "source": [
    "model.evaluate(test_ds)"
   ]
  },
  {
   "cell_type": "code",
   "execution_count": 151,
   "id": "068f6a4c",
   "metadata": {},
   "outputs": [],
   "source": [
    "import tensorflow as tf\n",
    "from tensorflow import keras\n",
    "\n",
    "from tensorflow.keras.preprocessing.image import ImageDataGenerator\n",
    "from tensorflow.keras.preprocessing.image import load_img\n",
    "\n",
    "from tensorflow.keras.applications.xception import preprocess_input"
   ]
  },
  {
   "cell_type": "code",
   "execution_count": 162,
   "id": "49b9faba",
   "metadata": {},
   "outputs": [],
   "source": [
    "path1 = \"C:\\\\Users\\\\santh\\\\Downloads\\\\clothing-dataset-small-master1/test/t-shirt/2cc6e505-1a89-42e0-8177-017118117027.jpg\""
   ]
  },
  {
   "cell_type": "code",
   "execution_count": 163,
   "id": "f6cef888",
   "metadata": {},
   "outputs": [
    {
     "data": {
      "image/png": "[encoded data removed]",
      "text/plain": [
       "<PIL.Image.Image image mode=RGB size=150x150 at 0x2810FE27490>"
      ]
     },
     "execution_count": 163,
     "metadata": {},
     "output_type": "execute_result"
    }
   ],
   "source": [
    "load_img(path1, target_size=(150,150))"
   ]
  },
  {
   "cell_type": "code",
   "execution_count": 164,
   "id": "546d4977",
   "metadata": {},
   "outputs": [
    {
     "data": {
      "text/plain": [
       "(1, 299, 299, 3)"
      ]
     },
     "execution_count": 164,
     "metadata": {},
     "output_type": "execute_result"
    }
   ],
   "source": [
    "x1 = np.array(img)\n",
    "X1 = np.array([x1])\n",
    "X1.shape"
   ]
  },
  {
   "cell_type": "code",
   "execution_count": 165,
   "id": "32f500db",
   "metadata": {},
   "outputs": [],
   "source": [
    "X1 = preprocess_input(X1)"
   ]
  },
  {
   "cell_type": "code",
   "execution_count": 166,
   "id": "f63f6a38",
   "metadata": {},
   "outputs": [
    {
     "name": "stdout",
     "output_type": "stream",
     "text": [
      "1/1 [==============================] - 0s 104ms/step\n"
     ]
    }
   ],
   "source": [
    "pred1 = model.predict(X1)"
   ]
  },
  {
   "cell_type": "code",
   "execution_count": 167,
   "id": "7c2cee12",
   "metadata": {},
   "outputs": [],
   "source": [
    "classes = [\n",
    "        'dress',\n",
    "        'hat',\n",
    "        'longsleeve',\n",
    "        'outwear',\n",
    "        'pants',\n",
    "        'shirt',\n",
    "        'shoes',\n",
    "        'shorts',\n",
    "        'skirt',\n",
    "        't-shirt'\n",
    "]"
   ]
  },
  {
   "cell_type": "code",
   "execution_count": 168,
   "id": "31764b5a",
   "metadata": {},
   "outputs": [
    {
     "data": {
      "text/plain": [
       "{'dress': 1.8179438,\n",
       " 'hat': -2.065715,\n",
       " 'longsleeve': 3.3919392,\n",
       " 'outwear': -2.190077,\n",
       " 'pants': -4.3776217,\n",
       " 'shirt': 0.231689,\n",
       " 'shoes': -3.9589014,\n",
       " 'shorts': -2.5379896,\n",
       " 'skirt': -1.8926289,\n",
       " 't-shirt': 5.65667}"
      ]
     },
     "execution_count": 168,
     "metadata": {},
     "output_type": "execute_result"
    }
   ],
   "source": [
    "dict(zip(classes,pred1[0]))"
   ]
  },
  {
   "cell_type": "code",
   "execution_count": null,
   "id": "7293ab56",
   "metadata": {},
   "outputs": [],
   "source": []
  },
  {
   "cell_type": "code",
   "execution_count": null,
   "id": "1cb02313",
   "metadata": {},
   "outputs": [],
   "source": []
  }
 ],
 "metadata": {
  "kernelspec": {
   "display_name": "Python 3 (ipykernel)",
   "language": "python",
   "name": "python3"
  },
  "language_info": {
   "codemirror_mode": {
    "name": "ipython",
    "version": 3
   },
   "file_extension": ".py",
   "mimetype": "text/x-python",
   "name": "python",
   "nbconvert_exporter": "python",
   "pygments_lexer": "ipython3",
   "version": "3.9.12"
  }
 },
 "nbformat": 4,
 "nbformat_minor": 5
}
